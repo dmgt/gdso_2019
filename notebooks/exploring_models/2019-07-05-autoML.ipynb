{
 "cells": [
  {
   "cell_type": "code",
   "execution_count": 2,
   "metadata": {},
   "outputs": [],
   "source": [
    "# Based on  tutorial https://github.com/h2oai/h2o-tutorials/blob/master/h2o-world-2017/automl/Python/automl_regression_powerplant_output.ipynb\n",
    "# Try to rerun model \n",
    "\n",
    "import pandas as pd\n",
    "import numpy as np\n",
    "import matplotlib.pyplot as plt\n",
    "%matplotlib inline\n"
   ]
  },
  {
   "cell_type": "code",
   "execution_count": 17,
   "metadata": {},
   "outputs": [
    {
     "name": "stdout",
     "output_type": "stream",
     "text": [
      "Checking whether there is an H2O instance running at http://localhost:54321 ..... not found.\n",
      "Attempting to start a local H2O server...\n",
      "; Java HotSpot(TM) Client VM (build 25.221-b11, mixed mode)\n"
     ]
    },
    {
     "name": "stderr",
     "output_type": "stream",
     "text": [
      "C:\\Users\\dmmma\\Anaconda3\\lib\\site-packages\\h2o\\backend\\server.py:369: UserWarning:   You have a 32-bit version of Java. H2O works best with 64-bit Java.\n",
      "  Please download the latest 64-bit Java SE JDK from Oracle.\n",
      "\n",
      "  warn(\"  You have a 32-bit version of Java. H2O works best with 64-bit Java.\\n\"\n"
     ]
    },
    {
     "name": "stdout",
     "output_type": "stream",
     "text": [
      "  Starting server from C:\\Users\\dmmma\\Anaconda3\\lib\\site-packages\\h2o\\backend\\bin\\h2o.jar\n",
      "  Ice root: C:\\Users\\dmmma\\AppData\\Local\\Temp\\tmpn56p23nd\n",
      "  JVM stdout: C:\\Users\\dmmma\\AppData\\Local\\Temp\\tmpn56p23nd\\h2o_dmmma_started_from_python.out\n",
      "  JVM stderr: C:\\Users\\dmmma\\AppData\\Local\\Temp\\tmpn56p23nd\\h2o_dmmma_started_from_python.err\n",
      "  Server is running at http://127.0.0.1:54323\n",
      "Connecting to H2O server at http://127.0.0.1:54323 ... successful.\n"
     ]
    },
    {
     "data": {
      "text/html": [
       "<div style=\"overflow:auto\"><table style=\"width:50%\"><tr><td>H2O cluster uptime:</td>\n",
       "<td>04 secs</td></tr>\n",
       "<tr><td>H2O cluster timezone:</td>\n",
       "<td>America/Los_Angeles</td></tr>\n",
       "<tr><td>H2O data parsing timezone:</td>\n",
       "<td>UTC</td></tr>\n",
       "<tr><td>H2O cluster version:</td>\n",
       "<td>3.26.0.2</td></tr>\n",
       "<tr><td>H2O cluster version age:</td>\n",
       "<td>19 days </td></tr>\n",
       "<tr><td>H2O cluster name:</td>\n",
       "<td>H2O_from_python_dmmma_c6eoe9</td></tr>\n",
       "<tr><td>H2O cluster total nodes:</td>\n",
       "<td>1</td></tr>\n",
       "<tr><td>H2O cluster free memory:</td>\n",
       "<td>247.5 Mb</td></tr>\n",
       "<tr><td>H2O cluster total cores:</td>\n",
       "<td>8</td></tr>\n",
       "<tr><td>H2O cluster allowed cores:</td>\n",
       "<td>8</td></tr>\n",
       "<tr><td>H2O cluster status:</td>\n",
       "<td>accepting new members, healthy</td></tr>\n",
       "<tr><td>H2O connection url:</td>\n",
       "<td>http://127.0.0.1:54323</td></tr>\n",
       "<tr><td>H2O connection proxy:</td>\n",
       "<td>None</td></tr>\n",
       "<tr><td>H2O internal security:</td>\n",
       "<td>False</td></tr>\n",
       "<tr><td>H2O API Extensions:</td>\n",
       "<td>Amazon S3, Algos, AutoML, Core V3, Core V4</td></tr>\n",
       "<tr><td>Python version:</td>\n",
       "<td>3.7.3 final</td></tr></table></div>"
      ],
      "text/plain": [
       "--------------------------  ------------------------------------------\n",
       "H2O cluster uptime:         04 secs\n",
       "H2O cluster timezone:       America/Los_Angeles\n",
       "H2O data parsing timezone:  UTC\n",
       "H2O cluster version:        3.26.0.2\n",
       "H2O cluster version age:    19 days\n",
       "H2O cluster name:           H2O_from_python_dmmma_c6eoe9\n",
       "H2O cluster total nodes:    1\n",
       "H2O cluster free memory:    247.5 Mb\n",
       "H2O cluster total cores:    8\n",
       "H2O cluster allowed cores:  8\n",
       "H2O cluster status:         accepting new members, healthy\n",
       "H2O connection url:         http://127.0.0.1:54323\n",
       "H2O connection proxy:\n",
       "H2O internal security:      False\n",
       "H2O API Extensions:         Amazon S3, Algos, AutoML, Core V3, Core V4\n",
       "Python version:             3.7.3 final\n",
       "--------------------------  ------------------------------------------"
      ]
     },
     "metadata": {},
     "output_type": "display_data"
    }
   ],
   "source": [
    "# Needed to install Java JRE https://www.java.com/en/download/win10.jsp \n",
    "import h2o \n",
    "from h2o.automl import H2OAutoML\n",
    "h2o.init()"
   ]
  },
  {
   "cell_type": "markdown",
   "metadata": {},
   "source": [
    "### Load data"
   ]
  },
  {
   "cell_type": "code",
   "execution_count": 6,
   "metadata": {},
   "outputs": [],
   "source": [
    "# Setting 'parse_dates' in this case parses both dates and times\n",
    "# These files are too large to commit so they're uploaded locally under `/exploring_models` but not pushed\n",
    "train_raw = pd.read_csv('weather1_education_train.csv', parse_dates = ['timestamp'])\n",
    "val_raw = pd.read_csv('weather1_education_test.csv', parse_dates = ['timestamp'])"
   ]
  },
  {
   "cell_type": "code",
   "execution_count": 15,
   "metadata": {},
   "outputs": [
    {
     "data": {
      "text/html": [
       "<div>\n",
       "<style scoped>\n",
       "    .dataframe tbody tr th:only-of-type {\n",
       "        vertical-align: middle;\n",
       "    }\n",
       "\n",
       "    .dataframe tbody tr th {\n",
       "        vertical-align: top;\n",
       "    }\n",
       "\n",
       "    .dataframe thead th {\n",
       "        text-align: right;\n",
       "    }\n",
       "</style>\n",
       "<table border=\"1\" class=\"dataframe\">\n",
       "  <thead>\n",
       "    <tr style=\"text-align: right;\">\n",
       "      <th></th>\n",
       "      <th>area</th>\n",
       "      <th>electricity</th>\n",
       "      <th>TemperatureC</th>\n",
       "      <th>month_1</th>\n",
       "      <th>month_2</th>\n",
       "      <th>month_3</th>\n",
       "      <th>month_4</th>\n",
       "      <th>month_5</th>\n",
       "      <th>month_6</th>\n",
       "      <th>month_7</th>\n",
       "      <th>...</th>\n",
       "      <th>hour_23</th>\n",
       "      <th>wkday_0</th>\n",
       "      <th>wkday_1</th>\n",
       "      <th>wkday_2</th>\n",
       "      <th>wkday_3</th>\n",
       "      <th>wkday_4</th>\n",
       "      <th>wkday_5</th>\n",
       "      <th>wkday_6</th>\n",
       "      <th>PSU_PrimClass</th>\n",
       "      <th>PSU_UnivClass</th>\n",
       "    </tr>\n",
       "  </thead>\n",
       "  <tbody>\n",
       "    <tr>\n",
       "      <th>0</th>\n",
       "      <td>2777.0</td>\n",
       "      <td>5.0</td>\n",
       "      <td>7.0</td>\n",
       "      <td>0</td>\n",
       "      <td>0</td>\n",
       "      <td>0</td>\n",
       "      <td>0</td>\n",
       "      <td>0</td>\n",
       "      <td>0</td>\n",
       "      <td>0</td>\n",
       "      <td>...</td>\n",
       "      <td>0</td>\n",
       "      <td>1</td>\n",
       "      <td>0</td>\n",
       "      <td>0</td>\n",
       "      <td>0</td>\n",
       "      <td>0</td>\n",
       "      <td>0</td>\n",
       "      <td>0</td>\n",
       "      <td>1</td>\n",
       "      <td>0</td>\n",
       "    </tr>\n",
       "    <tr>\n",
       "      <th>1</th>\n",
       "      <td>2777.0</td>\n",
       "      <td>5.2</td>\n",
       "      <td>5.0</td>\n",
       "      <td>0</td>\n",
       "      <td>0</td>\n",
       "      <td>0</td>\n",
       "      <td>0</td>\n",
       "      <td>0</td>\n",
       "      <td>0</td>\n",
       "      <td>0</td>\n",
       "      <td>...</td>\n",
       "      <td>0</td>\n",
       "      <td>1</td>\n",
       "      <td>0</td>\n",
       "      <td>0</td>\n",
       "      <td>0</td>\n",
       "      <td>0</td>\n",
       "      <td>0</td>\n",
       "      <td>0</td>\n",
       "      <td>1</td>\n",
       "      <td>0</td>\n",
       "    </tr>\n",
       "    <tr>\n",
       "      <th>2</th>\n",
       "      <td>2777.0</td>\n",
       "      <td>5.2</td>\n",
       "      <td>5.0</td>\n",
       "      <td>0</td>\n",
       "      <td>0</td>\n",
       "      <td>0</td>\n",
       "      <td>0</td>\n",
       "      <td>0</td>\n",
       "      <td>0</td>\n",
       "      <td>0</td>\n",
       "      <td>...</td>\n",
       "      <td>0</td>\n",
       "      <td>1</td>\n",
       "      <td>0</td>\n",
       "      <td>0</td>\n",
       "      <td>0</td>\n",
       "      <td>0</td>\n",
       "      <td>0</td>\n",
       "      <td>0</td>\n",
       "      <td>1</td>\n",
       "      <td>0</td>\n",
       "    </tr>\n",
       "    <tr>\n",
       "      <th>3</th>\n",
       "      <td>2777.0</td>\n",
       "      <td>5.5</td>\n",
       "      <td>6.0</td>\n",
       "      <td>0</td>\n",
       "      <td>0</td>\n",
       "      <td>0</td>\n",
       "      <td>0</td>\n",
       "      <td>0</td>\n",
       "      <td>0</td>\n",
       "      <td>0</td>\n",
       "      <td>...</td>\n",
       "      <td>0</td>\n",
       "      <td>1</td>\n",
       "      <td>0</td>\n",
       "      <td>0</td>\n",
       "      <td>0</td>\n",
       "      <td>0</td>\n",
       "      <td>0</td>\n",
       "      <td>0</td>\n",
       "      <td>1</td>\n",
       "      <td>0</td>\n",
       "    </tr>\n",
       "    <tr>\n",
       "      <th>4</th>\n",
       "      <td>2777.0</td>\n",
       "      <td>6.0</td>\n",
       "      <td>7.0</td>\n",
       "      <td>0</td>\n",
       "      <td>0</td>\n",
       "      <td>0</td>\n",
       "      <td>0</td>\n",
       "      <td>0</td>\n",
       "      <td>0</td>\n",
       "      <td>0</td>\n",
       "      <td>...</td>\n",
       "      <td>0</td>\n",
       "      <td>1</td>\n",
       "      <td>0</td>\n",
       "      <td>0</td>\n",
       "      <td>0</td>\n",
       "      <td>0</td>\n",
       "      <td>0</td>\n",
       "      <td>0</td>\n",
       "      <td>1</td>\n",
       "      <td>0</td>\n",
       "    </tr>\n",
       "  </tbody>\n",
       "</table>\n",
       "<p>5 rows × 79 columns</p>\n",
       "</div>"
      ],
      "text/plain": [
       "     area  electricity  TemperatureC  month_1  month_2  month_3  month_4  \\\n",
       "0  2777.0          5.0           7.0        0        0        0        0   \n",
       "1  2777.0          5.2           5.0        0        0        0        0   \n",
       "2  2777.0          5.2           5.0        0        0        0        0   \n",
       "3  2777.0          5.5           6.0        0        0        0        0   \n",
       "4  2777.0          6.0           7.0        0        0        0        0   \n",
       "\n",
       "   month_5  month_6  month_7  ...  hour_23  wkday_0  wkday_1  wkday_2  \\\n",
       "0        0        0        0  ...        0        1        0        0   \n",
       "1        0        0        0  ...        0        1        0        0   \n",
       "2        0        0        0  ...        0        1        0        0   \n",
       "3        0        0        0  ...        0        1        0        0   \n",
       "4        0        0        0  ...        0        1        0        0   \n",
       "\n",
       "   wkday_3  wkday_4  wkday_5  wkday_6  PSU_PrimClass  PSU_UnivClass  \n",
       "0        0        0        0        0              1              0  \n",
       "1        0        0        0        0              1              0  \n",
       "2        0        0        0        0              1              0  \n",
       "3        0        0        0        0              1              0  \n",
       "4        0        0        0        0              1              0  \n",
       "\n",
       "[5 rows x 79 columns]"
      ]
     },
     "execution_count": 15,
     "metadata": {},
     "output_type": "execute_result"
    }
   ],
   "source": [
    "train_data = train_raw.drop([ 'building_name', 'primary_space_usage', 'hour', 'year', 'month','weekday', 'date', 'timestamp', 'Unnamed: 0'], axis=1)\n",
    "val_data = val_raw.drop([ 'building_name', 'primary_space_usage', 'hour', 'year', 'month','weekday', 'date', 'timestamp', 'Unnamed: 0'], axis=1)\n",
    "\n",
    "train_data.head()\n"
   ]
  },
  {
   "cell_type": "code",
   "execution_count": 16,
   "metadata": {},
   "outputs": [
    {
     "data": {
      "text/html": [
       "<div>\n",
       "<style scoped>\n",
       "    .dataframe tbody tr th:only-of-type {\n",
       "        vertical-align: middle;\n",
       "    }\n",
       "\n",
       "    .dataframe tbody tr th {\n",
       "        vertical-align: top;\n",
       "    }\n",
       "\n",
       "    .dataframe thead th {\n",
       "        text-align: right;\n",
       "    }\n",
       "</style>\n",
       "<table border=\"1\" class=\"dataframe\">\n",
       "  <thead>\n",
       "    <tr style=\"text-align: right;\">\n",
       "      <th></th>\n",
       "      <th>area</th>\n",
       "      <th>electricity</th>\n",
       "      <th>TemperatureC</th>\n",
       "      <th>month_1</th>\n",
       "      <th>month_2</th>\n",
       "      <th>month_3</th>\n",
       "      <th>month_4</th>\n",
       "      <th>month_5</th>\n",
       "      <th>month_6</th>\n",
       "      <th>month_7</th>\n",
       "      <th>...</th>\n",
       "      <th>hour_23</th>\n",
       "      <th>wkday_0</th>\n",
       "      <th>wkday_1</th>\n",
       "      <th>wkday_2</th>\n",
       "      <th>wkday_3</th>\n",
       "      <th>wkday_4</th>\n",
       "      <th>wkday_5</th>\n",
       "      <th>wkday_6</th>\n",
       "      <th>PSU_PrimClass</th>\n",
       "      <th>PSU_UnivClass</th>\n",
       "    </tr>\n",
       "  </thead>\n",
       "  <tbody>\n",
       "    <tr>\n",
       "      <th>0</th>\n",
       "      <td>6149.0</td>\n",
       "      <td>34.900002</td>\n",
       "      <td>7.0</td>\n",
       "      <td>0</td>\n",
       "      <td>0</td>\n",
       "      <td>0</td>\n",
       "      <td>0</td>\n",
       "      <td>0</td>\n",
       "      <td>0</td>\n",
       "      <td>0</td>\n",
       "      <td>...</td>\n",
       "      <td>0</td>\n",
       "      <td>1</td>\n",
       "      <td>0</td>\n",
       "      <td>0</td>\n",
       "      <td>0</td>\n",
       "      <td>0</td>\n",
       "      <td>0</td>\n",
       "      <td>0</td>\n",
       "      <td>1</td>\n",
       "      <td>0</td>\n",
       "    </tr>\n",
       "    <tr>\n",
       "      <th>1</th>\n",
       "      <td>6149.0</td>\n",
       "      <td>32.700000</td>\n",
       "      <td>5.0</td>\n",
       "      <td>0</td>\n",
       "      <td>0</td>\n",
       "      <td>0</td>\n",
       "      <td>0</td>\n",
       "      <td>0</td>\n",
       "      <td>0</td>\n",
       "      <td>0</td>\n",
       "      <td>...</td>\n",
       "      <td>0</td>\n",
       "      <td>1</td>\n",
       "      <td>0</td>\n",
       "      <td>0</td>\n",
       "      <td>0</td>\n",
       "      <td>0</td>\n",
       "      <td>0</td>\n",
       "      <td>0</td>\n",
       "      <td>1</td>\n",
       "      <td>0</td>\n",
       "    </tr>\n",
       "    <tr>\n",
       "      <th>2</th>\n",
       "      <td>6149.0</td>\n",
       "      <td>32.200000</td>\n",
       "      <td>5.0</td>\n",
       "      <td>0</td>\n",
       "      <td>0</td>\n",
       "      <td>0</td>\n",
       "      <td>0</td>\n",
       "      <td>0</td>\n",
       "      <td>0</td>\n",
       "      <td>0</td>\n",
       "      <td>...</td>\n",
       "      <td>0</td>\n",
       "      <td>1</td>\n",
       "      <td>0</td>\n",
       "      <td>0</td>\n",
       "      <td>0</td>\n",
       "      <td>0</td>\n",
       "      <td>0</td>\n",
       "      <td>0</td>\n",
       "      <td>1</td>\n",
       "      <td>0</td>\n",
       "    </tr>\n",
       "    <tr>\n",
       "      <th>3</th>\n",
       "      <td>6149.0</td>\n",
       "      <td>32.300000</td>\n",
       "      <td>6.0</td>\n",
       "      <td>0</td>\n",
       "      <td>0</td>\n",
       "      <td>0</td>\n",
       "      <td>0</td>\n",
       "      <td>0</td>\n",
       "      <td>0</td>\n",
       "      <td>0</td>\n",
       "      <td>...</td>\n",
       "      <td>0</td>\n",
       "      <td>1</td>\n",
       "      <td>0</td>\n",
       "      <td>0</td>\n",
       "      <td>0</td>\n",
       "      <td>0</td>\n",
       "      <td>0</td>\n",
       "      <td>0</td>\n",
       "      <td>1</td>\n",
       "      <td>0</td>\n",
       "    </tr>\n",
       "    <tr>\n",
       "      <th>4</th>\n",
       "      <td>6149.0</td>\n",
       "      <td>32.599998</td>\n",
       "      <td>7.0</td>\n",
       "      <td>0</td>\n",
       "      <td>0</td>\n",
       "      <td>0</td>\n",
       "      <td>0</td>\n",
       "      <td>0</td>\n",
       "      <td>0</td>\n",
       "      <td>0</td>\n",
       "      <td>...</td>\n",
       "      <td>0</td>\n",
       "      <td>1</td>\n",
       "      <td>0</td>\n",
       "      <td>0</td>\n",
       "      <td>0</td>\n",
       "      <td>0</td>\n",
       "      <td>0</td>\n",
       "      <td>0</td>\n",
       "      <td>1</td>\n",
       "      <td>0</td>\n",
       "    </tr>\n",
       "  </tbody>\n",
       "</table>\n",
       "<p>5 rows × 79 columns</p>\n",
       "</div>"
      ],
      "text/plain": [
       "     area  electricity  TemperatureC  month_1  month_2  month_3  month_4  \\\n",
       "0  6149.0    34.900002           7.0        0        0        0        0   \n",
       "1  6149.0    32.700000           5.0        0        0        0        0   \n",
       "2  6149.0    32.200000           5.0        0        0        0        0   \n",
       "3  6149.0    32.300000           6.0        0        0        0        0   \n",
       "4  6149.0    32.599998           7.0        0        0        0        0   \n",
       "\n",
       "   month_5  month_6  month_7  ...  hour_23  wkday_0  wkday_1  wkday_2  \\\n",
       "0        0        0        0  ...        0        1        0        0   \n",
       "1        0        0        0  ...        0        1        0        0   \n",
       "2        0        0        0  ...        0        1        0        0   \n",
       "3        0        0        0  ...        0        1        0        0   \n",
       "4        0        0        0  ...        0        1        0        0   \n",
       "\n",
       "   wkday_3  wkday_4  wkday_5  wkday_6  PSU_PrimClass  PSU_UnivClass  \n",
       "0        0        0        0        0              1              0  \n",
       "1        0        0        0        0              1              0  \n",
       "2        0        0        0        0              1              0  \n",
       "3        0        0        0        0              1              0  \n",
       "4        0        0        0        0              1              0  \n",
       "\n",
       "[5 rows x 79 columns]"
      ]
     },
     "execution_count": 16,
     "metadata": {},
     "output_type": "execute_result"
    }
   ],
   "source": [
    "val_data.head()"
   ]
  },
  {
   "cell_type": "markdown",
   "metadata": {},
   "source": [
    "### Fit a model"
   ]
  },
  {
   "cell_type": "code",
   "execution_count": 18,
   "metadata": {},
   "outputs": [
    {
     "name": "stdout",
     "output_type": "stream",
     "text": [
      "Parse progress: |█████████████████████████████████████████████████████████| 100%\n",
      "Parse progress: |█████████████████████████████████████████████████████████| 100%\n"
     ]
    }
   ],
   "source": [
    "# Using one train/val split, not walk-forward cross-val\n",
    "# In h2o, if using all other cols for x, don't have to explicitly specify\n",
    "# Takes > 1 min to run\n",
    "\n",
    "# Must be formatted as h2o frames http://docs.h2o.ai/h2o/latest-stable/h2o-py/docs/frame.html\n",
    "train =  h2o.H2OFrame(train_data)\n",
    "test = h2o.H2OFrame(val_data)\n"
   ]
  },
  {
   "cell_type": "code",
   "execution_count": 26,
   "metadata": {},
   "outputs": [
    {
     "data": {
      "text/plain": [
       "['area',\n",
       " 'electricity',\n",
       " 'TemperatureC',\n",
       " 'month_1',\n",
       " 'month_2',\n",
       " 'month_3',\n",
       " 'month_4',\n",
       " 'month_5',\n",
       " 'month_6',\n",
       " 'month_7']"
      ]
     },
     "execution_count": 26,
     "metadata": {},
     "output_type": "execute_result"
    }
   ],
   "source": [
    "train.columns[:10]"
   ]
  },
  {
   "cell_type": "code",
   "execution_count": 27,
   "metadata": {},
   "outputs": [],
   "source": [
    "# In past, running for 60 s only fit one model (GLM), 3 min fit 3 (GLM, GBM, and Stacked Ensemble)\n",
    "y = 'electricity'\n",
    "x = list(train.columns)\n",
    "x.remove(y)\n"
   ]
  },
  {
   "cell_type": "code",
   "execution_count": 32,
   "metadata": {},
   "outputs": [
    {
     "name": "stdout",
     "output_type": "stream",
     "text": [
      "AutoML progress: |████████████████████████████████████████████████████████| 100%\n"
     ]
    }
   ],
   "source": [
    "aml =  H2OAutoML(max_runtime_secs = 60*5, seed = 1)\n",
    "aml.train(x = x, y = y, training_frame = train) \n",
    "# https://h2o-release.s3.amazonaws.com/h2o/rel-xia/1/docs-website/h2o-docs/automl.html\n",
    "# \"If the user doesn’t specify a validation_frame, then one will be created automatically by randomly partitioning the training data\""
   ]
  },
  {
   "cell_type": "code",
   "execution_count": 33,
   "metadata": {
    "scrolled": true
   },
   "outputs": [
    {
     "data": {
      "text/html": [
       "<table>\n",
       "<thead>\n",
       "<tr><th>model_id                                 </th><th style=\"text-align: right;\">  mean_residual_deviance</th><th style=\"text-align: right;\">   rmse</th><th style=\"text-align: right;\">    mse</th><th style=\"text-align: right;\">   mae</th><th style=\"text-align: right;\">  rmsle</th></tr>\n",
       "</thead>\n",
       "<tbody>\n",
       "<tr><td>GLM_grid_1_AutoML_20190815_155034_model_1</td><td style=\"text-align: right;\">                 901.617</td><td style=\"text-align: right;\">30.0269</td><td style=\"text-align: right;\">901.617</td><td style=\"text-align: right;\">18.622</td><td style=\"text-align: right;\">1.26586</td></tr>\n",
       "</tbody>\n",
       "</table>"
      ]
     },
     "metadata": {},
     "output_type": "display_data"
    },
    {
     "data": {
      "text/plain": []
     },
     "execution_count": 33,
     "metadata": {},
     "output_type": "execute_result"
    }
   ],
   "source": [
    "aml.leaderboard.head()"
   ]
  },
  {
   "cell_type": "code",
   "execution_count": 36,
   "metadata": {},
   "outputs": [
    {
     "name": "stdout",
     "output_type": "stream",
     "text": [
      "Model Details\n",
      "=============\n",
      "H2OGeneralizedLinearEstimator :  Generalized Linear Modeling\n",
      "Model Key:  GLM_grid_1_AutoML_20190815_155034_model_1\n",
      "\n",
      "GLM Model: summary\n",
      "\n"
     ]
    },
    {
     "data": {
      "text/html": [
       "<div style=\"overflow:auto\"><table style=\"width:50%\"><tr><td><b></b></td>\n",
       "<td><b>family</b></td>\n",
       "<td><b>link</b></td>\n",
       "<td><b>regularization</b></td>\n",
       "<td><b>lambda_search</b></td>\n",
       "<td><b>number_of_predictors_total</b></td>\n",
       "<td><b>number_of_active_predictors</b></td>\n",
       "<td><b>number_of_iterations</b></td>\n",
       "<td><b>training_frame</b></td></tr>\n",
       "<tr><td></td>\n",
       "<td>gaussian</td>\n",
       "<td>identity</td>\n",
       "<td>Ridge ( lambda = 74.835 )</td>\n",
       "<td>nlambda = 30, lambda.max = 2100.8, lambda.min = 74.835, lambda.1se = 74.835</td>\n",
       "<td>78</td>\n",
       "<td>78</td>\n",
       "<td>9</td>\n",
       "<td>automl_training_Key_Frame__upload_91d9561e91273f3ca426d42c2cb640b8.hex</td></tr></table></div>"
      ],
      "text/plain": [
       "    family    link      regularization             lambda_search                                                                number_of_predictors_total    number_of_active_predictors    number_of_iterations    training_frame\n",
       "--  --------  --------  -------------------------  ---------------------------------------------------------------------------  ----------------------------  -----------------------------  ----------------------  ----------------------------------------------------------------------\n",
       "    gaussian  identity  Ridge ( lambda = 74.835 )  nlambda = 30, lambda.max = 2100.8, lambda.min = 74.835, lambda.1se = 74.835  78                            78                             9                       automl_training_Key_Frame__upload_91d9561e91273f3ca426d42c2cb640b8.hex"
      ]
     },
     "metadata": {},
     "output_type": "display_data"
    },
    {
     "name": "stdout",
     "output_type": "stream",
     "text": [
      "\n",
      "\n",
      "ModelMetricsRegressionGLM: glm\n",
      "** Reported on train data. **\n",
      "\n",
      "MSE: 898.5796696298365\n",
      "RMSE: 29.976318480257653\n",
      "MAE: 18.57536986807332\n",
      "RMSLE: 1.2636314517335303\n",
      "R^2: 0.016932709866141593\n",
      "Mean Residual Deviance: 898.5796696298365\n",
      "Null degrees of freedom: 437849\n",
      "Residual degrees of freedom: 437771\n",
      "Null deviance: 400219916.0688677\n",
      "Residual deviance: 393443108.3474239\n",
      "AIC: 4220461.484107741\n",
      "\n",
      "ModelMetricsRegressionGLM: glm\n",
      "** Reported on cross-validation data. **\n",
      "\n",
      "MSE: 901.6173790901555\n",
      "RMSE: 30.02694421832091\n",
      "MAE: 18.622017728736793\n",
      "RMSLE: 1.2658643864683035\n",
      "R^2: 0.01360938427988967\n",
      "Mean Residual Deviance: 901.6173790901555\n",
      "Null degrees of freedom: 437849\n",
      "Residual degrees of freedom: 437771\n",
      "Null deviance: 400219920.4307822\n",
      "Residual deviance: 394773169.4346246\n",
      "AIC: 4221939.169398433\n",
      "Cross-Validation Metrics Summary: \n"
     ]
    },
    {
     "data": {
      "text/html": [
       "<div style=\"overflow:auto\"><table style=\"width:50%\"><tr><td><b></b></td>\n",
       "<td><b>mean</b></td>\n",
       "<td><b>sd</b></td>\n",
       "<td><b>cv_1_valid</b></td>\n",
       "<td><b>cv_2_valid</b></td>\n",
       "<td><b>cv_3_valid</b></td>\n",
       "<td><b>cv_4_valid</b></td>\n",
       "<td><b>cv_5_valid</b></td></tr>\n",
       "<tr><td>mae</td>\n",
       "<td>18.6889</td>\n",
       "<td>0.0681193</td>\n",
       "<td>18.503267</td>\n",
       "<td>18.690994</td>\n",
       "<td>18.734331</td>\n",
       "<td>18.770947</td>\n",
       "<td>18.744963</td></tr>\n",
       "<tr><td>mean_residual_deviance</td>\n",
       "<td>905.9958</td>\n",
       "<td>5.1672626</td>\n",
       "<td>892.3205</td>\n",
       "<td>904.82526</td>\n",
       "<td>909.91766</td>\n",
       "<td>912.79443</td>\n",
       "<td>910.1213</td></tr>\n",
       "<tr><td>mse</td>\n",
       "<td>905.9958</td>\n",
       "<td>5.1672626</td>\n",
       "<td>892.3205</td>\n",
       "<td>904.82526</td>\n",
       "<td>909.91766</td>\n",
       "<td>912.79443</td>\n",
       "<td>910.1213</td></tr>\n",
       "<tr><td>null_deviance</td>\n",
       "<td>80043984.0000000</td>\n",
       "<td>89050.21</td>\n",
       "<td>79874016.0000000</td>\n",
       "<td>79916616.0000000</td>\n",
       "<td>80106560.0000000</td>\n",
       "<td>8.01982E7</td>\n",
       "<td>80124528.0000000</td></tr>\n",
       "<tr><td>r2</td>\n",
       "<td>0.0088280</td>\n",
       "<td>0.0047032</td>\n",
       "<td>0.0217030</td>\n",
       "<td>0.0085221</td>\n",
       "<td>0.0053063</td>\n",
       "<td>0.0033017</td>\n",
       "<td>0.0053069</td></tr>\n",
       "<tr><td>residual_deviance</td>\n",
       "<td>79338056.0000000</td>\n",
       "<td>452497.2</td>\n",
       "<td>78140504.0000000</td>\n",
       "<td>79235544.0000000</td>\n",
       "<td>79681488.0000000</td>\n",
       "<td>79933408.0000000</td>\n",
       "<td>79699320.0000000</td></tr>\n",
       "<tr><td>rmse</td>\n",
       "<td>30.099518</td>\n",
       "<td>0.0860251</td>\n",
       "<td>29.871735</td>\n",
       "<td>30.080313</td>\n",
       "<td>30.16484</td>\n",
       "<td>30.212488</td>\n",
       "<td>30.168217</td></tr>\n",
       "<tr><td>rmsle</td>\n",
       "<td>1.2690796</td>\n",
       "<td>0.0032268</td>\n",
       "<td>1.2602208</td>\n",
       "<td>1.2693118</td>\n",
       "<td>1.2713462</td>\n",
       "<td>1.2725986</td>\n",
       "<td>1.2719206</td></tr></table></div>"
      ],
      "text/plain": [
       "                        mean         sd          cv_1_valid    cv_2_valid    cv_3_valid    cv_4_valid    cv_5_valid\n",
       "----------------------  -----------  ----------  ------------  ------------  ------------  ------------  ------------\n",
       "mae                     18.6889      0.0681193   18.5033       18.691        18.7343       18.7709       18.745\n",
       "mean_residual_deviance  905.996      5.16726     892.321       904.825       909.918       912.794       910.121\n",
       "mse                     905.996      5.16726     892.321       904.825       909.918       912.794       910.121\n",
       "null_deviance           8.0044e+07   89050.2     7.9874e+07    7.99166e+07   8.01066e+07   8.01982e+07   8.01245e+07\n",
       "r2                      0.00882801   0.0047032   0.021703      0.00852213    0.00530634    0.00330169    0.00530685\n",
       "residual_deviance       7.93381e+07  452497      7.81405e+07   7.92355e+07   7.96815e+07   7.99334e+07   7.96993e+07\n",
       "rmse                    30.0995      0.0860251   29.8717       30.0803       30.1648       30.2125       30.1682\n",
       "rmsle                   1.26908      0.00322684  1.26022       1.26931       1.27135       1.2726        1.27192"
      ]
     },
     "metadata": {},
     "output_type": "display_data"
    },
    {
     "name": "stdout",
     "output_type": "stream",
     "text": [
      "Scoring History: \n"
     ]
    },
    {
     "data": {
      "text/html": [
       "<div style=\"overflow:auto\"><table style=\"width:50%\"><tr><td><b></b></td>\n",
       "<td><b>timestamp</b></td>\n",
       "<td><b>duration</b></td>\n",
       "<td><b>iteration</b></td>\n",
       "<td><b>lambda</b></td>\n",
       "<td><b>predictors</b></td>\n",
       "<td><b>deviance_train</b></td>\n",
       "<td><b>deviance_test</b></td>\n",
       "<td><b>deviance_xval</b></td>\n",
       "<td><b>deviance_se</b></td></tr>\n",
       "<tr><td></td>\n",
       "<td>2019-08-15 15:51:10</td>\n",
       "<td> 0.000 sec</td>\n",
       "<td>1</td>\n",
       "<td>.21E4</td>\n",
       "<td>76</td>\n",
       "<td>913.4931216</td>\n",
       "<td>nan</td>\n",
       "<td>913.6058648</td>\n",
       "<td>0.7189761</td></tr>\n",
       "<tr><td></td>\n",
       "<td>2019-08-15 15:51:10</td>\n",
       "<td> 0.065 sec</td>\n",
       "<td>2</td>\n",
       "<td>.13E4</td>\n",
       "<td>77</td>\n",
       "<td>913.1494122</td>\n",
       "<td>nan</td>\n",
       "<td>913.3307772</td>\n",
       "<td>0.7189256</td></tr>\n",
       "<tr><td></td>\n",
       "<td>2019-08-15 15:51:10</td>\n",
       "<td> 0.139 sec</td>\n",
       "<td>3</td>\n",
       "<td>.81E3</td>\n",
       "<td>77</td>\n",
       "<td>912.5966543</td>\n",
       "<td>nan</td>\n",
       "<td>912.8882653</td>\n",
       "<td>0.7188445</td></tr>\n",
       "<tr><td></td>\n",
       "<td>2019-08-15 15:51:10</td>\n",
       "<td> 0.208 sec</td>\n",
       "<td>4</td>\n",
       "<td>.5E3</td>\n",
       "<td>78</td>\n",
       "<td>911.7084617</td>\n",
       "<td>nan</td>\n",
       "<td>912.1769190</td>\n",
       "<td>0.7187138</td></tr>\n",
       "<tr><td></td>\n",
       "<td>2019-08-15 15:51:10</td>\n",
       "<td> 0.275 sec</td>\n",
       "<td>5</td>\n",
       "<td>.31E3</td>\n",
       "<td>79</td>\n",
       "<td>910.2832189</td>\n",
       "<td>nan</td>\n",
       "<td>911.0345970</td>\n",
       "<td>0.7185036</td></tr>\n",
       "<tr><td></td>\n",
       "<td>2019-08-15 15:51:11</td>\n",
       "<td> 0.340 sec</td>\n",
       "<td>6</td>\n",
       "<td>.19E3</td>\n",
       "<td>79</td>\n",
       "<td>908.0015234</td>\n",
       "<td>nan</td>\n",
       "<td>909.2033969</td>\n",
       "<td>0.7181662</td></tr>\n",
       "<tr><td></td>\n",
       "<td>2019-08-15 15:51:11</td>\n",
       "<td> 0.412 sec</td>\n",
       "<td>7</td>\n",
       "<td>.12E3</td>\n",
       "<td>79</td>\n",
       "<td>904.3597864</td>\n",
       "<td>nan</td>\n",
       "<td>906.2767038</td>\n",
       "<td>0.7176241</td></tr>\n",
       "<tr><td></td>\n",
       "<td>2019-08-15 15:51:11</td>\n",
       "<td> 0.474 sec</td>\n",
       "<td>8</td>\n",
       "<td>.75E2</td>\n",
       "<td>79</td>\n",
       "<td>898.5796696</td>\n",
       "<td>nan</td>\n",
       "<td>901.6173791</td>\n",
       "<td>0.7167559</td></tr>\n",
       "<tr><td></td>\n",
       "<td>2019-08-15 15:51:11</td>\n",
       "<td> 0.535 sec</td>\n",
       "<td>9</td>\n",
       "<td>.46E2</td>\n",
       "<td>79</td>\n",
       "<td>889.4827221</td>\n",
       "<td>nan</td>\n",
       "<td>0.0</td>\n",
       "<td>0.0</td></tr></table></div>"
      ],
      "text/plain": [
       "    timestamp            duration    iteration    lambda    predictors    deviance_train    deviance_test    deviance_xval    deviance_se\n",
       "--  -------------------  ----------  -----------  --------  ------------  ----------------  ---------------  ---------------  -------------\n",
       "    2019-08-15 15:51:10  0.000 sec   1            2100      76            913.493           nan              913.606          0.718976\n",
       "    2019-08-15 15:51:10  0.065 sec   2            1300      77            913.149           nan              913.331          0.718926\n",
       "    2019-08-15 15:51:10  0.139 sec   3            810       77            912.597           nan              912.888          0.718845\n",
       "    2019-08-15 15:51:10  0.208 sec   4            500       78            911.708           nan              912.177          0.718714\n",
       "    2019-08-15 15:51:10  0.275 sec   5            310       79            910.283           nan              911.035          0.718504\n",
       "    2019-08-15 15:51:11  0.340 sec   6            190       79            908.002           nan              909.203          0.718166\n",
       "    2019-08-15 15:51:11  0.412 sec   7            120       79            904.36            nan              906.277          0.717624\n",
       "    2019-08-15 15:51:11  0.474 sec   8            75        79            898.58            nan              901.617          0.716756\n",
       "    2019-08-15 15:51:11  0.535 sec   9            46        79            889.483           nan              0                0"
      ]
     },
     "metadata": {},
     "output_type": "display_data"
    },
    {
     "data": {
      "text/plain": []
     },
     "execution_count": 36,
     "metadata": {},
     "output_type": "execute_result"
    }
   ],
   "source": [
    "# Inspect the leader model\n",
    "aml.leader"
   ]
  },
  {
   "cell_type": "code",
   "execution_count": 37,
   "metadata": {},
   "outputs": [
    {
     "name": "stdout",
     "output_type": "stream",
     "text": [
      "glm prediction progress: |████████████████████████████████████████████████| 100%\n"
     ]
    },
    {
     "data": {
      "text/html": [
       "<table>\n",
       "<thead>\n",
       "<tr><th style=\"text-align: right;\">  predict</th></tr>\n",
       "</thead>\n",
       "<tbody>\n",
       "<tr><td style=\"text-align: right;\">  19.5617</td></tr>\n",
       "<tr><td style=\"text-align: right;\">  19.5616</td></tr>\n",
       "<tr><td style=\"text-align: right;\">  19.5615</td></tr>\n",
       "<tr><td style=\"text-align: right;\">  19.5623</td></tr>\n",
       "<tr><td style=\"text-align: right;\">  19.5692</td></tr>\n",
       "<tr><td style=\"text-align: right;\">  19.5835</td></tr>\n",
       "<tr><td style=\"text-align: right;\">  19.6231</td></tr>\n",
       "<tr><td style=\"text-align: right;\">  19.6919</td></tr>\n",
       "<tr><td style=\"text-align: right;\">  19.7732</td></tr>\n",
       "<tr><td style=\"text-align: right;\">  19.8335</td></tr>\n",
       "</tbody>\n",
       "</table>"
      ]
     },
     "metadata": {},
     "output_type": "display_data"
    },
    {
     "data": {
      "text/plain": []
     },
     "execution_count": 37,
     "metadata": {},
     "output_type": "execute_result"
    }
   ],
   "source": [
    "# make predictions using leader model\n",
    "pred = aml.leader.predict(test)\n",
    "pred.head()"
   ]
  },
  {
   "cell_type": "code",
   "execution_count": 38,
   "metadata": {},
   "outputs": [
    {
     "data": {
      "text/plain": [
       "(166383, 1)"
      ]
     },
     "execution_count": 38,
     "metadata": {},
     "output_type": "execute_result"
    }
   ],
   "source": [
    "pred.shape"
   ]
  },
  {
   "cell_type": "code",
   "execution_count": 41,
   "metadata": {},
   "outputs": [
    {
     "name": "stdout",
     "output_type": "stream",
     "text": [
      "19\n"
     ]
    }
   ],
   "source": [
    "num_buildings = len(val_raw['building_name'].unique())\n",
    "print(num_buildings)"
   ]
  },
  {
   "cell_type": "code",
   "execution_count": 43,
   "metadata": {},
   "outputs": [
    {
     "name": "stderr",
     "output_type": "stream",
     "text": [
      "C:\\Users\\dmmma\\Anaconda3\\lib\\site-packages\\ipykernel_launcher.py:1: FutureWarning: Method .as_matrix will be removed in a future version. Use .values instead.\n",
      "  \"\"\"Entry point for launching an IPython kernel.\n"
     ]
    }
   ],
   "source": [
    "aml_pred_npy = pred.as_data_frame().as_matrix().reshape((num_buildings, pred.shape[0]//num_buildings))\n"
   ]
  },
  {
   "cell_type": "code",
   "execution_count": 45,
   "metadata": {},
   "outputs": [
    {
     "data": {
      "text/plain": [
       "(19, 8757)"
      ]
     },
     "execution_count": 45,
     "metadata": {},
     "output_type": "execute_result"
    }
   ],
   "source": [
    "aml_pred_npy.shape"
   ]
  }
 ],
 "metadata": {
  "kernelspec": {
   "display_name": "Python 3",
   "language": "python",
   "name": "python3"
  },
  "language_info": {
   "codemirror_mode": {
    "name": "ipython",
    "version": 3
   },
   "file_extension": ".py",
   "mimetype": "text/x-python",
   "name": "python",
   "nbconvert_exporter": "python",
   "pygments_lexer": "ipython3",
   "version": "3.7.3"
  }
 },
 "nbformat": 4,
 "nbformat_minor": 2
}
