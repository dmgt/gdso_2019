{
 "cells": [
  {
   "cell_type": "code",
   "execution_count": 64,
   "metadata": {},
   "outputs": [],
   "source": [
    "# Following tutorial https://github.com/h2oai/h2o-tutorials/blob/master/h2o-world-2017/automl/Python/automl_regression_powerplant_output.ipynb\n",
    "import pandas as pd\n",
    "import numpy as np\n",
    "import matplotlib.pyplot as plt\n",
    "%matplotlib inline\n"
   ]
  },
  {
   "cell_type": "code",
   "execution_count": null,
   "metadata": {},
   "outputs": [],
   "source": [
    "\n",
    "# Needed to install Java JRE https://www.java.com/en/download/win10.jsp \n",
    "import h2o \n",
    "from h2o.automl import H2OAutoML\n",
    "h2o.init()"
   ]
  },
  {
   "cell_type": "markdown",
   "metadata": {},
   "source": [
    "### Load data"
   ]
  },
  {
   "cell_type": "code",
   "execution_count": 49,
   "metadata": {},
   "outputs": [],
   "source": [
    "# Setting 'parse_dates' in this case parses both dates and times\n",
    "train_data = pd.read_csv('weather1_education_train.csv', parse_dates = ['timestamp'])\n",
    "val_data = pd.read_csv('weather1_education_test.csv', parse_dates = ['timestamp'])"
   ]
  },
  {
   "cell_type": "code",
   "execution_count": 18,
   "metadata": {},
   "outputs": [
    {
     "data": {
      "text/html": [
       "<div>\n",
       "<style scoped>\n",
       "    .dataframe tbody tr th:only-of-type {\n",
       "        vertical-align: middle;\n",
       "    }\n",
       "\n",
       "    .dataframe tbody tr th {\n",
       "        vertical-align: top;\n",
       "    }\n",
       "\n",
       "    .dataframe thead th {\n",
       "        text-align: right;\n",
       "    }\n",
       "</style>\n",
       "<table border=\"1\" class=\"dataframe\">\n",
       "  <thead>\n",
       "    <tr style=\"text-align: right;\">\n",
       "      <th></th>\n",
       "      <th>Unnamed: 0</th>\n",
       "      <th>area</th>\n",
       "      <th>electricity</th>\n",
       "      <th>TemperatureC</th>\n",
       "      <th>month</th>\n",
       "      <th>year</th>\n",
       "      <th>date</th>\n",
       "      <th>hour</th>\n",
       "      <th>weekday</th>\n",
       "      <th>month_1</th>\n",
       "      <th>...</th>\n",
       "      <th>hour_23</th>\n",
       "      <th>wkday_0</th>\n",
       "      <th>wkday_1</th>\n",
       "      <th>wkday_2</th>\n",
       "      <th>wkday_3</th>\n",
       "      <th>wkday_4</th>\n",
       "      <th>wkday_5</th>\n",
       "      <th>wkday_6</th>\n",
       "      <th>PSU_PrimClass</th>\n",
       "      <th>PSU_UnivClass</th>\n",
       "    </tr>\n",
       "  </thead>\n",
       "  <tbody>\n",
       "    <tr>\n",
       "      <th>count</th>\n",
       "      <td>437850.000000</td>\n",
       "      <td>437850.000000</td>\n",
       "      <td>437850.000000</td>\n",
       "      <td>437850.000000</td>\n",
       "      <td>437850.000000</td>\n",
       "      <td>437850.000000</td>\n",
       "      <td>437850.000000</td>\n",
       "      <td>437850.000000</td>\n",
       "      <td>437850.000000</td>\n",
       "      <td>437850.000000</td>\n",
       "      <td>...</td>\n",
       "      <td>437850.000000</td>\n",
       "      <td>437850.000000</td>\n",
       "      <td>437850.000000</td>\n",
       "      <td>437850.000000</td>\n",
       "      <td>437850.000000</td>\n",
       "      <td>437850.000000</td>\n",
       "      <td>437850.000000</td>\n",
       "      <td>437850.000000</td>\n",
       "      <td>437850.00</td>\n",
       "      <td>437850.00</td>\n",
       "    </tr>\n",
       "    <tr>\n",
       "      <th>mean</th>\n",
       "      <td>218924.500000</td>\n",
       "      <td>4564.680000</td>\n",
       "      <td>22.092696</td>\n",
       "      <td>9.470367</td>\n",
       "      <td>6.526664</td>\n",
       "      <td>2014.915039</td>\n",
       "      <td>15.718054</td>\n",
       "      <td>11.498915</td>\n",
       "      <td>2.991093</td>\n",
       "      <td>0.084846</td>\n",
       "      <td>...</td>\n",
       "      <td>0.041567</td>\n",
       "      <td>0.145255</td>\n",
       "      <td>0.142515</td>\n",
       "      <td>0.142515</td>\n",
       "      <td>0.142400</td>\n",
       "      <td>0.142515</td>\n",
       "      <td>0.142515</td>\n",
       "      <td>0.142286</td>\n",
       "      <td>0.98</td>\n",
       "      <td>0.02</td>\n",
       "    </tr>\n",
       "    <tr>\n",
       "      <th>std</th>\n",
       "      <td>126396.552019</td>\n",
       "      <td>3947.970853</td>\n",
       "      <td>33.351830</td>\n",
       "      <td>107.059247</td>\n",
       "      <td>3.447534</td>\n",
       "      <td>0.278823</td>\n",
       "      <td>8.796056</td>\n",
       "      <td>6.920784</td>\n",
       "      <td>2.003234</td>\n",
       "      <td>0.278653</td>\n",
       "      <td>...</td>\n",
       "      <td>0.199597</td>\n",
       "      <td>0.352358</td>\n",
       "      <td>0.349578</td>\n",
       "      <td>0.349578</td>\n",
       "      <td>0.349461</td>\n",
       "      <td>0.349578</td>\n",
       "      <td>0.349578</td>\n",
       "      <td>0.349344</td>\n",
       "      <td>0.14</td>\n",
       "      <td>0.14</td>\n",
       "    </tr>\n",
       "    <tr>\n",
       "      <th>min</th>\n",
       "      <td>0.000000</td>\n",
       "      <td>811.000000</td>\n",
       "      <td>0.004138</td>\n",
       "      <td>-9999.000000</td>\n",
       "      <td>1.000000</td>\n",
       "      <td>2014.000000</td>\n",
       "      <td>1.000000</td>\n",
       "      <td>0.000000</td>\n",
       "      <td>0.000000</td>\n",
       "      <td>0.000000</td>\n",
       "      <td>...</td>\n",
       "      <td>0.000000</td>\n",
       "      <td>0.000000</td>\n",
       "      <td>0.000000</td>\n",
       "      <td>0.000000</td>\n",
       "      <td>0.000000</td>\n",
       "      <td>0.000000</td>\n",
       "      <td>0.000000</td>\n",
       "      <td>0.000000</td>\n",
       "      <td>0.00</td>\n",
       "      <td>0.00</td>\n",
       "    </tr>\n",
       "    <tr>\n",
       "      <th>25%</th>\n",
       "      <td>109462.250000</td>\n",
       "      <td>2132.000000</td>\n",
       "      <td>3.900000</td>\n",
       "      <td>7.000000</td>\n",
       "      <td>4.000000</td>\n",
       "      <td>2015.000000</td>\n",
       "      <td>8.000000</td>\n",
       "      <td>6.000000</td>\n",
       "      <td>1.000000</td>\n",
       "      <td>0.000000</td>\n",
       "      <td>...</td>\n",
       "      <td>0.000000</td>\n",
       "      <td>0.000000</td>\n",
       "      <td>0.000000</td>\n",
       "      <td>0.000000</td>\n",
       "      <td>0.000000</td>\n",
       "      <td>0.000000</td>\n",
       "      <td>0.000000</td>\n",
       "      <td>0.000000</td>\n",
       "      <td>1.00</td>\n",
       "      <td>0.00</td>\n",
       "    </tr>\n",
       "    <tr>\n",
       "      <th>50%</th>\n",
       "      <td>218924.500000</td>\n",
       "      <td>2829.500000</td>\n",
       "      <td>7.100000</td>\n",
       "      <td>11.000000</td>\n",
       "      <td>7.000000</td>\n",
       "      <td>2015.000000</td>\n",
       "      <td>16.000000</td>\n",
       "      <td>11.000000</td>\n",
       "      <td>3.000000</td>\n",
       "      <td>0.000000</td>\n",
       "      <td>...</td>\n",
       "      <td>0.000000</td>\n",
       "      <td>0.000000</td>\n",
       "      <td>0.000000</td>\n",
       "      <td>0.000000</td>\n",
       "      <td>0.000000</td>\n",
       "      <td>0.000000</td>\n",
       "      <td>0.000000</td>\n",
       "      <td>0.000000</td>\n",
       "      <td>1.00</td>\n",
       "      <td>0.00</td>\n",
       "    </tr>\n",
       "    <tr>\n",
       "      <th>75%</th>\n",
       "      <td>328386.750000</td>\n",
       "      <td>6382.000000</td>\n",
       "      <td>27.200000</td>\n",
       "      <td>14.000000</td>\n",
       "      <td>10.000000</td>\n",
       "      <td>2015.000000</td>\n",
       "      <td>23.000000</td>\n",
       "      <td>17.000000</td>\n",
       "      <td>5.000000</td>\n",
       "      <td>0.000000</td>\n",
       "      <td>...</td>\n",
       "      <td>0.000000</td>\n",
       "      <td>0.000000</td>\n",
       "      <td>0.000000</td>\n",
       "      <td>0.000000</td>\n",
       "      <td>0.000000</td>\n",
       "      <td>0.000000</td>\n",
       "      <td>0.000000</td>\n",
       "      <td>0.000000</td>\n",
       "      <td>1.00</td>\n",
       "      <td>0.00</td>\n",
       "    </tr>\n",
       "    <tr>\n",
       "      <th>max</th>\n",
       "      <td>437849.000000</td>\n",
       "      <td>14868.000000</td>\n",
       "      <td>298.699990</td>\n",
       "      <td>27.000000</td>\n",
       "      <td>12.000000</td>\n",
       "      <td>2015.000000</td>\n",
       "      <td>31.000000</td>\n",
       "      <td>23.000000</td>\n",
       "      <td>6.000000</td>\n",
       "      <td>1.000000</td>\n",
       "      <td>...</td>\n",
       "      <td>1.000000</td>\n",
       "      <td>1.000000</td>\n",
       "      <td>1.000000</td>\n",
       "      <td>1.000000</td>\n",
       "      <td>1.000000</td>\n",
       "      <td>1.000000</td>\n",
       "      <td>1.000000</td>\n",
       "      <td>1.000000</td>\n",
       "      <td>1.00</td>\n",
       "      <td>1.00</td>\n",
       "    </tr>\n",
       "  </tbody>\n",
       "</table>\n",
       "<p>8 rows × 85 columns</p>\n",
       "</div>"
      ],
      "text/plain": [
       "          Unnamed: 0           area    electricity   TemperatureC  \\\n",
       "count  437850.000000  437850.000000  437850.000000  437850.000000   \n",
       "mean   218924.500000    4564.680000      22.092696       9.470367   \n",
       "std    126396.552019    3947.970853      33.351830     107.059247   \n",
       "min         0.000000     811.000000       0.004138   -9999.000000   \n",
       "25%    109462.250000    2132.000000       3.900000       7.000000   \n",
       "50%    218924.500000    2829.500000       7.100000      11.000000   \n",
       "75%    328386.750000    6382.000000      27.200000      14.000000   \n",
       "max    437849.000000   14868.000000     298.699990      27.000000   \n",
       "\n",
       "               month           year           date           hour  \\\n",
       "count  437850.000000  437850.000000  437850.000000  437850.000000   \n",
       "mean        6.526664    2014.915039      15.718054      11.498915   \n",
       "std         3.447534       0.278823       8.796056       6.920784   \n",
       "min         1.000000    2014.000000       1.000000       0.000000   \n",
       "25%         4.000000    2015.000000       8.000000       6.000000   \n",
       "50%         7.000000    2015.000000      16.000000      11.000000   \n",
       "75%        10.000000    2015.000000      23.000000      17.000000   \n",
       "max        12.000000    2015.000000      31.000000      23.000000   \n",
       "\n",
       "             weekday        month_1  ...        hour_23        wkday_0  \\\n",
       "count  437850.000000  437850.000000  ...  437850.000000  437850.000000   \n",
       "mean        2.991093       0.084846  ...       0.041567       0.145255   \n",
       "std         2.003234       0.278653  ...       0.199597       0.352358   \n",
       "min         0.000000       0.000000  ...       0.000000       0.000000   \n",
       "25%         1.000000       0.000000  ...       0.000000       0.000000   \n",
       "50%         3.000000       0.000000  ...       0.000000       0.000000   \n",
       "75%         5.000000       0.000000  ...       0.000000       0.000000   \n",
       "max         6.000000       1.000000  ...       1.000000       1.000000   \n",
       "\n",
       "             wkday_1        wkday_2        wkday_3        wkday_4  \\\n",
       "count  437850.000000  437850.000000  437850.000000  437850.000000   \n",
       "mean        0.142515       0.142515       0.142400       0.142515   \n",
       "std         0.349578       0.349578       0.349461       0.349578   \n",
       "min         0.000000       0.000000       0.000000       0.000000   \n",
       "25%         0.000000       0.000000       0.000000       0.000000   \n",
       "50%         0.000000       0.000000       0.000000       0.000000   \n",
       "75%         0.000000       0.000000       0.000000       0.000000   \n",
       "max         1.000000       1.000000       1.000000       1.000000   \n",
       "\n",
       "             wkday_5        wkday_6  PSU_PrimClass  PSU_UnivClass  \n",
       "count  437850.000000  437850.000000      437850.00      437850.00  \n",
       "mean        0.142515       0.142286           0.98           0.02  \n",
       "std         0.349578       0.349344           0.14           0.14  \n",
       "min         0.000000       0.000000           0.00           0.00  \n",
       "25%         0.000000       0.000000           1.00           0.00  \n",
       "50%         0.000000       0.000000           1.00           0.00  \n",
       "75%         0.000000       0.000000           1.00           0.00  \n",
       "max         1.000000       1.000000           1.00           1.00  \n",
       "\n",
       "[8 rows x 85 columns]"
      ]
     },
     "execution_count": 18,
     "metadata": {},
     "output_type": "execute_result"
    }
   ],
   "source": [
    "train_data.describe()"
   ]
  },
  {
   "cell_type": "code",
   "execution_count": null,
   "metadata": {},
   "outputs": [],
   "source": [
    "# TODO - Val data is missing one categorical column\n",
    "train_data.columns.difference(val_data.columns)"
   ]
  },
  {
   "cell_type": "code",
   "execution_count": 50,
   "metadata": {},
   "outputs": [],
   "source": [
    "# Remove specific building type since one less column in one csv file\n",
    "# Also drop year and timestamp, and 'Unamed: 0' index\n",
    "train_data = train_data.drop(columns=['PSU_PrimClass', 'PSU_UnivClass', 'year', 'Unnamed: 0'])\n",
    "val_data = val_data.drop(columns = ['PSU_PrimClass', 'year', 'Unnamed: 0'])"
   ]
  },
  {
   "cell_type": "code",
   "execution_count": 21,
   "metadata": {},
   "outputs": [],
   "source": []
  },
  {
   "cell_type": "code",
   "execution_count": 22,
   "metadata": {},
   "outputs": [
    {
     "data": {
      "text/plain": [
       "area                    float64\n",
       "building_name          category\n",
       "electricity             float64\n",
       "primary_space_usage    category\n",
       "TemperatureC            float64\n",
       "month                     int64\n",
       "date                      int64\n",
       "hour                      int64\n",
       "weekday                   int64\n",
       "month_1                   int64\n",
       "dtype: object"
      ]
     },
     "execution_count": 22,
     "metadata": {},
     "output_type": "execute_result"
    }
   ],
   "source": [
    "# train_data.columns  # lists all col names\n",
    "# train_data.describe()  # summarize col value ranges\n",
    "train_data.dtypes.head(10)  # see dtypes"
   ]
  },
  {
   "cell_type": "markdown",
   "metadata": {},
   "source": [
    "- Dataframe is already in 'melted' / longer format"
   ]
  },
  {
   "cell_type": "code",
   "execution_count": 23,
   "metadata": {},
   "outputs": [
    {
     "data": {
      "text/plain": [
       "<matplotlib.axes._subplots.AxesSubplot at 0x2bea61476a0>"
      ]
     },
     "execution_count": 23,
     "metadata": {},
     "output_type": "execute_result"
    },
    {
     "data": {
      "image/png": "[encoded data removed]",
      "text/plain": [
       "<Figure size 576x288 with 1 Axes>"
      ]
     },
     "metadata": {
      "needs_background": "light"
     },
     "output_type": "display_data"
    }
   ],
   "source": [
    "train_data['electricity'].hist(bins = 20, figsize = (8, 4))"
   ]
  },
  {
   "cell_type": "markdown",
   "metadata": {},
   "source": [
    "### Fit a model"
   ]
  },
  {
   "cell_type": "code",
   "execution_count": 53,
   "metadata": {},
   "outputs": [
    {
     "name": "stdout",
     "output_type": "stream",
     "text": [
      "Parse progress: |█████████████████████████████████████████████████████████| 100%\n",
      "Parse progress: |█████████████████████████████████████████████████████████| 100%\n"
     ]
    }
   ],
   "source": [
    "# Using crude train/val split, not walk-forward cross-val\n",
    "# In h2o, if using all other cols for x, don't have to explicitly specify\n",
    "y = \"electricity\"\n",
    "\n",
    "# Must be formatted as h2o frames http://docs.h2o.ai/h2o/latest-stable/h2o-py/docs/frame.html\n",
    "train =  h2o.H2OFrame(train_data.drop(columns =['timestamp']))\n",
    "test = h2o.H2OFrame(val_data.drop(columns = ['timestamp']))\n"
   ]
  },
  {
   "cell_type": "code",
   "execution_count": 35,
   "metadata": {},
   "outputs": [
    {
     "name": "stdout",
     "output_type": "stream",
     "text": [
      "AutoML progress: |████████████████████████████████████████████████████████| 100%\n"
     ]
    }
   ],
   "source": [
    "# Running for 60 s only fit one model (GLM), 3 min fit 3 (GLM, GBM, and Stacked Ensemble)\n",
    "aml =  H2OAutoML(max_runtime_secs = 30, seed = 1, project_name = \"energy_use_68_buildings\")\n",
    "aml.train(y = y, training_frame = train, leaderboard_frame = test)"
   ]
  },
  {
   "cell_type": "code",
   "execution_count": 37,
   "metadata": {
    "scrolled": true
   },
   "outputs": [
    {
     "data": {
      "text/html": [
       "<table>\n",
       "<thead>\n",
       "<tr><th>model_id                                           </th><th style=\"text-align: right;\">  mean_residual_deviance</th><th style=\"text-align: right;\">   rmse</th><th style=\"text-align: right;\">    mse</th><th style=\"text-align: right;\">     mae</th><th style=\"text-align: right;\">    rmsle</th></tr>\n",
       "</thead>\n",
       "<tbody>\n",
       "<tr><td>StackedEnsemble_BestOfFamily_AutoML_20190806_022440</td><td style=\"text-align: right;\">                 155.226</td><td style=\"text-align: right;\">12.459 </td><td style=\"text-align: right;\">155.226</td><td style=\"text-align: right;\"> 6.52095</td><td style=\"text-align: right;\">nan      </td></tr>\n",
       "<tr><td>GBM_1_AutoML_20190806_022440                       </td><td style=\"text-align: right;\">                 193.013</td><td style=\"text-align: right;\">13.8929</td><td style=\"text-align: right;\">193.013</td><td style=\"text-align: right;\"> 8.41746</td><td style=\"text-align: right;\">  0.87359</td></tr>\n",
       "<tr><td>GLM_grid_1_AutoML_20190806_022440_model_1          </td><td style=\"text-align: right;\">                 464.933</td><td style=\"text-align: right;\">21.5623</td><td style=\"text-align: right;\">464.933</td><td style=\"text-align: right;\">17.1709 </td><td style=\"text-align: right;\">  1.46573</td></tr>\n",
       "<tr><td>GLM_grid_1_AutoML_20190806_023440_model_1          </td><td style=\"text-align: right;\">                 466.94 </td><td style=\"text-align: right;\">21.6088</td><td style=\"text-align: right;\">466.94 </td><td style=\"text-align: right;\">17.2157 </td><td style=\"text-align: right;\">  1.46783</td></tr>\n",
       "<tr><td>GLM_grid_1_AutoML_20190806_022235_model_1          </td><td style=\"text-align: right;\">                 466.94 </td><td style=\"text-align: right;\">21.6088</td><td style=\"text-align: right;\">466.94 </td><td style=\"text-align: right;\">17.2157 </td><td style=\"text-align: right;\">  1.46783</td></tr>\n",
       "</tbody>\n",
       "</table>"
      ]
     },
     "metadata": {},
     "output_type": "display_data"
    },
    {
     "data": {
      "text/plain": []
     },
     "execution_count": 37,
     "metadata": {},
     "output_type": "execute_result"
    }
   ],
   "source": [
    "aml.leaderboard.head()"
   ]
  },
  {
   "cell_type": "code",
   "execution_count": 42,
   "metadata": {},
   "outputs": [
    {
     "name": "stdout",
     "output_type": "stream",
     "text": [
      "Model Details\n",
      "=============\n",
      "H2OStackedEnsembleEstimator :  Stacked Ensemble\n",
      "Model Key:  StackedEnsemble_BestOfFamily_AutoML_20190806_022440\n",
      "\n",
      "No model summary for this model\n",
      "\n",
      "ModelMetricsRegressionGLM: stackedensemble\n",
      "** Reported on train data. **\n",
      "\n",
      "MSE: 183.95576725158153\n",
      "RMSE: 13.563029427512923\n",
      "MAE: 6.912526132465449\n",
      "RMSLE: NaN\n",
      "R^2: 0.8346230128743413\n",
      "Mean Residual Deviance: 183.95576725158153\n",
      "Null degrees of freedom: 437849\n",
      "Residual degrees of freedom: 437847\n",
      "Null deviance: 487038941.09464395\n",
      "Residual deviance: 80545032.69110498\n",
      "AIC: 3525826.8252291773\n",
      "\n",
      "ModelMetricsRegressionGLM: stackedensemble\n",
      "** Reported on cross-validation data. **\n",
      "\n",
      "MSE: 193.3193597810863\n",
      "RMSE: 13.90393324858424\n",
      "MAE: 7.205117069982083\n",
      "RMSLE: NaN\n",
      "R^2: 0.8262051048938628\n",
      "Mean Residual Deviance: 193.3193597810863\n",
      "Null degrees of freedom: 437849\n",
      "Residual degrees of freedom: 437847\n",
      "Null deviance: 487040479.5474188\n",
      "Residual deviance: 84644881.68014863\n",
      "AIC: 3547565.2904434917\n"
     ]
    },
    {
     "data": {
      "text/plain": []
     },
     "execution_count": 42,
     "metadata": {},
     "output_type": "execute_result"
    }
   ],
   "source": [
    "# Inspect the leader model\n",
    "aml.leader"
   ]
  },
  {
   "cell_type": "code",
   "execution_count": 32,
   "metadata": {},
   "outputs": [
    {
     "name": "stdout",
     "output_type": "stream",
     "text": [
      "stackedensemble prediction progress: |███████████████████████████████████████| 100%\n"
     ]
    },
    {
     "name": "stderr",
     "output_type": "stream",
     "text": [
      "C:\\Users\\dmmma\\Anaconda3\\lib\\site-packages\\h2o\\job.py:70: UserWarning: Test/Validation dataset column 'building_name' has levels not trained on: [PrimClass_Jacob, PrimClass_Jacquelyn, PrimClass_Jaden, PrimClass_Janie, PrimClass_Janis, PrimClass_Jasmine, PrimClass_Jayda, PrimClass_Jean, PrimClass_Jeff, PrimClass_Jeffery, PrimClass_Jermaine, PrimClass_Jesse, PrimClass_Jill, PrimClass_Jim, PrimClass_Joel, PrimClass_Johnathon, PrimClass_Johnnie, PrimClass_Jose, PrimClass_Judith]\n",
      "  warnings.warn(w)\n"
     ]
    },
    {
     "data": {
      "text/html": [
       "<table>\n",
       "<thead>\n",
       "<tr><th style=\"text-align: right;\">  predict</th></tr>\n",
       "</thead>\n",
       "<tbody>\n",
       "<tr><td style=\"text-align: right;\">  15.7949</td></tr>\n",
       "<tr><td style=\"text-align: right;\">  15.8012</td></tr>\n",
       "<tr><td style=\"text-align: right;\">  15.8107</td></tr>\n",
       "<tr><td style=\"text-align: right;\">  15.8224</td></tr>\n",
       "<tr><td style=\"text-align: right;\">  15.8727</td></tr>\n",
       "<tr><td style=\"text-align: right;\">  15.9869</td></tr>\n",
       "<tr><td style=\"text-align: right;\">  25.4705</td></tr>\n",
       "<tr><td style=\"text-align: right;\">  32.729 </td></tr>\n",
       "<tr><td style=\"text-align: right;\">  47.1742</td></tr>\n",
       "<tr><td style=\"text-align: right;\">  52.7304</td></tr>\n",
       "</tbody>\n",
       "</table>"
      ]
     },
     "metadata": {},
     "output_type": "display_data"
    },
    {
     "data": {
      "text/plain": []
     },
     "execution_count": 32,
     "metadata": {},
     "output_type": "execute_result"
    }
   ],
   "source": [
    "# make predictions using leader model\n",
    "pred = aml.predict(test)\n",
    "pred.head()"
   ]
  },
  {
   "cell_type": "code",
   "execution_count": 67,
   "metadata": {},
   "outputs": [
    {
     "data": {
      "text/plain": [
       "<function matplotlib.pyplot.show(*args, **kw)>"
      ]
     },
     "execution_count": 67,
     "metadata": {},
     "output_type": "execute_result"
    },
    {
     "data": {
      "image/png": "[encoded data removed]",
      "text/plain": [
       "<Figure size 432x288 with 1 Axes>"
      ]
     },
     "metadata": {
      "needs_background": "light"
     },
     "output_type": "display_data"
    }
   ],
   "source": [
    "\n",
    "val_data.groupby('building_name')['electricity'].plot(alpha = 0.4);\n",
    "plt.legend(loc= 'center right', bbox_to_anchor=(1.5, 0.5));\n",
    "plt.show"
   ]
  }
 ],
 "metadata": {
  "kernelspec": {
   "display_name": "Python 3",
   "language": "python",
   "name": "python3"
  },
  "language_info": {
   "codemirror_mode": {
    "name": "ipython",
    "version": 3
   },
   "file_extension": ".py",
   "mimetype": "text/x-python",
   "name": "python",
   "nbconvert_exporter": "python",
   "pygments_lexer": "ipython3",
   "version": "3.7.3"
  }
 },
 "nbformat": 4,
 "nbformat_minor": 2
}
