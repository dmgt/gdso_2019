{
 "cells": [
  {
   "cell_type": "code",
   "execution_count": 1,
   "metadata": {},
   "outputs": [],
   "source": [
    "# Based on  tutorial https://github.com/h2oai/h2o-tutorials/blob/master/h2o-world-2017/automl/Python/automl_regression_powerplant_output.ipynb\n",
    "# Try to rerun model \n",
    "\n",
    "import pandas as pd\n",
    "import numpy as np\n",
    "import matplotlib.pyplot as plt\n",
    "%matplotlib inline\n"
   ]
  },
  {
   "cell_type": "code",
   "execution_count": null,
   "metadata": {},
   "outputs": [],
   "source": [
    "#h2o.shutdown(prompt=True) "
   ]
  },
  {
   "cell_type": "code",
   "execution_count": 5,
   "metadata": {},
   "outputs": [
    {
     "name": "stdout",
     "output_type": "stream",
     "text": [
      "Checking whether there is an H2O instance running at http://localhost:54323 ..... not found.\n",
      "Attempting to start a local H2O server...\n",
      "; Java HotSpot(TM) Client VM (build 25.221-b11, mixed mode, sharing)\n"
     ]
    },
    {
     "name": "stderr",
     "output_type": "stream",
     "text": [
      "C:\\Users\\dmmma\\Anaconda3\\lib\\site-packages\\h2o\\backend\\server.py:369: UserWarning:   You have a 32-bit version of Java. H2O works best with 64-bit Java.\n",
      "  Please download the latest 64-bit Java SE JDK from Oracle.\n",
      "\n",
      "  warn(\"  You have a 32-bit version of Java. H2O works best with 64-bit Java.\\n\"\n"
     ]
    },
    {
     "name": "stdout",
     "output_type": "stream",
     "text": [
      "  Starting server from C:\\Users\\dmmma\\Anaconda3\\lib\\site-packages\\h2o\\backend\\bin\\h2o.jar\n",
      "  Ice root: C:\\Users\\dmmma\\AppData\\Local\\Temp\\tmp7xivitfg\n",
      "  JVM stdout: C:\\Users\\dmmma\\AppData\\Local\\Temp\\tmp7xivitfg\\h2o_dmmma_started_from_python.out\n",
      "  JVM stderr: C:\\Users\\dmmma\\AppData\\Local\\Temp\\tmp7xivitfg\\h2o_dmmma_started_from_python.err\n",
      "  Server is running at http://127.0.0.1:54323\n",
      "Connecting to H2O server at http://127.0.0.1:54323 ... successful.\n"
     ]
    },
    {
     "data": {
      "text/html": [
       "<div style=\"overflow:auto\"><table style=\"width:50%\"><tr><td>H2O cluster uptime:</td>\n",
       "<td>02 secs</td></tr>\n",
       "<tr><td>H2O cluster timezone:</td>\n",
       "<td>America/Los_Angeles</td></tr>\n",
       "<tr><td>H2O data parsing timezone:</td>\n",
       "<td>UTC</td></tr>\n",
       "<tr><td>H2O cluster version:</td>\n",
       "<td>3.26.0.2</td></tr>\n",
       "<tr><td>H2O cluster version age:</td>\n",
       "<td>19 days </td></tr>\n",
       "<tr><td>H2O cluster name:</td>\n",
       "<td>H2O_from_python_dmmma_2qso65</td></tr>\n",
       "<tr><td>H2O cluster total nodes:</td>\n",
       "<td>1</td></tr>\n",
       "<tr><td>H2O cluster free memory:</td>\n",
       "<td>247.5 Mb</td></tr>\n",
       "<tr><td>H2O cluster total cores:</td>\n",
       "<td>8</td></tr>\n",
       "<tr><td>H2O cluster allowed cores:</td>\n",
       "<td>8</td></tr>\n",
       "<tr><td>H2O cluster status:</td>\n",
       "<td>accepting new members, healthy</td></tr>\n",
       "<tr><td>H2O connection url:</td>\n",
       "<td>http://127.0.0.1:54323</td></tr>\n",
       "<tr><td>H2O connection proxy:</td>\n",
       "<td>None</td></tr>\n",
       "<tr><td>H2O internal security:</td>\n",
       "<td>False</td></tr>\n",
       "<tr><td>H2O API Extensions:</td>\n",
       "<td>Amazon S3, Algos, AutoML, Core V3, Core V4</td></tr>\n",
       "<tr><td>Python version:</td>\n",
       "<td>3.7.3 final</td></tr></table></div>"
      ],
      "text/plain": [
       "--------------------------  ------------------------------------------\n",
       "H2O cluster uptime:         02 secs\n",
       "H2O cluster timezone:       America/Los_Angeles\n",
       "H2O data parsing timezone:  UTC\n",
       "H2O cluster version:        3.26.0.2\n",
       "H2O cluster version age:    19 days\n",
       "H2O cluster name:           H2O_from_python_dmmma_2qso65\n",
       "H2O cluster total nodes:    1\n",
       "H2O cluster free memory:    247.5 Mb\n",
       "H2O cluster total cores:    8\n",
       "H2O cluster allowed cores:  8\n",
       "H2O cluster status:         accepting new members, healthy\n",
       "H2O connection url:         http://127.0.0.1:54323\n",
       "H2O connection proxy:\n",
       "H2O internal security:      False\n",
       "H2O API Extensions:         Amazon S3, Algos, AutoML, Core V3, Core V4\n",
       "Python version:             3.7.3 final\n",
       "--------------------------  ------------------------------------------"
      ]
     },
     "metadata": {},
     "output_type": "display_data"
    }
   ],
   "source": [
    "# Needed to install Java JRE https://www.java.com/en/download/win10.jsp \n",
    "import h2o \n",
    "from h2o.automl import H2OAutoML\n",
    "h2o.init(ip=\"localhost\", port=54323)"
   ]
  },
  {
   "cell_type": "markdown",
   "metadata": {},
   "source": [
    "### Load data"
   ]
  },
  {
   "cell_type": "code",
   "execution_count": 6,
   "metadata": {},
   "outputs": [],
   "source": [
    "# Setting 'parse_dates' in this case parses both dates and times\n",
    "# These files are too large to commit so they're uploaded locally under `/exploring_models` but not pushed\n",
    "train_raw = pd.read_csv('weather1_education_train.csv', parse_dates = ['timestamp'])\n",
    "val_raw = pd.read_csv('weather1_education_test.csv', parse_dates = ['timestamp'])"
   ]
  },
  {
   "cell_type": "code",
   "execution_count": 7,
   "metadata": {},
   "outputs": [
    {
     "data": {
      "text/html": [
       "<div>\n",
       "<style scoped>\n",
       "    .dataframe tbody tr th:only-of-type {\n",
       "        vertical-align: middle;\n",
       "    }\n",
       "\n",
       "    .dataframe tbody tr th {\n",
       "        vertical-align: top;\n",
       "    }\n",
       "\n",
       "    .dataframe thead th {\n",
       "        text-align: right;\n",
       "    }\n",
       "</style>\n",
       "<table border=\"1\" class=\"dataframe\">\n",
       "  <thead>\n",
       "    <tr style=\"text-align: right;\">\n",
       "      <th></th>\n",
       "      <th>area</th>\n",
       "      <th>electricity</th>\n",
       "      <th>TemperatureC</th>\n",
       "      <th>month_1</th>\n",
       "      <th>month_2</th>\n",
       "      <th>month_3</th>\n",
       "      <th>month_4</th>\n",
       "      <th>month_5</th>\n",
       "      <th>month_6</th>\n",
       "      <th>month_7</th>\n",
       "      <th>...</th>\n",
       "      <th>hour_23</th>\n",
       "      <th>wkday_0</th>\n",
       "      <th>wkday_1</th>\n",
       "      <th>wkday_2</th>\n",
       "      <th>wkday_3</th>\n",
       "      <th>wkday_4</th>\n",
       "      <th>wkday_5</th>\n",
       "      <th>wkday_6</th>\n",
       "      <th>PSU_PrimClass</th>\n",
       "      <th>PSU_UnivClass</th>\n",
       "    </tr>\n",
       "  </thead>\n",
       "  <tbody>\n",
       "    <tr>\n",
       "      <th>0</th>\n",
       "      <td>2777.0</td>\n",
       "      <td>5.0</td>\n",
       "      <td>7.0</td>\n",
       "      <td>0</td>\n",
       "      <td>0</td>\n",
       "      <td>0</td>\n",
       "      <td>0</td>\n",
       "      <td>0</td>\n",
       "      <td>0</td>\n",
       "      <td>0</td>\n",
       "      <td>...</td>\n",
       "      <td>0</td>\n",
       "      <td>1</td>\n",
       "      <td>0</td>\n",
       "      <td>0</td>\n",
       "      <td>0</td>\n",
       "      <td>0</td>\n",
       "      <td>0</td>\n",
       "      <td>0</td>\n",
       "      <td>1</td>\n",
       "      <td>0</td>\n",
       "    </tr>\n",
       "    <tr>\n",
       "      <th>1</th>\n",
       "      <td>2777.0</td>\n",
       "      <td>5.2</td>\n",
       "      <td>5.0</td>\n",
       "      <td>0</td>\n",
       "      <td>0</td>\n",
       "      <td>0</td>\n",
       "      <td>0</td>\n",
       "      <td>0</td>\n",
       "      <td>0</td>\n",
       "      <td>0</td>\n",
       "      <td>...</td>\n",
       "      <td>0</td>\n",
       "      <td>1</td>\n",
       "      <td>0</td>\n",
       "      <td>0</td>\n",
       "      <td>0</td>\n",
       "      <td>0</td>\n",
       "      <td>0</td>\n",
       "      <td>0</td>\n",
       "      <td>1</td>\n",
       "      <td>0</td>\n",
       "    </tr>\n",
       "    <tr>\n",
       "      <th>2</th>\n",
       "      <td>2777.0</td>\n",
       "      <td>5.2</td>\n",
       "      <td>5.0</td>\n",
       "      <td>0</td>\n",
       "      <td>0</td>\n",
       "      <td>0</td>\n",
       "      <td>0</td>\n",
       "      <td>0</td>\n",
       "      <td>0</td>\n",
       "      <td>0</td>\n",
       "      <td>...</td>\n",
       "      <td>0</td>\n",
       "      <td>1</td>\n",
       "      <td>0</td>\n",
       "      <td>0</td>\n",
       "      <td>0</td>\n",
       "      <td>0</td>\n",
       "      <td>0</td>\n",
       "      <td>0</td>\n",
       "      <td>1</td>\n",
       "      <td>0</td>\n",
       "    </tr>\n",
       "    <tr>\n",
       "      <th>3</th>\n",
       "      <td>2777.0</td>\n",
       "      <td>5.5</td>\n",
       "      <td>6.0</td>\n",
       "      <td>0</td>\n",
       "      <td>0</td>\n",
       "      <td>0</td>\n",
       "      <td>0</td>\n",
       "      <td>0</td>\n",
       "      <td>0</td>\n",
       "      <td>0</td>\n",
       "      <td>...</td>\n",
       "      <td>0</td>\n",
       "      <td>1</td>\n",
       "      <td>0</td>\n",
       "      <td>0</td>\n",
       "      <td>0</td>\n",
       "      <td>0</td>\n",
       "      <td>0</td>\n",
       "      <td>0</td>\n",
       "      <td>1</td>\n",
       "      <td>0</td>\n",
       "    </tr>\n",
       "    <tr>\n",
       "      <th>4</th>\n",
       "      <td>2777.0</td>\n",
       "      <td>6.0</td>\n",
       "      <td>7.0</td>\n",
       "      <td>0</td>\n",
       "      <td>0</td>\n",
       "      <td>0</td>\n",
       "      <td>0</td>\n",
       "      <td>0</td>\n",
       "      <td>0</td>\n",
       "      <td>0</td>\n",
       "      <td>...</td>\n",
       "      <td>0</td>\n",
       "      <td>1</td>\n",
       "      <td>0</td>\n",
       "      <td>0</td>\n",
       "      <td>0</td>\n",
       "      <td>0</td>\n",
       "      <td>0</td>\n",
       "      <td>0</td>\n",
       "      <td>1</td>\n",
       "      <td>0</td>\n",
       "    </tr>\n",
       "  </tbody>\n",
       "</table>\n",
       "<p>5 rows × 79 columns</p>\n",
       "</div>"
      ],
      "text/plain": [
       "     area  electricity  TemperatureC  month_1  month_2  month_3  month_4  \\\n",
       "0  2777.0          5.0           7.0        0        0        0        0   \n",
       "1  2777.0          5.2           5.0        0        0        0        0   \n",
       "2  2777.0          5.2           5.0        0        0        0        0   \n",
       "3  2777.0          5.5           6.0        0        0        0        0   \n",
       "4  2777.0          6.0           7.0        0        0        0        0   \n",
       "\n",
       "   month_5  month_6  month_7  ...  hour_23  wkday_0  wkday_1  wkday_2  \\\n",
       "0        0        0        0  ...        0        1        0        0   \n",
       "1        0        0        0  ...        0        1        0        0   \n",
       "2        0        0        0  ...        0        1        0        0   \n",
       "3        0        0        0  ...        0        1        0        0   \n",
       "4        0        0        0  ...        0        1        0        0   \n",
       "\n",
       "   wkday_3  wkday_4  wkday_5  wkday_6  PSU_PrimClass  PSU_UnivClass  \n",
       "0        0        0        0        0              1              0  \n",
       "1        0        0        0        0              1              0  \n",
       "2        0        0        0        0              1              0  \n",
       "3        0        0        0        0              1              0  \n",
       "4        0        0        0        0              1              0  \n",
       "\n",
       "[5 rows x 79 columns]"
      ]
     },
     "execution_count": 7,
     "metadata": {},
     "output_type": "execute_result"
    }
   ],
   "source": [
    "train_data = train_raw.drop([ 'building_name', 'primary_space_usage', 'hour', 'year', 'month','weekday', 'date', 'timestamp', 'Unnamed: 0'], axis=1)\n",
    "val_data = val_raw.drop([ 'building_name', 'primary_space_usage', 'hour', 'year', 'month','weekday', 'date', 'timestamp', 'Unnamed: 0'], axis=1)\n",
    "\n",
    "train_data.head()\n"
   ]
  },
  {
   "cell_type": "code",
   "execution_count": 8,
   "metadata": {},
   "outputs": [
    {
     "data": {
      "text/html": [
       "<div>\n",
       "<style scoped>\n",
       "    .dataframe tbody tr th:only-of-type {\n",
       "        vertical-align: middle;\n",
       "    }\n",
       "\n",
       "    .dataframe tbody tr th {\n",
       "        vertical-align: top;\n",
       "    }\n",
       "\n",
       "    .dataframe thead th {\n",
       "        text-align: right;\n",
       "    }\n",
       "</style>\n",
       "<table border=\"1\" class=\"dataframe\">\n",
       "  <thead>\n",
       "    <tr style=\"text-align: right;\">\n",
       "      <th></th>\n",
       "      <th>area</th>\n",
       "      <th>electricity</th>\n",
       "      <th>TemperatureC</th>\n",
       "      <th>month_1</th>\n",
       "      <th>month_2</th>\n",
       "      <th>month_3</th>\n",
       "      <th>month_4</th>\n",
       "      <th>month_5</th>\n",
       "      <th>month_6</th>\n",
       "      <th>month_7</th>\n",
       "      <th>...</th>\n",
       "      <th>hour_23</th>\n",
       "      <th>wkday_0</th>\n",
       "      <th>wkday_1</th>\n",
       "      <th>wkday_2</th>\n",
       "      <th>wkday_3</th>\n",
       "      <th>wkday_4</th>\n",
       "      <th>wkday_5</th>\n",
       "      <th>wkday_6</th>\n",
       "      <th>PSU_PrimClass</th>\n",
       "      <th>PSU_UnivClass</th>\n",
       "    </tr>\n",
       "  </thead>\n",
       "  <tbody>\n",
       "    <tr>\n",
       "      <th>0</th>\n",
       "      <td>6149.0</td>\n",
       "      <td>34.900002</td>\n",
       "      <td>7.0</td>\n",
       "      <td>0</td>\n",
       "      <td>0</td>\n",
       "      <td>0</td>\n",
       "      <td>0</td>\n",
       "      <td>0</td>\n",
       "      <td>0</td>\n",
       "      <td>0</td>\n",
       "      <td>...</td>\n",
       "      <td>0</td>\n",
       "      <td>1</td>\n",
       "      <td>0</td>\n",
       "      <td>0</td>\n",
       "      <td>0</td>\n",
       "      <td>0</td>\n",
       "      <td>0</td>\n",
       "      <td>0</td>\n",
       "      <td>1</td>\n",
       "      <td>0</td>\n",
       "    </tr>\n",
       "    <tr>\n",
       "      <th>1</th>\n",
       "      <td>6149.0</td>\n",
       "      <td>32.700000</td>\n",
       "      <td>5.0</td>\n",
       "      <td>0</td>\n",
       "      <td>0</td>\n",
       "      <td>0</td>\n",
       "      <td>0</td>\n",
       "      <td>0</td>\n",
       "      <td>0</td>\n",
       "      <td>0</td>\n",
       "      <td>...</td>\n",
       "      <td>0</td>\n",
       "      <td>1</td>\n",
       "      <td>0</td>\n",
       "      <td>0</td>\n",
       "      <td>0</td>\n",
       "      <td>0</td>\n",
       "      <td>0</td>\n",
       "      <td>0</td>\n",
       "      <td>1</td>\n",
       "      <td>0</td>\n",
       "    </tr>\n",
       "    <tr>\n",
       "      <th>2</th>\n",
       "      <td>6149.0</td>\n",
       "      <td>32.200000</td>\n",
       "      <td>5.0</td>\n",
       "      <td>0</td>\n",
       "      <td>0</td>\n",
       "      <td>0</td>\n",
       "      <td>0</td>\n",
       "      <td>0</td>\n",
       "      <td>0</td>\n",
       "      <td>0</td>\n",
       "      <td>...</td>\n",
       "      <td>0</td>\n",
       "      <td>1</td>\n",
       "      <td>0</td>\n",
       "      <td>0</td>\n",
       "      <td>0</td>\n",
       "      <td>0</td>\n",
       "      <td>0</td>\n",
       "      <td>0</td>\n",
       "      <td>1</td>\n",
       "      <td>0</td>\n",
       "    </tr>\n",
       "    <tr>\n",
       "      <th>3</th>\n",
       "      <td>6149.0</td>\n",
       "      <td>32.300000</td>\n",
       "      <td>6.0</td>\n",
       "      <td>0</td>\n",
       "      <td>0</td>\n",
       "      <td>0</td>\n",
       "      <td>0</td>\n",
       "      <td>0</td>\n",
       "      <td>0</td>\n",
       "      <td>0</td>\n",
       "      <td>...</td>\n",
       "      <td>0</td>\n",
       "      <td>1</td>\n",
       "      <td>0</td>\n",
       "      <td>0</td>\n",
       "      <td>0</td>\n",
       "      <td>0</td>\n",
       "      <td>0</td>\n",
       "      <td>0</td>\n",
       "      <td>1</td>\n",
       "      <td>0</td>\n",
       "    </tr>\n",
       "    <tr>\n",
       "      <th>4</th>\n",
       "      <td>6149.0</td>\n",
       "      <td>32.599998</td>\n",
       "      <td>7.0</td>\n",
       "      <td>0</td>\n",
       "      <td>0</td>\n",
       "      <td>0</td>\n",
       "      <td>0</td>\n",
       "      <td>0</td>\n",
       "      <td>0</td>\n",
       "      <td>0</td>\n",
       "      <td>...</td>\n",
       "      <td>0</td>\n",
       "      <td>1</td>\n",
       "      <td>0</td>\n",
       "      <td>0</td>\n",
       "      <td>0</td>\n",
       "      <td>0</td>\n",
       "      <td>0</td>\n",
       "      <td>0</td>\n",
       "      <td>1</td>\n",
       "      <td>0</td>\n",
       "    </tr>\n",
       "  </tbody>\n",
       "</table>\n",
       "<p>5 rows × 79 columns</p>\n",
       "</div>"
      ],
      "text/plain": [
       "     area  electricity  TemperatureC  month_1  month_2  month_3  month_4  \\\n",
       "0  6149.0    34.900002           7.0        0        0        0        0   \n",
       "1  6149.0    32.700000           5.0        0        0        0        0   \n",
       "2  6149.0    32.200000           5.0        0        0        0        0   \n",
       "3  6149.0    32.300000           6.0        0        0        0        0   \n",
       "4  6149.0    32.599998           7.0        0        0        0        0   \n",
       "\n",
       "   month_5  month_6  month_7  ...  hour_23  wkday_0  wkday_1  wkday_2  \\\n",
       "0        0        0        0  ...        0        1        0        0   \n",
       "1        0        0        0  ...        0        1        0        0   \n",
       "2        0        0        0  ...        0        1        0        0   \n",
       "3        0        0        0  ...        0        1        0        0   \n",
       "4        0        0        0  ...        0        1        0        0   \n",
       "\n",
       "   wkday_3  wkday_4  wkday_5  wkday_6  PSU_PrimClass  PSU_UnivClass  \n",
       "0        0        0        0        0              1              0  \n",
       "1        0        0        0        0              1              0  \n",
       "2        0        0        0        0              1              0  \n",
       "3        0        0        0        0              1              0  \n",
       "4        0        0        0        0              1              0  \n",
       "\n",
       "[5 rows x 79 columns]"
      ]
     },
     "execution_count": 8,
     "metadata": {},
     "output_type": "execute_result"
    }
   ],
   "source": [
    "val_data.head()"
   ]
  },
  {
   "cell_type": "markdown",
   "metadata": {},
   "source": [
    "### Fit a model"
   ]
  },
  {
   "cell_type": "code",
   "execution_count": 9,
   "metadata": {},
   "outputs": [
    {
     "name": "stdout",
     "output_type": "stream",
     "text": [
      "Parse progress: |█████████████████████████████████████████████████████████| 100%\n",
      "Parse progress: |█████████████████████████████████████████████████████████| 100%\n"
     ]
    }
   ],
   "source": [
    "# Using one train/val split, not walk-forward cross-val\n",
    "# In h2o, if using all other cols for x, don't have to explicitly specify\n",
    "# Takes > 1 min to run\n",
    "\n",
    "# Must be formatted as h2o frames http://docs.h2o.ai/h2o/latest-stable/h2o-py/docs/frame.html\n",
    "train =  h2o.H2OFrame(train_data)\n",
    "test = h2o.H2OFrame(val_data)\n"
   ]
  },
  {
   "cell_type": "code",
   "execution_count": 10,
   "metadata": {},
   "outputs": [
    {
     "data": {
      "text/plain": [
       "['area',\n",
       " 'electricity',\n",
       " 'TemperatureC',\n",
       " 'month_1',\n",
       " 'month_2',\n",
       " 'month_3',\n",
       " 'month_4',\n",
       " 'month_5',\n",
       " 'month_6',\n",
       " 'month_7']"
      ]
     },
     "execution_count": 10,
     "metadata": {},
     "output_type": "execute_result"
    }
   ],
   "source": [
    "train.columns[:10]"
   ]
  },
  {
   "cell_type": "code",
   "execution_count": 11,
   "metadata": {},
   "outputs": [],
   "source": [
    "# In past, running for 60 s only fit one model (GLM), 3 min fit 3 (GLM, GBM, and Stacked Ensemble)\n",
    "y = 'electricity'\n",
    "x = list(train.columns)\n",
    "x.remove(y)\n"
   ]
  },
  {
   "cell_type": "code",
   "execution_count": 12,
   "metadata": {},
   "outputs": [
    {
     "name": "stdout",
     "output_type": "stream",
     "text": [
      "AutoML progress: |████████████████████████████████████████████████████████| 100%\n"
     ]
    }
   ],
   "source": [
    "aml =  H2OAutoML(max_runtime_secs = 60*15, seed = 1)\n",
    "aml.train(x = x, y = y, training_frame = train) \n",
    "# https://h2o-release.s3.amazonaws.com/h2o/rel-xia/1/docs-website/h2o-docs/automl.html\n",
    "# \"If the user doesn’t specify a validation_frame, then one will be created automatically by randomly partitioning the training data\""
   ]
  },
  {
   "cell_type": "code",
   "execution_count": 13,
   "metadata": {
    "scrolled": true
   },
   "outputs": [
    {
     "data": {
      "text/html": [
       "<table>\n",
       "<thead>\n",
       "<tr><th>model_id                                 </th><th style=\"text-align: right;\">  mean_residual_deviance</th><th style=\"text-align: right;\">   rmse</th><th style=\"text-align: right;\">    mse</th><th style=\"text-align: right;\">    mae</th><th style=\"text-align: right;\">  rmsle</th></tr>\n",
       "</thead>\n",
       "<tbody>\n",
       "<tr><td>GLM_grid_1_AutoML_20190815_205904_model_1</td><td style=\"text-align: right;\">                 355.912</td><td style=\"text-align: right;\">18.8656</td><td style=\"text-align: right;\">355.912</td><td style=\"text-align: right;\">11.3939</td><td style=\"text-align: right;\">    nan</td></tr>\n",
       "</tbody>\n",
       "</table>"
      ]
     },
     "metadata": {},
     "output_type": "display_data"
    },
    {
     "data": {
      "text/plain": []
     },
     "execution_count": 13,
     "metadata": {},
     "output_type": "execute_result"
    }
   ],
   "source": [
    "aml.leaderboard.head()"
   ]
  },
  {
   "cell_type": "code",
   "execution_count": 14,
   "metadata": {},
   "outputs": [
    {
     "name": "stdout",
     "output_type": "stream",
     "text": [
      "Model Details\n",
      "=============\n",
      "H2OGeneralizedLinearEstimator :  Generalized Linear Modeling\n",
      "Model Key:  GLM_grid_1_AutoML_20190815_205904_model_1\n",
      "\n",
      "GLM Model: summary\n",
      "\n"
     ]
    },
    {
     "data": {
      "text/html": [
       "<div style=\"overflow:auto\"><table style=\"width:50%\"><tr><td><b></b></td>\n",
       "<td><b>family</b></td>\n",
       "<td><b>link</b></td>\n",
       "<td><b>regularization</b></td>\n",
       "<td><b>lambda_search</b></td>\n",
       "<td><b>number_of_predictors_total</b></td>\n",
       "<td><b>number_of_active_predictors</b></td>\n",
       "<td><b>number_of_iterations</b></td>\n",
       "<td><b>training_frame</b></td></tr>\n",
       "<tr><td></td>\n",
       "<td>gaussian</td>\n",
       "<td>identity</td>\n",
       "<td>Ridge ( lambda = 0.003383 )</td>\n",
       "<td>nlambda = 30, lambda.max = 2100.8, lambda.min = 0.003383, lambda.1se = 0.02274</td>\n",
       "<td>78</td>\n",
       "<td>78</td>\n",
       "<td>30</td>\n",
       "<td>automl_training_Key_Frame__upload_bc82be3fe1bb75f76654e57af7a4489a.hex</td></tr></table></div>"
      ],
      "text/plain": [
       "    family    link      regularization               lambda_search                                                                   number_of_predictors_total    number_of_active_predictors    number_of_iterations    training_frame\n",
       "--  --------  --------  ---------------------------  ------------------------------------------------------------------------------  ----------------------------  -----------------------------  ----------------------  ----------------------------------------------------------------------\n",
       "    gaussian  identity  Ridge ( lambda = 0.003383 )  nlambda = 30, lambda.max = 2100.8, lambda.min = 0.003383, lambda.1se = 0.02274  78                            78                             30                      automl_training_Key_Frame__upload_bc82be3fe1bb75f76654e57af7a4489a.hex"
      ]
     },
     "metadata": {},
     "output_type": "display_data"
    },
    {
     "name": "stdout",
     "output_type": "stream",
     "text": [
      "\n",
      "\n",
      "ModelMetricsRegressionGLM: glm\n",
      "** Reported on train data. **\n",
      "\n",
      "MSE: 355.90198634165347\n",
      "RMSE: 18.86536472856153\n",
      "MAE: 11.398359620762543\n",
      "RMSLE: NaN\n",
      "R^2: 0.610634857329595\n",
      "Mean Residual Deviance: 355.90198634165347\n",
      "Null degrees of freedom: 437849\n",
      "Residual degrees of freedom: 437771\n",
      "Null deviance: 400219916.0688677\n",
      "Residual deviance: 155831684.71969298\n",
      "AIC: 3814942.328892991\n",
      "\n",
      "ModelMetricsRegressionGLM: glm\n",
      "** Reported on cross-validation data. **\n",
      "\n",
      "MSE: 355.9119715233938\n",
      "RMSE: 18.86562936992545\n",
      "MAE: 11.39389943154019\n",
      "RMSLE: NaN\n",
      "R^2: 0.6106239333059547\n",
      "Mean Residual Deviance: 355.9119715233938\n",
      "Null degrees of freedom: 437849\n",
      "Residual degrees of freedom: 437771\n",
      "Null deviance: 400219920.4307822\n",
      "Residual deviance: 155836056.73151797\n",
      "AIC: 3814954.613034871\n",
      "Cross-Validation Metrics Summary: \n"
     ]
    },
    {
     "data": {
      "text/html": [
       "<div style=\"overflow:auto\"><table style=\"width:50%\"><tr><td><b></b></td>\n",
       "<td><b>mean</b></td>\n",
       "<td><b>sd</b></td>\n",
       "<td><b>cv_1_valid</b></td>\n",
       "<td><b>cv_2_valid</b></td>\n",
       "<td><b>cv_3_valid</b></td>\n",
       "<td><b>cv_4_valid</b></td>\n",
       "<td><b>cv_5_valid</b></td></tr>\n",
       "<tr><td>mae</td>\n",
       "<td>12.9113245</td>\n",
       "<td>2.0827684</td>\n",
       "<td>11.397179</td>\n",
       "<td>11.53778</td>\n",
       "<td>18.801388</td>\n",
       "<td>11.413568</td>\n",
       "<td>11.40671</td></tr>\n",
       "<tr><td>mean_residual_deviance</td>\n",
       "<td>489.55487</td>\n",
       "<td>153.12405</td>\n",
       "<td>354.73022</td>\n",
       "<td>465.2227</td>\n",
       "<td>914.32043</td>\n",
       "<td>357.08102</td>\n",
       "<td>356.41998</td></tr>\n",
       "<tr><td>mse</td>\n",
       "<td>489.55487</td>\n",
       "<td>153.12405</td>\n",
       "<td>354.73022</td>\n",
       "<td>465.2227</td>\n",
       "<td>914.32043</td>\n",
       "<td>357.08102</td>\n",
       "<td>356.41998</td></tr>\n",
       "<tr><td>null_deviance</td>\n",
       "<td>80043984.0000000</td>\n",
       "<td>89050.21</td>\n",
       "<td>79874016.0000000</td>\n",
       "<td>79916616.0000000</td>\n",
       "<td>80106560.0000000</td>\n",
       "<td>8.01982E7</td>\n",
       "<td>80124528.0000000</td></tr>\n",
       "<tr><td>r2</td>\n",
       "<td>0.4644730</td>\n",
       "<td>0.1673187</td>\n",
       "<td>0.6110910</td>\n",
       "<td>0.4902242</td>\n",
       "<td>0.0004933</td>\n",
       "<td>0.6100962</td>\n",
       "<td>0.6104601</td></tr>\n",
       "<tr><td>residual_deviance</td>\n",
       "<td>42870320.0000000</td>\n",
       "<td>13409073.0000000</td>\n",
       "<td>31063726.0000000</td>\n",
       "<td>40739548.0000000</td>\n",
       "<td>80067040.0000000</td>\n",
       "<td>31269584.0000000</td>\n",
       "<td>31211698.0000000</td></tr>\n",
       "<tr><td>rmse</td>\n",
       "<td>21.683342</td>\n",
       "<td>3.1134808</td>\n",
       "<td>18.834284</td>\n",
       "<td>21.569021</td>\n",
       "<td>30.237732</td>\n",
       "<td>18.896587</td>\n",
       "<td>18.87909</td></tr>\n",
       "<tr><td>rmsle</td>\n",
       "<td>1.2745814</td>\n",
       "<td>0.0</td>\n",
       "<td>NaN</td>\n",
       "<td>NaN</td>\n",
       "<td>1.2745814</td>\n",
       "<td>NaN</td>\n",
       "<td>NaN</td></tr></table></div>"
      ],
      "text/plain": [
       "                        mean         sd           cv_1_valid    cv_2_valid    cv_3_valid    cv_4_valid    cv_5_valid\n",
       "----------------------  -----------  -----------  ------------  ------------  ------------  ------------  ------------\n",
       "mae                     12.9113      2.08277      11.3972       11.5378       18.8014       11.4136       11.4067\n",
       "mean_residual_deviance  489.555      153.124      354.73        465.223       914.32        357.081       356.42\n",
       "mse                     489.555      153.124      354.73        465.223       914.32        357.081       356.42\n",
       "null_deviance           8.0044e+07   89050.2      7.9874e+07    7.99166e+07   8.01066e+07   8.01982e+07   8.01245e+07\n",
       "r2                      0.464473     0.167319     0.611091      0.490224      0.000493343   0.610096      0.61046\n",
       "residual_deviance       4.28703e+07  1.34091e+07  3.10637e+07   4.07395e+07   8.0067e+07    3.12696e+07   3.12117e+07\n",
       "rmse                    21.6833      3.11348      18.8343       21.569        30.2377       18.8966       18.8791\n",
       "rmsle                   1.27458      0            nan           nan           1.27458       nan           nan"
      ]
     },
     "metadata": {},
     "output_type": "display_data"
    },
    {
     "name": "stdout",
     "output_type": "stream",
     "text": [
      "Scoring History: \n"
     ]
    },
    {
     "data": {
      "text/html": [
       "<div style=\"overflow:auto\"><table style=\"width:50%\"><tr><td><b></b></td>\n",
       "<td><b>timestamp</b></td>\n",
       "<td><b>duration</b></td>\n",
       "<td><b>iteration</b></td>\n",
       "<td><b>lambda</b></td>\n",
       "<td><b>predictors</b></td>\n",
       "<td><b>deviance_train</b></td>\n",
       "<td><b>deviance_test</b></td>\n",
       "<td><b>deviance_xval</b></td>\n",
       "<td><b>deviance_se</b></td></tr>\n",
       "<tr><td></td>\n",
       "<td>2019-08-15 21:00:58</td>\n",
       "<td> 0.000 sec</td>\n",
       "<td>1</td>\n",
       "<td>.21E4</td>\n",
       "<td>76</td>\n",
       "<td>913.4931216</td>\n",
       "<td>nan</td>\n",
       "<td>913.6058648</td>\n",
       "<td>0.7189761</td></tr>\n",
       "<tr><td></td>\n",
       "<td>2019-08-15 21:00:58</td>\n",
       "<td> 0.031 sec</td>\n",
       "<td>2</td>\n",
       "<td>.13E4</td>\n",
       "<td>77</td>\n",
       "<td>913.1494122</td>\n",
       "<td>nan</td>\n",
       "<td>913.3307772</td>\n",
       "<td>0.7189256</td></tr>\n",
       "<tr><td></td>\n",
       "<td>2019-08-15 21:00:58</td>\n",
       "<td> 0.062 sec</td>\n",
       "<td>3</td>\n",
       "<td>.81E3</td>\n",
       "<td>77</td>\n",
       "<td>912.5966543</td>\n",
       "<td>nan</td>\n",
       "<td>912.8882653</td>\n",
       "<td>0.7188445</td></tr>\n",
       "<tr><td></td>\n",
       "<td>2019-08-15 21:00:58</td>\n",
       "<td> 0.109 sec</td>\n",
       "<td>4</td>\n",
       "<td>.5E3</td>\n",
       "<td>78</td>\n",
       "<td>911.7084617</td>\n",
       "<td>nan</td>\n",
       "<td>912.1769190</td>\n",
       "<td>0.7187138</td></tr>\n",
       "<tr><td></td>\n",
       "<td>2019-08-15 21:00:58</td>\n",
       "<td> 0.140 sec</td>\n",
       "<td>5</td>\n",
       "<td>.31E3</td>\n",
       "<td>79</td>\n",
       "<td>910.2832189</td>\n",
       "<td>nan</td>\n",
       "<td>911.0345970</td>\n",
       "<td>0.7185036</td></tr>\n",
       "<tr><td>---</td>\n",
       "<td>---</td>\n",
       "<td>---</td>\n",
       "<td>---</td>\n",
       "<td>---</td>\n",
       "<td>---</td>\n",
       "<td>---</td>\n",
       "<td>---</td>\n",
       "<td>---</td>\n",
       "<td>---</td></tr>\n",
       "<tr><td></td>\n",
       "<td>2019-08-15 21:00:59</td>\n",
       "<td> 0.812 sec</td>\n",
       "<td>26</td>\n",
       "<td>.14E-1</td>\n",
       "<td>79</td>\n",
       "<td>356.0097341</td>\n",
       "<td>nan</td>\n",
       "<td>356.0789325</td>\n",
       "<td>0.4500089</td></tr>\n",
       "<tr><td></td>\n",
       "<td>2019-08-15 21:00:59</td>\n",
       "<td> 0.843 sec</td>\n",
       "<td>27</td>\n",
       "<td>.88E-2</td>\n",
       "<td>79</td>\n",
       "<td>355.9399134</td>\n",
       "<td>nan</td>\n",
       "<td>355.9708828</td>\n",
       "<td>0.4478193</td></tr>\n",
       "<tr><td></td>\n",
       "<td>2019-08-15 21:00:59</td>\n",
       "<td> 0.875 sec</td>\n",
       "<td>28</td>\n",
       "<td>.54E-2</td>\n",
       "<td>79</td>\n",
       "<td>355.9126065</td>\n",
       "<td>nan</td>\n",
       "<td>355.9284929</td>\n",
       "<td>0.4464418</td></tr>\n",
       "<tr><td></td>\n",
       "<td>2019-08-15 21:00:59</td>\n",
       "<td> 0.906 sec</td>\n",
       "<td>29</td>\n",
       "<td>.34E-2</td>\n",
       "<td>79</td>\n",
       "<td>355.9019864</td>\n",
       "<td>nan</td>\n",
       "<td>355.9119716</td>\n",
       "<td>0.4455801</td></tr>\n",
       "<tr><td></td>\n",
       "<td>2019-08-15 21:00:59</td>\n",
       "<td> 0.937 sec</td>\n",
       "<td>30</td>\n",
       "<td>.21E-2</td>\n",
       "<td>79</td>\n",
       "<td>355.8978670</td>\n",
       "<td>nan</td>\n",
       "<td>0.0</td>\n",
       "<td>0.0</td></tr></table></div>"
      ],
      "text/plain": [
       "     timestamp            duration    iteration    lambda    predictors    deviance_train      deviance_test    deviance_xval       deviance_se\n",
       "---  -------------------  ----------  -----------  --------  ------------  ------------------  ---------------  ------------------  -------------------\n",
       "     2019-08-15 21:00:58  0.000 sec   1            .21E4     76            913.4931216087671   nan              913.6058647527445   0.7189761333196903\n",
       "     2019-08-15 21:00:58  0.031 sec   2            .13E4     77            913.149412165188    nan              913.3307772182336   0.7189255818671376\n",
       "     2019-08-15 21:00:58  0.062 sec   3            .81E3     77            912.5966543411623   nan              912.8882652997052   0.7188445424211726\n",
       "     2019-08-15 21:00:58  0.109 sec   4            .5E3      78            911.7084616546169   nan              912.1769189572635   0.7187138436499642\n",
       "     2019-08-15 21:00:58  0.140 sec   5            .31E3     79            910.2832189475299   nan              911.0345970445263   0.7185036385982104\n",
       "---  ---                  ---         ---          ---       ---           ---                 ---              ---                 ---\n",
       "     2019-08-15 21:00:59  0.812 sec   26           .14E-1    79            356.0097341140675   nan              356.0789325408158   0.45000891887242117\n",
       "     2019-08-15 21:00:59  0.843 sec   27           .88E-2    79            355.93991339822696  nan              355.97088279971376  0.44781929538765775\n",
       "     2019-08-15 21:00:59  0.875 sec   28           .54E-2    79            355.91260648601593  nan              355.9284929084339   0.4464417528153561\n",
       "     2019-08-15 21:00:59  0.906 sec   29           .34E-2    79            355.9019864007326   nan              355.9119715823707   0.44558009148500033\n",
       "     2019-08-15 21:00:59  0.937 sec   30           .21E-2    79            355.8978669864245   nan              0.0                 0.0"
      ]
     },
     "metadata": {},
     "output_type": "display_data"
    },
    {
     "name": "stdout",
     "output_type": "stream",
     "text": [
      "\n",
      "See the whole table with table.as_data_frame()\n"
     ]
    },
    {
     "data": {
      "text/plain": []
     },
     "execution_count": 14,
     "metadata": {},
     "output_type": "execute_result"
    }
   ],
   "source": [
    "# Inspect the leader model\n",
    "aml.leader"
   ]
  },
  {
   "cell_type": "code",
   "execution_count": 15,
   "metadata": {},
   "outputs": [
    {
     "name": "stdout",
     "output_type": "stream",
     "text": [
      "glm prediction progress: |████████████████████████████████████████████████| 100%\n"
     ]
    },
    {
     "data": {
      "text/html": [
       "<table>\n",
       "<thead>\n",
       "<tr><th style=\"text-align: right;\">  predict</th></tr>\n",
       "</thead>\n",
       "<tbody>\n",
       "<tr><td style=\"text-align: right;\">  27.371 </td></tr>\n",
       "<tr><td style=\"text-align: right;\">  27.3404</td></tr>\n",
       "<tr><td style=\"text-align: right;\">  27.3579</td></tr>\n",
       "<tr><td style=\"text-align: right;\">  27.4195</td></tr>\n",
       "<tr><td style=\"text-align: right;\">  27.9138</td></tr>\n",
       "<tr><td style=\"text-align: right;\">  28.9514</td></tr>\n",
       "<tr><td style=\"text-align: right;\">  31.8214</td></tr>\n",
       "<tr><td style=\"text-align: right;\">  36.8104</td></tr>\n",
       "<tr><td style=\"text-align: right;\">  42.6961</td></tr>\n",
       "<tr><td style=\"text-align: right;\">  47.0709</td></tr>\n",
       "</tbody>\n",
       "</table>"
      ]
     },
     "metadata": {},
     "output_type": "display_data"
    },
    {
     "data": {
      "text/plain": []
     },
     "execution_count": 15,
     "metadata": {},
     "output_type": "execute_result"
    }
   ],
   "source": [
    "# make predictions using leader model\n",
    "pred = aml.leader.predict(test)\n",
    "pred.head()"
   ]
  },
  {
   "cell_type": "code",
   "execution_count": 16,
   "metadata": {},
   "outputs": [
    {
     "data": {
      "text/plain": [
       "(166383, 1)"
      ]
     },
     "execution_count": 16,
     "metadata": {},
     "output_type": "execute_result"
    }
   ],
   "source": [
    "pred.shape"
   ]
  },
  {
   "cell_type": "code",
   "execution_count": 17,
   "metadata": {},
   "outputs": [
    {
     "name": "stdout",
     "output_type": "stream",
     "text": [
      "19\n"
     ]
    }
   ],
   "source": [
    "num_buildings = len(val_raw['building_name'].unique())\n",
    "print(num_buildings)"
   ]
  },
  {
   "cell_type": "code",
   "execution_count": 18,
   "metadata": {},
   "outputs": [
    {
     "name": "stderr",
     "output_type": "stream",
     "text": [
      "C:\\Users\\dmmma\\Anaconda3\\lib\\site-packages\\ipykernel_launcher.py:1: FutureWarning: Method .as_matrix will be removed in a future version. Use .values instead.\n",
      "  \"\"\"Entry point for launching an IPython kernel.\n"
     ]
    }
   ],
   "source": [
    "aml_pred_npy = pred.as_data_frame().as_matrix().reshape((num_buildings, pred.shape[0]//num_buildings))\n"
   ]
  },
  {
   "cell_type": "code",
   "execution_count": 19,
   "metadata": {},
   "outputs": [
    {
     "data": {
      "text/plain": [
       "(19, 8757)"
      ]
     },
     "execution_count": 19,
     "metadata": {},
     "output_type": "execute_result"
    }
   ],
   "source": [
    "aml_pred_npy.shape"
   ]
  }
 ],
 "metadata": {
  "kernelspec": {
   "display_name": "Python 3",
   "language": "python",
   "name": "python3"
  },
  "language_info": {
   "codemirror_mode": {
    "name": "ipython",
    "version": 3
   },
   "file_extension": ".py",
   "mimetype": "text/x-python",
   "name": "python",
   "nbconvert_exporter": "python",
   "pygments_lexer": "ipython3",
   "version": "3.7.3"
  }
 },
 "nbformat": 4,
 "nbformat_minor": 2
}
