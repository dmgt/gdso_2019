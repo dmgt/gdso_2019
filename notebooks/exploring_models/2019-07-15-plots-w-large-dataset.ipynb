{
 "cells": [
  {
   "cell_type": "code",
   "execution_count": 63,
   "metadata": {},
   "outputs": [],
   "source": [
    "# Based on  tutorial https://github.com/h2oai/h2o-tutorials/blob/master/h2o-world-2017/automl/Python/automl_regression_powerplant_output.ipynb\n",
    "# Try to rerun model \n",
    "\n",
    "import pandas as pd\n",
    "import numpy as np\n",
    "import matplotlib.pyplot as plt\n",
    "%matplotlib inline\n"
   ]
  },
  {
   "cell_type": "code",
   "execution_count": 3,
   "metadata": {},
   "outputs": [
    {
     "name": "stdout",
     "output_type": "stream",
     "text": [
      "[WARNING] in <ipython-input-3-b136f5fa3fcd> line 1:\n",
      "    >>> h2o.shutdown(prompt=True)\n",
      "        ^^^^ Deprecated, use ``h2o.cluster().shutdown()``.\n",
      "Are you sure you want to shutdown the H2O instance running at http://localhost:54323 (Y/N)? Y\n",
      "H2O session _sid_8ccd closed.\n"
     ]
    }
   ],
   "source": [
    "#h2o.shutdown(prompt=True) "
   ]
  },
  {
   "cell_type": "code",
   "execution_count": 16,
   "metadata": {},
   "outputs": [
    {
     "name": "stdout",
     "output_type": "stream",
     "text": [
      "Checking whether there is an H2O instance running at http://localhost:54323 . connected.\n"
     ]
    },
    {
     "data": {
      "text/html": [
       "<div style=\"overflow:auto\"><table style=\"width:50%\"><tr><td>H2O cluster uptime:</td>\n",
       "<td>5 mins 53 secs</td></tr>\n",
       "<tr><td>H2O cluster timezone:</td>\n",
       "<td>America/Los_Angeles</td></tr>\n",
       "<tr><td>H2O data parsing timezone:</td>\n",
       "<td>UTC</td></tr>\n",
       "<tr><td>H2O cluster version:</td>\n",
       "<td>3.26.0.2</td></tr>\n",
       "<tr><td>H2O cluster version age:</td>\n",
       "<td>19 days </td></tr>\n",
       "<tr><td>H2O cluster name:</td>\n",
       "<td>H2O_from_python_dmmma_htld0z</td></tr>\n",
       "<tr><td>H2O cluster total nodes:</td>\n",
       "<td>1</td></tr>\n",
       "<tr><td>H2O cluster free memory:</td>\n",
       "<td>707 kb</td></tr>\n",
       "<tr><td>H2O cluster total cores:</td>\n",
       "<td>8</td></tr>\n",
       "<tr><td>H2O cluster allowed cores:</td>\n",
       "<td>8</td></tr>\n",
       "<tr><td>H2O cluster status:</td>\n",
       "<td>locked, healthy</td></tr>\n",
       "<tr><td>H2O connection url:</td>\n",
       "<td>http://localhost:54323</td></tr>\n",
       "<tr><td>H2O connection proxy:</td>\n",
       "<td>None</td></tr>\n",
       "<tr><td>H2O internal security:</td>\n",
       "<td>False</td></tr>\n",
       "<tr><td>H2O API Extensions:</td>\n",
       "<td>Amazon S3, Algos, AutoML, Core V3, Core V4</td></tr>\n",
       "<tr><td>Python version:</td>\n",
       "<td>3.7.3 final</td></tr></table></div>"
      ],
      "text/plain": [
       "--------------------------  ------------------------------------------\n",
       "H2O cluster uptime:         5 mins 53 secs\n",
       "H2O cluster timezone:       America/Los_Angeles\n",
       "H2O data parsing timezone:  UTC\n",
       "H2O cluster version:        3.26.0.2\n",
       "H2O cluster version age:    19 days\n",
       "H2O cluster name:           H2O_from_python_dmmma_htld0z\n",
       "H2O cluster total nodes:    1\n",
       "H2O cluster free memory:    707 kb\n",
       "H2O cluster total cores:    8\n",
       "H2O cluster allowed cores:  8\n",
       "H2O cluster status:         locked, healthy\n",
       "H2O connection url:         http://localhost:54323\n",
       "H2O connection proxy:\n",
       "H2O internal security:      False\n",
       "H2O API Extensions:         Amazon S3, Algos, AutoML, Core V3, Core V4\n",
       "Python version:             3.7.3 final\n",
       "--------------------------  ------------------------------------------"
      ]
     },
     "metadata": {},
     "output_type": "display_data"
    }
   ],
   "source": [
    "# Needed to install Java JRE https://www.java.com/en/download/win10.jsp \n",
    "import h2o \n",
    "from h2o.automl import H2OAutoML\n",
    "h2o.init(ip=\"localhost\", port=54323)"
   ]
  },
  {
   "cell_type": "markdown",
   "metadata": {},
   "source": [
    "### Load data"
   ]
  },
  {
   "cell_type": "code",
   "execution_count": 87,
   "metadata": {},
   "outputs": [
    {
     "name": "stdout",
     "output_type": "stream",
     "text": [
      " Volume in drive C is Local Disk\n",
      " Volume Serial Number is AA1B-997A\n",
      "\n",
      " Directory of C:\\Users\\dmmma\\Documents\\GDSO\\gdso_2019\\notebooks\\exploring_models\n",
      "\n",
      "16-Aug-19  11:16 AM    <DIR>          .\n",
      "16-Aug-19  11:16 AM    <DIR>          ..\n",
      "09-Aug-19  12:24 AM                 2 .gitkeep\n",
      "16-Aug-19  10:56 AM    <DIR>          .ipynb_checkpoints\n",
      "15-Aug-19  08:54 PM            49,015 2019-07-05-autoML.ipynb\n",
      "15-Aug-19  10:10 PM           685,083 2019-07-14-notes_for_running_RF_on_cluster.ipynb\n",
      "15-Aug-19  05:46 PM           686,439 2019-07-14-update_RF.ipynb\n",
      "15-Aug-19  09:31 PM            40,857 2019-07-15-autoML-GLM.ipynb\n",
      "16-Aug-19  11:16 AM           280,581 2019-07-15-plots-w-large-dataset.ipynb\n",
      "09-Aug-19  12:24 AM           114,298 LSTM.ipynb\n",
      "15-Aug-19  10:42 PM       307,468,699 test.csv\n",
      "15-Aug-19  09:40 PM       233,041,711 test_light.csv\n",
      "16-Aug-19  11:16 AM     1,211,249,073 train.csv\n",
      "15-Aug-19  09:41 PM       917,846,895 train_light.csv\n",
      "09-Aug-19  12:45 AM        40,128,063 weather1_education_test.csv\n",
      "09-Aug-19  12:45 AM       106,308,540 weather1_education_train.csv\n",
      "              13 File(s)  2,817,899,256 bytes\n",
      "               3 Dir(s)  172,168,712,192 bytes free\n"
     ]
    }
   ],
   "source": [
    "%ls"
   ]
  },
  {
   "cell_type": "code",
   "execution_count": null,
   "metadata": {},
   "outputs": [],
   "source": [
    "# test.csv has temperature, test_light does not\n",
    "\n",
    "#train_raw = pd.read_csv('train_light.csv')\n",
    "#val_raw = pd.read_csv('test_light.csv')\n",
    "\n",
    "val_raw = pd.read_csv('test.csv')\n",
    "#train_raw = pd.read_csv('train.csv') - too big to load"
   ]
  },
  {
   "cell_type": "code",
   "execution_count": 65,
   "metadata": {},
   "outputs": [
    {
     "data": {
      "text/html": [
       "<div>\n",
       "<style scoped>\n",
       "    .dataframe tbody tr th:only-of-type {\n",
       "        vertical-align: middle;\n",
       "    }\n",
       "\n",
       "    .dataframe tbody tr th {\n",
       "        vertical-align: top;\n",
       "    }\n",
       "\n",
       "    .dataframe thead th {\n",
       "        text-align: right;\n",
       "    }\n",
       "</style>\n",
       "<table border=\"1\" class=\"dataframe\">\n",
       "  <thead>\n",
       "    <tr style=\"text-align: right;\">\n",
       "      <th></th>\n",
       "      <th>Unnamed: 0</th>\n",
       "      <th>timestamp</th>\n",
       "      <th>electricity</th>\n",
       "      <th>building_name</th>\n",
       "      <th>weather_file</th>\n",
       "      <th>industry</th>\n",
       "      <th>area</th>\n",
       "      <th>primary_space_usage</th>\n",
       "      <th>TemperatureC</th>\n",
       "      <th>month</th>\n",
       "      <th>...</th>\n",
       "      <th>weather_file_weather8.csv</th>\n",
       "      <th>weather_file_weather9.csv</th>\n",
       "      <th>industry_Commercial Property</th>\n",
       "      <th>industry_Education</th>\n",
       "      <th>industry_Government</th>\n",
       "      <th>primary_space_usage_Office</th>\n",
       "      <th>primary_space_usage_PrimClass</th>\n",
       "      <th>primary_space_usage_UnivClass</th>\n",
       "      <th>primary_space_usage_UnivDorm</th>\n",
       "      <th>primary_space_usage_UnivLab</th>\n",
       "    </tr>\n",
       "  </thead>\n",
       "  <tbody>\n",
       "    <tr>\n",
       "      <th>0</th>\n",
       "      <td>24</td>\n",
       "      <td>2015-01-01 07:00:00</td>\n",
       "      <td>5.33</td>\n",
       "      <td>Office_Abigail</td>\n",
       "      <td>weather0.csv</td>\n",
       "      <td>Education</td>\n",
       "      <td>901.437809</td>\n",
       "      <td>Office</td>\n",
       "      <td>2.8</td>\n",
       "      <td>1</td>\n",
       "      <td>...</td>\n",
       "      <td>0</td>\n",
       "      <td>0</td>\n",
       "      <td>0</td>\n",
       "      <td>1</td>\n",
       "      <td>0</td>\n",
       "      <td>1</td>\n",
       "      <td>0</td>\n",
       "      <td>0</td>\n",
       "      <td>0</td>\n",
       "      <td>0</td>\n",
       "    </tr>\n",
       "    <tr>\n",
       "      <th>1</th>\n",
       "      <td>120</td>\n",
       "      <td>2015-01-01 08:00:00</td>\n",
       "      <td>5.41</td>\n",
       "      <td>Office_Abigail</td>\n",
       "      <td>weather0.csv</td>\n",
       "      <td>Education</td>\n",
       "      <td>901.437809</td>\n",
       "      <td>Office</td>\n",
       "      <td>2.8</td>\n",
       "      <td>1</td>\n",
       "      <td>...</td>\n",
       "      <td>0</td>\n",
       "      <td>0</td>\n",
       "      <td>0</td>\n",
       "      <td>1</td>\n",
       "      <td>0</td>\n",
       "      <td>1</td>\n",
       "      <td>0</td>\n",
       "      <td>0</td>\n",
       "      <td>0</td>\n",
       "      <td>0</td>\n",
       "    </tr>\n",
       "    <tr>\n",
       "      <th>2</th>\n",
       "      <td>216</td>\n",
       "      <td>2015-01-01 09:00:00</td>\n",
       "      <td>5.60</td>\n",
       "      <td>Office_Abigail</td>\n",
       "      <td>weather0.csv</td>\n",
       "      <td>Education</td>\n",
       "      <td>901.437809</td>\n",
       "      <td>Office</td>\n",
       "      <td>3.9</td>\n",
       "      <td>1</td>\n",
       "      <td>...</td>\n",
       "      <td>0</td>\n",
       "      <td>0</td>\n",
       "      <td>0</td>\n",
       "      <td>1</td>\n",
       "      <td>0</td>\n",
       "      <td>1</td>\n",
       "      <td>0</td>\n",
       "      <td>0</td>\n",
       "      <td>0</td>\n",
       "      <td>0</td>\n",
       "    </tr>\n",
       "    <tr>\n",
       "      <th>3</th>\n",
       "      <td>312</td>\n",
       "      <td>2015-01-01 10:00:00</td>\n",
       "      <td>6.50</td>\n",
       "      <td>Office_Abigail</td>\n",
       "      <td>weather0.csv</td>\n",
       "      <td>Education</td>\n",
       "      <td>901.437809</td>\n",
       "      <td>Office</td>\n",
       "      <td>5.0</td>\n",
       "      <td>1</td>\n",
       "      <td>...</td>\n",
       "      <td>0</td>\n",
       "      <td>0</td>\n",
       "      <td>0</td>\n",
       "      <td>1</td>\n",
       "      <td>0</td>\n",
       "      <td>1</td>\n",
       "      <td>0</td>\n",
       "      <td>0</td>\n",
       "      <td>0</td>\n",
       "      <td>0</td>\n",
       "    </tr>\n",
       "    <tr>\n",
       "      <th>4</th>\n",
       "      <td>408</td>\n",
       "      <td>2015-01-01 11:00:00</td>\n",
       "      <td>5.39</td>\n",
       "      <td>Office_Abigail</td>\n",
       "      <td>weather0.csv</td>\n",
       "      <td>Education</td>\n",
       "      <td>901.437809</td>\n",
       "      <td>Office</td>\n",
       "      <td>5.6</td>\n",
       "      <td>1</td>\n",
       "      <td>...</td>\n",
       "      <td>0</td>\n",
       "      <td>0</td>\n",
       "      <td>0</td>\n",
       "      <td>1</td>\n",
       "      <td>0</td>\n",
       "      <td>1</td>\n",
       "      <td>0</td>\n",
       "      <td>0</td>\n",
       "      <td>0</td>\n",
       "      <td>0</td>\n",
       "    </tr>\n",
       "  </tbody>\n",
       "</table>\n",
       "<p>5 rows × 133 columns</p>\n",
       "</div>"
      ],
      "text/plain": [
       "   Unnamed: 0            timestamp  electricity   building_name  weather_file  \\\n",
       "0          24  2015-01-01 07:00:00         5.33  Office_Abigail  weather0.csv   \n",
       "1         120  2015-01-01 08:00:00         5.41  Office_Abigail  weather0.csv   \n",
       "2         216  2015-01-01 09:00:00         5.60  Office_Abigail  weather0.csv   \n",
       "3         312  2015-01-01 10:00:00         6.50  Office_Abigail  weather0.csv   \n",
       "4         408  2015-01-01 11:00:00         5.39  Office_Abigail  weather0.csv   \n",
       "\n",
       "    industry        area primary_space_usage  TemperatureC  month  ...  \\\n",
       "0  Education  901.437809              Office           2.8      1  ...   \n",
       "1  Education  901.437809              Office           2.8      1  ...   \n",
       "2  Education  901.437809              Office           3.9      1  ...   \n",
       "3  Education  901.437809              Office           5.0      1  ...   \n",
       "4  Education  901.437809              Office           5.6      1  ...   \n",
       "\n",
       "   weather_file_weather8.csv  weather_file_weather9.csv  \\\n",
       "0                          0                          0   \n",
       "1                          0                          0   \n",
       "2                          0                          0   \n",
       "3                          0                          0   \n",
       "4                          0                          0   \n",
       "\n",
       "   industry_Commercial Property  industry_Education  industry_Government  \\\n",
       "0                             0                   1                    0   \n",
       "1                             0                   1                    0   \n",
       "2                             0                   1                    0   \n",
       "3                             0                   1                    0   \n",
       "4                             0                   1                    0   \n",
       "\n",
       "   primary_space_usage_Office  primary_space_usage_PrimClass  \\\n",
       "0                           1                              0   \n",
       "1                           1                              0   \n",
       "2                           1                              0   \n",
       "3                           1                              0   \n",
       "4                           1                              0   \n",
       "\n",
       "   primary_space_usage_UnivClass  primary_space_usage_UnivDorm  \\\n",
       "0                              0                             0   \n",
       "1                              0                             0   \n",
       "2                              0                             0   \n",
       "3                              0                             0   \n",
       "4                              0                             0   \n",
       "\n",
       "   primary_space_usage_UnivLab  \n",
       "0                            0  \n",
       "1                            0  \n",
       "2                            0  \n",
       "3                            0  \n",
       "4                            0  \n",
       "\n",
       "[5 rows x 133 columns]"
      ]
     },
     "execution_count": 65,
     "metadata": {},
     "output_type": "execute_result"
    }
   ],
   "source": [
    "val_raw.head()"
   ]
  },
  {
   "cell_type": "code",
   "execution_count": 66,
   "metadata": {},
   "outputs": [
    {
     "data": {
      "text/plain": [
       "Index(['Unnamed: 0', 'timestamp', 'electricity', 'building_name',\n",
       "       'weather_file', 'industry', 'area', 'primary_space_usage',\n",
       "       'TemperatureC', 'month',\n",
       "       ...\n",
       "       'weather_file_weather8.csv', 'weather_file_weather9.csv',\n",
       "       'industry_Commercial Property', 'industry_Education',\n",
       "       'industry_Government', 'primary_space_usage_Office',\n",
       "       'primary_space_usage_PrimClass', 'primary_space_usage_UnivClass',\n",
       "       'primary_space_usage_UnivDorm', 'primary_space_usage_UnivLab'],\n",
       "      dtype='object', length=133)"
      ]
     },
     "execution_count": 66,
     "metadata": {},
     "output_type": "execute_result"
    }
   ],
   "source": [
    "val_raw.columns"
   ]
  },
  {
   "cell_type": "code",
   "execution_count": 67,
   "metadata": {},
   "outputs": [
    {
     "data": {
      "text/plain": [
       "array(['Office', 'PrimClass', 'UnivClass', 'UnivDorm', 'UnivLab'],\n",
       "      dtype=object)"
      ]
     },
     "execution_count": 67,
     "metadata": {},
     "output_type": "execute_result"
    }
   ],
   "source": [
    "val_raw['primary_space_usage'].unique()"
   ]
  },
  {
   "cell_type": "code",
   "execution_count": 68,
   "metadata": {},
   "outputs": [
    {
     "data": {
      "text/html": [
       "<div>\n",
       "<style scoped>\n",
       "    .dataframe tbody tr th:only-of-type {\n",
       "        vertical-align: middle;\n",
       "    }\n",
       "\n",
       "    .dataframe tbody tr th {\n",
       "        vertical-align: top;\n",
       "    }\n",
       "\n",
       "    .dataframe thead th {\n",
       "        text-align: right;\n",
       "    }\n",
       "</style>\n",
       "<table border=\"1\" class=\"dataframe\">\n",
       "  <thead>\n",
       "    <tr style=\"text-align: right;\">\n",
       "      <th></th>\n",
       "      <th>electricity</th>\n",
       "      <th>area</th>\n",
       "      <th>month_1</th>\n",
       "      <th>month_2</th>\n",
       "      <th>month_3</th>\n",
       "      <th>month_4</th>\n",
       "      <th>month_5</th>\n",
       "      <th>month_6</th>\n",
       "      <th>month_7</th>\n",
       "      <th>month_8</th>\n",
       "      <th>...</th>\n",
       "      <th>weather_file_weather8.csv</th>\n",
       "      <th>weather_file_weather9.csv</th>\n",
       "      <th>industry_Commercial Property</th>\n",
       "      <th>industry_Education</th>\n",
       "      <th>industry_Government</th>\n",
       "      <th>primary_space_usage_Office</th>\n",
       "      <th>primary_space_usage_PrimClass</th>\n",
       "      <th>primary_space_usage_UnivClass</th>\n",
       "      <th>primary_space_usage_UnivDorm</th>\n",
       "      <th>primary_space_usage_UnivLab</th>\n",
       "    </tr>\n",
       "  </thead>\n",
       "  <tbody>\n",
       "    <tr>\n",
       "      <th>0</th>\n",
       "      <td>27.79</td>\n",
       "      <td>6891.54454</td>\n",
       "      <td>1</td>\n",
       "      <td>0</td>\n",
       "      <td>0</td>\n",
       "      <td>0</td>\n",
       "      <td>0</td>\n",
       "      <td>0</td>\n",
       "      <td>0</td>\n",
       "      <td>0</td>\n",
       "      <td>...</td>\n",
       "      <td>0</td>\n",
       "      <td>0</td>\n",
       "      <td>0</td>\n",
       "      <td>1</td>\n",
       "      <td>0</td>\n",
       "      <td>1</td>\n",
       "      <td>0</td>\n",
       "      <td>0</td>\n",
       "      <td>0</td>\n",
       "      <td>0</td>\n",
       "    </tr>\n",
       "    <tr>\n",
       "      <th>1</th>\n",
       "      <td>27.66</td>\n",
       "      <td>6891.54454</td>\n",
       "      <td>1</td>\n",
       "      <td>0</td>\n",
       "      <td>0</td>\n",
       "      <td>0</td>\n",
       "      <td>0</td>\n",
       "      <td>0</td>\n",
       "      <td>0</td>\n",
       "      <td>0</td>\n",
       "      <td>...</td>\n",
       "      <td>0</td>\n",
       "      <td>0</td>\n",
       "      <td>0</td>\n",
       "      <td>1</td>\n",
       "      <td>0</td>\n",
       "      <td>1</td>\n",
       "      <td>0</td>\n",
       "      <td>0</td>\n",
       "      <td>0</td>\n",
       "      <td>0</td>\n",
       "    </tr>\n",
       "    <tr>\n",
       "      <th>2</th>\n",
       "      <td>27.13</td>\n",
       "      <td>6891.54454</td>\n",
       "      <td>1</td>\n",
       "      <td>0</td>\n",
       "      <td>0</td>\n",
       "      <td>0</td>\n",
       "      <td>0</td>\n",
       "      <td>0</td>\n",
       "      <td>0</td>\n",
       "      <td>0</td>\n",
       "      <td>...</td>\n",
       "      <td>0</td>\n",
       "      <td>0</td>\n",
       "      <td>0</td>\n",
       "      <td>1</td>\n",
       "      <td>0</td>\n",
       "      <td>1</td>\n",
       "      <td>0</td>\n",
       "      <td>0</td>\n",
       "      <td>0</td>\n",
       "      <td>0</td>\n",
       "    </tr>\n",
       "    <tr>\n",
       "      <th>3</th>\n",
       "      <td>27.34</td>\n",
       "      <td>6891.54454</td>\n",
       "      <td>1</td>\n",
       "      <td>0</td>\n",
       "      <td>0</td>\n",
       "      <td>0</td>\n",
       "      <td>0</td>\n",
       "      <td>0</td>\n",
       "      <td>0</td>\n",
       "      <td>0</td>\n",
       "      <td>...</td>\n",
       "      <td>0</td>\n",
       "      <td>0</td>\n",
       "      <td>0</td>\n",
       "      <td>1</td>\n",
       "      <td>0</td>\n",
       "      <td>1</td>\n",
       "      <td>0</td>\n",
       "      <td>0</td>\n",
       "      <td>0</td>\n",
       "      <td>0</td>\n",
       "    </tr>\n",
       "    <tr>\n",
       "      <th>4</th>\n",
       "      <td>27.34</td>\n",
       "      <td>6891.54454</td>\n",
       "      <td>1</td>\n",
       "      <td>0</td>\n",
       "      <td>0</td>\n",
       "      <td>0</td>\n",
       "      <td>0</td>\n",
       "      <td>0</td>\n",
       "      <td>0</td>\n",
       "      <td>0</td>\n",
       "      <td>...</td>\n",
       "      <td>0</td>\n",
       "      <td>0</td>\n",
       "      <td>0</td>\n",
       "      <td>1</td>\n",
       "      <td>0</td>\n",
       "      <td>1</td>\n",
       "      <td>0</td>\n",
       "      <td>0</td>\n",
       "      <td>0</td>\n",
       "      <td>0</td>\n",
       "    </tr>\n",
       "  </tbody>\n",
       "</table>\n",
       "<p>5 rows × 91 columns</p>\n",
       "</div>"
      ],
      "text/plain": [
       "   electricity        area  month_1  month_2  month_3  month_4  month_5  \\\n",
       "0        27.79  6891.54454        1        0        0        0        0   \n",
       "1        27.66  6891.54454        1        0        0        0        0   \n",
       "2        27.13  6891.54454        1        0        0        0        0   \n",
       "3        27.34  6891.54454        1        0        0        0        0   \n",
       "4        27.34  6891.54454        1        0        0        0        0   \n",
       "\n",
       "   month_6  month_7  month_8  ...  weather_file_weather8.csv  \\\n",
       "0        0        0        0  ...                          0   \n",
       "1        0        0        0  ...                          0   \n",
       "2        0        0        0  ...                          0   \n",
       "3        0        0        0  ...                          0   \n",
       "4        0        0        0  ...                          0   \n",
       "\n",
       "   weather_file_weather9.csv  industry_Commercial Property  \\\n",
       "0                          0                             0   \n",
       "1                          0                             0   \n",
       "2                          0                             0   \n",
       "3                          0                             0   \n",
       "4                          0                             0   \n",
       "\n",
       "   industry_Education  industry_Government  primary_space_usage_Office  \\\n",
       "0                   1                    0                           1   \n",
       "1                   1                    0                           1   \n",
       "2                   1                    0                           1   \n",
       "3                   1                    0                           1   \n",
       "4                   1                    0                           1   \n",
       "\n",
       "   primary_space_usage_PrimClass  primary_space_usage_UnivClass  \\\n",
       "0                              0                              0   \n",
       "1                              0                              0   \n",
       "2                              0                              0   \n",
       "3                              0                              0   \n",
       "4                              0                              0   \n",
       "\n",
       "   primary_space_usage_UnivDorm  primary_space_usage_UnivLab  \n",
       "0                             0                            0  \n",
       "1                             0                            0  \n",
       "2                             0                            0  \n",
       "3                             0                            0  \n",
       "4                             0                            0  \n",
       "\n",
       "[5 rows x 91 columns]"
      ]
     },
     "execution_count": 68,
     "metadata": {},
     "output_type": "execute_result"
    }
   ],
   "source": [
    "train_data = train_raw.drop(['Unnamed: 0', 'timestamp','building_name', 'weather_file', 'industry'], axis=1)\n",
    "val_data = val_raw.drop(['Unnamed: 0', 'timestamp','building_name', 'weather_file', 'industry'], axis=1)\n",
    "\n",
    "train_data.head()\n"
   ]
  },
  {
   "cell_type": "code",
   "execution_count": 15,
   "metadata": {},
   "outputs": [
    {
     "data": {
      "text/plain": [
       "(3455090, 91)"
      ]
     },
     "execution_count": 15,
     "metadata": {},
     "output_type": "execute_result"
    }
   ],
   "source": [
    "train_data.shape"
   ]
  },
  {
   "cell_type": "code",
   "execution_count": 17,
   "metadata": {},
   "outputs": [
    {
     "data": {
      "text/plain": [
       "(877653, 91)"
      ]
     },
     "execution_count": 17,
     "metadata": {},
     "output_type": "execute_result"
    }
   ],
   "source": [
    "val_data.shape"
   ]
  },
  {
   "cell_type": "markdown",
   "metadata": {},
   "source": [
    "#### Ranges of all variables"
   ]
  },
  {
   "cell_type": "code",
   "execution_count": 58,
   "metadata": {},
   "outputs": [
    {
     "data": {
      "text/html": [
       "<div>\n",
       "<style scoped>\n",
       "    .dataframe tbody tr th:only-of-type {\n",
       "        vertical-align: middle;\n",
       "    }\n",
       "\n",
       "    .dataframe tbody tr th {\n",
       "        vertical-align: top;\n",
       "    }\n",
       "\n",
       "    .dataframe thead th {\n",
       "        text-align: right;\n",
       "    }\n",
       "</style>\n",
       "<table border=\"1\" class=\"dataframe\">\n",
       "  <thead>\n",
       "    <tr style=\"text-align: right;\">\n",
       "      <th></th>\n",
       "      <th>Unnamed: 0</th>\n",
       "      <th>electricity</th>\n",
       "      <th>area</th>\n",
       "      <th>TemperatureC</th>\n",
       "      <th>month</th>\n",
       "      <th>date</th>\n",
       "      <th>hour</th>\n",
       "      <th>weekday</th>\n",
       "      <th>month_1</th>\n",
       "      <th>month_2</th>\n",
       "      <th>...</th>\n",
       "      <th>weather_file_weather8.csv</th>\n",
       "      <th>weather_file_weather9.csv</th>\n",
       "      <th>industry_Commercial Property</th>\n",
       "      <th>industry_Education</th>\n",
       "      <th>industry_Government</th>\n",
       "      <th>primary_space_usage_Office</th>\n",
       "      <th>primary_space_usage_PrimClass</th>\n",
       "      <th>primary_space_usage_UnivClass</th>\n",
       "      <th>primary_space_usage_UnivDorm</th>\n",
       "      <th>primary_space_usage_UnivLab</th>\n",
       "    </tr>\n",
       "  </thead>\n",
       "  <tbody>\n",
       "    <tr>\n",
       "      <th>count</th>\n",
       "      <td>8.776530e+05</td>\n",
       "      <td>877653.000000</td>\n",
       "      <td>877653.000000</td>\n",
       "      <td>877653.000000</td>\n",
       "      <td>877653.000000</td>\n",
       "      <td>877653.000000</td>\n",
       "      <td>877653.000000</td>\n",
       "      <td>877653.000000</td>\n",
       "      <td>877653.000000</td>\n",
       "      <td>877653.000000</td>\n",
       "      <td>...</td>\n",
       "      <td>877653.000000</td>\n",
       "      <td>877653.000000</td>\n",
       "      <td>877653.000000</td>\n",
       "      <td>877653.000000</td>\n",
       "      <td>877653.000000</td>\n",
       "      <td>877653.000000</td>\n",
       "      <td>877653.000000</td>\n",
       "      <td>877653.000000</td>\n",
       "      <td>877653.000000</td>\n",
       "      <td>877653.000000</td>\n",
       "    </tr>\n",
       "    <tr>\n",
       "      <th>mean</th>\n",
       "      <td>2.230706e+06</td>\n",
       "      <td>141.972499</td>\n",
       "      <td>9527.873554</td>\n",
       "      <td>6.487953</td>\n",
       "      <td>6.526017</td>\n",
       "      <td>15.722847</td>\n",
       "      <td>11.550233</td>\n",
       "      <td>2.998055</td>\n",
       "      <td>0.084182</td>\n",
       "      <td>0.076583</td>\n",
       "      <td>...</td>\n",
       "      <td>0.029923</td>\n",
       "      <td>0.008755</td>\n",
       "      <td>0.019209</td>\n",
       "      <td>0.911049</td>\n",
       "      <td>0.069742</td>\n",
       "      <td>0.321280</td>\n",
       "      <td>0.168515</td>\n",
       "      <td>0.124170</td>\n",
       "      <td>0.207687</td>\n",
       "      <td>0.178348</td>\n",
       "    </tr>\n",
       "    <tr>\n",
       "      <th>std</th>\n",
       "      <td>1.233098e+06</td>\n",
       "      <td>293.361549</td>\n",
       "      <td>16127.370067</td>\n",
       "      <td>261.507865</td>\n",
       "      <td>3.439655</td>\n",
       "      <td>8.782150</td>\n",
       "      <td>6.877534</td>\n",
       "      <td>1.999646</td>\n",
       "      <td>0.277661</td>\n",
       "      <td>0.265928</td>\n",
       "      <td>...</td>\n",
       "      <td>0.170375</td>\n",
       "      <td>0.093159</td>\n",
       "      <td>0.137260</td>\n",
       "      <td>0.284673</td>\n",
       "      <td>0.254711</td>\n",
       "      <td>0.466968</td>\n",
       "      <td>0.374324</td>\n",
       "      <td>0.329775</td>\n",
       "      <td>0.405652</td>\n",
       "      <td>0.382806</td>\n",
       "    </tr>\n",
       "    <tr>\n",
       "      <th>min</th>\n",
       "      <td>0.000000e+00</td>\n",
       "      <td>0.006897</td>\n",
       "      <td>399.297094</td>\n",
       "      <td>-9999.000000</td>\n",
       "      <td>1.000000</td>\n",
       "      <td>1.000000</td>\n",
       "      <td>0.000000</td>\n",
       "      <td>0.000000</td>\n",
       "      <td>0.000000</td>\n",
       "      <td>0.000000</td>\n",
       "      <td>...</td>\n",
       "      <td>0.000000</td>\n",
       "      <td>0.000000</td>\n",
       "      <td>0.000000</td>\n",
       "      <td>0.000000</td>\n",
       "      <td>0.000000</td>\n",
       "      <td>0.000000</td>\n",
       "      <td>0.000000</td>\n",
       "      <td>0.000000</td>\n",
       "      <td>0.000000</td>\n",
       "      <td>0.000000</td>\n",
       "    </tr>\n",
       "    <tr>\n",
       "      <th>25%</th>\n",
       "      <td>1.155717e+06</td>\n",
       "      <td>15.703425</td>\n",
       "      <td>2800.375129</td>\n",
       "      <td>6.600000</td>\n",
       "      <td>4.000000</td>\n",
       "      <td>8.000000</td>\n",
       "      <td>6.000000</td>\n",
       "      <td>1.000000</td>\n",
       "      <td>0.000000</td>\n",
       "      <td>0.000000</td>\n",
       "      <td>...</td>\n",
       "      <td>0.000000</td>\n",
       "      <td>0.000000</td>\n",
       "      <td>0.000000</td>\n",
       "      <td>1.000000</td>\n",
       "      <td>0.000000</td>\n",
       "      <td>0.000000</td>\n",
       "      <td>0.000000</td>\n",
       "      <td>0.000000</td>\n",
       "      <td>0.000000</td>\n",
       "      <td>0.000000</td>\n",
       "    </tr>\n",
       "    <tr>\n",
       "      <th>50%</th>\n",
       "      <td>2.297005e+06</td>\n",
       "      <td>59.599998</td>\n",
       "      <td>6033.200000</td>\n",
       "      <td>13.300000</td>\n",
       "      <td>7.000000</td>\n",
       "      <td>16.000000</td>\n",
       "      <td>12.000000</td>\n",
       "      <td>3.000000</td>\n",
       "      <td>0.000000</td>\n",
       "      <td>0.000000</td>\n",
       "      <td>...</td>\n",
       "      <td>0.000000</td>\n",
       "      <td>0.000000</td>\n",
       "      <td>0.000000</td>\n",
       "      <td>1.000000</td>\n",
       "      <td>0.000000</td>\n",
       "      <td>0.000000</td>\n",
       "      <td>0.000000</td>\n",
       "      <td>0.000000</td>\n",
       "      <td>0.000000</td>\n",
       "      <td>0.000000</td>\n",
       "    </tr>\n",
       "    <tr>\n",
       "      <th>75%</th>\n",
       "      <td>3.348139e+06</td>\n",
       "      <td>156.600000</td>\n",
       "      <td>11389.164580</td>\n",
       "      <td>20.600000</td>\n",
       "      <td>10.000000</td>\n",
       "      <td>23.000000</td>\n",
       "      <td>17.000000</td>\n",
       "      <td>5.000000</td>\n",
       "      <td>0.000000</td>\n",
       "      <td>0.000000</td>\n",
       "      <td>...</td>\n",
       "      <td>0.000000</td>\n",
       "      <td>0.000000</td>\n",
       "      <td>0.000000</td>\n",
       "      <td>1.000000</td>\n",
       "      <td>0.000000</td>\n",
       "      <td>1.000000</td>\n",
       "      <td>0.000000</td>\n",
       "      <td>0.000000</td>\n",
       "      <td>0.000000</td>\n",
       "      <td>0.000000</td>\n",
       "    </tr>\n",
       "    <tr>\n",
       "      <th>max</th>\n",
       "      <td>4.332778e+06</td>\n",
       "      <td>3150.060000</td>\n",
       "      <td>155679.415200</td>\n",
       "      <td>80.000000</td>\n",
       "      <td>12.000000</td>\n",
       "      <td>31.000000</td>\n",
       "      <td>23.000000</td>\n",
       "      <td>6.000000</td>\n",
       "      <td>1.000000</td>\n",
       "      <td>1.000000</td>\n",
       "      <td>...</td>\n",
       "      <td>1.000000</td>\n",
       "      <td>1.000000</td>\n",
       "      <td>1.000000</td>\n",
       "      <td>1.000000</td>\n",
       "      <td>1.000000</td>\n",
       "      <td>1.000000</td>\n",
       "      <td>1.000000</td>\n",
       "      <td>1.000000</td>\n",
       "      <td>1.000000</td>\n",
       "      <td>1.000000</td>\n",
       "    </tr>\n",
       "  </tbody>\n",
       "</table>\n",
       "<p>8 rows × 128 columns</p>\n",
       "</div>"
      ],
      "text/plain": [
       "         Unnamed: 0    electricity           area   TemperatureC  \\\n",
       "count  8.776530e+05  877653.000000  877653.000000  877653.000000   \n",
       "mean   2.230706e+06     141.972499    9527.873554       6.487953   \n",
       "std    1.233098e+06     293.361549   16127.370067     261.507865   \n",
       "min    0.000000e+00       0.006897     399.297094   -9999.000000   \n",
       "25%    1.155717e+06      15.703425    2800.375129       6.600000   \n",
       "50%    2.297005e+06      59.599998    6033.200000      13.300000   \n",
       "75%    3.348139e+06     156.600000   11389.164580      20.600000   \n",
       "max    4.332778e+06    3150.060000  155679.415200      80.000000   \n",
       "\n",
       "               month           date           hour        weekday  \\\n",
       "count  877653.000000  877653.000000  877653.000000  877653.000000   \n",
       "mean        6.526017      15.722847      11.550233       2.998055   \n",
       "std         3.439655       8.782150       6.877534       1.999646   \n",
       "min         1.000000       1.000000       0.000000       0.000000   \n",
       "25%         4.000000       8.000000       6.000000       1.000000   \n",
       "50%         7.000000      16.000000      12.000000       3.000000   \n",
       "75%        10.000000      23.000000      17.000000       5.000000   \n",
       "max        12.000000      31.000000      23.000000       6.000000   \n",
       "\n",
       "             month_1        month_2  ...  weather_file_weather8.csv  \\\n",
       "count  877653.000000  877653.000000  ...              877653.000000   \n",
       "mean        0.084182       0.076583  ...                   0.029923   \n",
       "std         0.277661       0.265928  ...                   0.170375   \n",
       "min         0.000000       0.000000  ...                   0.000000   \n",
       "25%         0.000000       0.000000  ...                   0.000000   \n",
       "50%         0.000000       0.000000  ...                   0.000000   \n",
       "75%         0.000000       0.000000  ...                   0.000000   \n",
       "max         1.000000       1.000000  ...                   1.000000   \n",
       "\n",
       "       weather_file_weather9.csv  industry_Commercial Property  \\\n",
       "count              877653.000000                 877653.000000   \n",
       "mean                    0.008755                      0.019209   \n",
       "std                     0.093159                      0.137260   \n",
       "min                     0.000000                      0.000000   \n",
       "25%                     0.000000                      0.000000   \n",
       "50%                     0.000000                      0.000000   \n",
       "75%                     0.000000                      0.000000   \n",
       "max                     1.000000                      1.000000   \n",
       "\n",
       "       industry_Education  industry_Government  primary_space_usage_Office  \\\n",
       "count       877653.000000        877653.000000               877653.000000   \n",
       "mean             0.911049             0.069742                    0.321280   \n",
       "std              0.284673             0.254711                    0.466968   \n",
       "min              0.000000             0.000000                    0.000000   \n",
       "25%              1.000000             0.000000                    0.000000   \n",
       "50%              1.000000             0.000000                    0.000000   \n",
       "75%              1.000000             0.000000                    1.000000   \n",
       "max              1.000000             1.000000                    1.000000   \n",
       "\n",
       "       primary_space_usage_PrimClass  primary_space_usage_UnivClass  \\\n",
       "count                  877653.000000                  877653.000000   \n",
       "mean                        0.168515                       0.124170   \n",
       "std                         0.374324                       0.329775   \n",
       "min                         0.000000                       0.000000   \n",
       "25%                         0.000000                       0.000000   \n",
       "50%                         0.000000                       0.000000   \n",
       "75%                         0.000000                       0.000000   \n",
       "max                         1.000000                       1.000000   \n",
       "\n",
       "       primary_space_usage_UnivDorm  primary_space_usage_UnivLab  \n",
       "count                 877653.000000                877653.000000  \n",
       "mean                       0.207687                     0.178348  \n",
       "std                        0.405652                     0.382806  \n",
       "min                        0.000000                     0.000000  \n",
       "25%                        0.000000                     0.000000  \n",
       "50%                        0.000000                     0.000000  \n",
       "75%                        0.000000                     0.000000  \n",
       "max                        1.000000                     1.000000  \n",
       "\n",
       "[8 rows x 128 columns]"
      ]
     },
     "execution_count": 58,
     "metadata": {},
     "output_type": "execute_result"
    }
   ],
   "source": [
    "val_raw.describe()"
   ]
  },
  {
   "cell_type": "markdown",
   "metadata": {},
   "source": [
    "#### Exploring temperature"
   ]
  },
  {
   "cell_type": "code",
   "execution_count": 57,
   "metadata": {},
   "outputs": [
    {
     "data": {
      "text/plain": [
       "count    877653.000000\n",
       "mean          6.487953\n",
       "std         261.507865\n",
       "min       -9999.000000\n",
       "25%           6.600000\n",
       "50%          13.300000\n",
       "75%          20.600000\n",
       "max          80.000000\n",
       "Name: TemperatureC, dtype: float64"
      ]
     },
     "execution_count": 57,
     "metadata": {},
     "output_type": "execute_result"
    }
   ],
   "source": [
    "val_raw['TemperatureC'].describe()"
   ]
  },
  {
   "cell_type": "code",
   "execution_count": 75,
   "metadata": {},
   "outputs": [
    {
     "data": {
      "text/plain": [
       "Text(0, 0.5, 'Occurance')"
      ]
     },
     "execution_count": 75,
     "metadata": {},
     "output_type": "execute_result"
    },
    {
     "data": {
      "image/png": "[encoded data removed]",
      "text/plain": [
       "<Figure size 432x288 with 1 Axes>"
      ]
     },
     "metadata": {
      "needs_background": "light"
     },
     "output_type": "display_data"
    }
   ],
   "source": [
    "# Try a plot - filter to remove missing vals\n",
    "plt.hist(x = 'TemperatureC', bins = 20, range = (-25,45), data = val_raw );\n",
    "plt.xlabel(\"Temperature [C] bins\");\n",
    "plt.ylabel(\"Occurance\");\n",
    "plt.title(\"Distribution of temperature in val data\")"
   ]
  },
  {
   "cell_type": "code",
   "execution_count": 81,
   "metadata": {},
   "outputs": [
    {
     "data": {
      "text/plain": [
       "Text(0.5, 1.0, 'All buildings in val data')"
      ]
     },
     "execution_count": 81,
     "metadata": {},
     "output_type": "execute_result"
    },
    {
     "data": {
      "image/png": "[encoded data removed]",
      "text/plain": [
       "<Figure size 432x288 with 1 Axes>"
      ]
     },
     "metadata": {
      "needs_background": "light"
     },
     "output_type": "display_data"
    }
   ],
   "source": [
    "# All buildings\n",
    "plt.scatter(x = 'TemperatureC', y = 'electricity', data = val_raw[val_raw['TemperatureC']> -25], alpha = 0.02);\n",
    "plt.show\n",
    "plt.xlabel(\"Temperature [C]\");\n",
    "plt.ylabel(\"Electricity [kWh]\");\n",
    "plt.title(\"All buildings in val data\")"
   ]
  },
  {
   "cell_type": "code",
   "execution_count": 82,
   "metadata": {},
   "outputs": [
    {
     "data": {
      "text/plain": [
       "Text(0.5, 1.0, 'Offices, Dorms, Primary and Uni Classrooms in val data')"
      ]
     },
     "execution_count": 82,
     "metadata": {},
     "output_type": "execute_result"
    },
    {
     "data": {
      "image/png": "[encoded data removed]",
      "text/plain": [
       "<Figure size 432x288 with 1 Axes>"
      ]
     },
     "metadata": {
      "needs_background": "light"
     },
     "output_type": "display_data"
    }
   ],
   "source": [
    "# Everything but the UnivLabs\n",
    "\n",
    "plt.scatter(x = 'TemperatureC', y = 'electricity', data = val_raw[(val_raw.TemperatureC >= -25) & (val_raw.primary_space_usage != 'UnivLab')], alpha = 0.02);\n",
    "plt.show\n",
    "plt.xlabel(\"Temperature [C]\");\n",
    "plt.ylabel(\"Electricity [kWh]\");\n",
    "plt.title(\"Offices, Dorms, Primary and Uni Classrooms in val data\")"
   ]
  },
  {
   "cell_type": "code",
   "execution_count": 83,
   "metadata": {},
   "outputs": [
    {
     "data": {
      "text/plain": [
       "Text(0.5, 1.0, 'UnivLabs in val data')"
      ]
     },
     "execution_count": 83,
     "metadata": {},
     "output_type": "execute_result"
    },
    {
     "data": {
      "image/png": "[encoded data removed]",
      "text/plain": [
       "<Figure size 432x288 with 1 Axes>"
      ]
     },
     "metadata": {
      "needs_background": "light"
     },
     "output_type": "display_data"
    }
   ],
   "source": [
    "# Just labs\n",
    "\n",
    "plt.scatter(x = 'TemperatureC', y = 'electricity', data = val_raw[(val_raw.TemperatureC >= -25) & (val_raw.primary_space_usage == 'UnivLab')], alpha = 0.02);\n",
    "plt.show;\n",
    "plt.xlabel(\"Temperature [C]\");\n",
    "plt.ylabel(\"Electricity [kWh]\");\n",
    "plt.title(\"UnivLabs in val data\")"
   ]
  },
  {
   "cell_type": "code",
   "execution_count": 73,
   "metadata": {},
   "outputs": [
    {
     "data": {
      "text/plain": [
       "<function matplotlib.pyplot.show(*args, **kw)>"
      ]
     },
     "execution_count": 73,
     "metadata": {},
     "output_type": "execute_result"
    },
    {
     "data": {
      "image/png": "[encoded data removed]",
      "text/plain": [
       "<Figure size 432x288 with 1 Axes>"
      ]
     },
     "metadata": {
      "needs_background": "light"
     },
     "output_type": "display_data"
    }
   ],
   "source": [
    "# Just Offices\n",
    "\n",
    "plt.scatter(x = 'TemperatureC', y = 'electricity', data = val_raw[(val_raw.TemperatureC >= -25) & (val_raw.primary_space_usage == 'Office')], alpha = 0.2);\n",
    "plt.show\n",
    "plt.xlabel(\"Temperature [C]\");\n",
    "plt.ylabel(\"Electricity [kWh]\");\n",
    "plt.title(\"Offices in val data\")"
   ]
  },
  {
   "cell_type": "code",
   "execution_count": 84,
   "metadata": {},
   "outputs": [],
   "source": [
    "#### Exploring area"
   ]
  },
  {
   "cell_type": "code",
   "execution_count": 85,
   "metadata": {},
   "outputs": [
    {
     "data": {
      "text/plain": [
       "<function matplotlib.pyplot.show(*args, **kw)>"
      ]
     },
     "execution_count": 85,
     "metadata": {},
     "output_type": "execute_result"
    },
    {
     "data": {
      "image/png": "[encoded data removed]",
      "text/plain": [
       "<Figure size 432x288 with 1 Axes>"
      ]
     },
     "metadata": {
      "needs_background": "light"
     },
     "output_type": "display_data"
    }
   ],
   "source": [
    "# Area\n",
    "\n",
    "# Filtering out what appears to be one extremely large building for \n",
    "plt.scatter(x = 'area', y = 'electricity', data = val_raw[val_raw.area <= 60000], alpha = 0.02);\n",
    "plt.show\n",
    "plt.xlabel(\"area [m^2] \");\n",
    "plt.ylabel(\"Electricity [kWh]\");\n",
    "plt.title(\"All buildings in val data\")"
   ]
  },
  {
   "cell_type": "code",
   "execution_count": 28,
   "metadata": {},
   "outputs": [
    {
     "data": {
      "text/plain": [
       "Index(['Unnamed: 0', 'timestamp', 'electricity', 'building_name',\n",
       "       'weather_file', 'industry', 'area', 'primary_space_usage',\n",
       "       'TemperatureC', 'month',\n",
       "       ...\n",
       "       'weather_file_weather8.csv', 'weather_file_weather9.csv',\n",
       "       'industry_Commercial Property', 'industry_Education',\n",
       "       'industry_Government', 'primary_space_usage_Office',\n",
       "       'primary_space_usage_PrimClass', 'primary_space_usage_UnivClass',\n",
       "       'primary_space_usage_UnivDorm', 'primary_space_usage_UnivLab'],\n",
       "      dtype='object', length=133)"
      ]
     },
     "execution_count": 28,
     "metadata": {},
     "output_type": "execute_result"
    }
   ],
   "source": [
    "val_raw.columns"
   ]
  },
  {
   "cell_type": "code",
   "execution_count": 12,
   "metadata": {},
   "outputs": [],
   "source": [
    "train_data_smaller = train_data.head(876000)"
   ]
  },
  {
   "cell_type": "code",
   "execution_count": 13,
   "metadata": {},
   "outputs": [],
   "source": [
    "val_data_smaller = val_data.head(8760*30)"
   ]
  },
  {
   "cell_type": "markdown",
   "metadata": {},
   "source": [
    "### Try to load into h2o dataframe - memory error"
   ]
  },
  {
   "cell_type": "code",
   "execution_count": 15,
   "metadata": {},
   "outputs": [
    {
     "ename": "H2OServerError",
     "evalue": "HTTP 500 Server Error:\n'<html>\\n<head>\\n<meta http-equiv=\"Content-Type\" content=\"text/html;charset=ISO-8859-1\"/>\\n<title>Error 500 Server Error</title>\\n</head>\\n<body>\\n<h2>HTTP ERROR: 500</h2>\\n<p>Problem accessing /3/PostFile. Reason:\\n<pre>    Server Error</pre></p>\\n\\n                                                \\n                                                \\n                                                \\n                                                \\n                                                \\n                                                \\n                                                \\n                                                \\n                                                \\n                                                \\n                                                \\n                                                \\n                                                \\n                                                \\n                                                \\n                                                \\n                                                \\n                                                \\n                                                \\n                                                \\n</body>\\n</html>\\n'",
     "output_type": "error",
     "traceback": [
      "\u001b[1;31m---------------------------------------------------------------------------\u001b[0m",
      "\u001b[1;31mH2OServerError\u001b[0m                            Traceback (most recent call last)",
      "\u001b[1;32m<ipython-input-15-213955ac9de1>\u001b[0m in \u001b[0;36m<module>\u001b[1;34m\u001b[0m\n\u001b[0;32m      4\u001b[0m \u001b[1;33m\u001b[0m\u001b[0m\n\u001b[0;32m      5\u001b[0m \u001b[1;31m# Must be formatted as h2o frames http://docs.h2o.ai/h2o/latest-stable/h2o-py/docs/frame.html\u001b[0m\u001b[1;33m\u001b[0m\u001b[1;33m\u001b[0m\u001b[1;33m\u001b[0m\u001b[0m\n\u001b[1;32m----> 6\u001b[1;33m \u001b[0mtrain\u001b[0m \u001b[1;33m=\u001b[0m  \u001b[0mh2o\u001b[0m\u001b[1;33m.\u001b[0m\u001b[0mH2OFrame\u001b[0m\u001b[1;33m(\u001b[0m\u001b[0mtrain_data_smaller\u001b[0m\u001b[1;33m)\u001b[0m\u001b[1;33m\u001b[0m\u001b[1;33m\u001b[0m\u001b[0m\n\u001b[0m\u001b[0;32m      7\u001b[0m \u001b[0mtest\u001b[0m \u001b[1;33m=\u001b[0m \u001b[0mh2o\u001b[0m\u001b[1;33m.\u001b[0m\u001b[0mH2OFrame\u001b[0m\u001b[1;33m(\u001b[0m\u001b[0mval_data_smaller\u001b[0m\u001b[1;33m)\u001b[0m\u001b[1;33m\u001b[0m\u001b[1;33m\u001b[0m\u001b[0m\n",
      "\u001b[1;32m~\\Anaconda3\\lib\\site-packages\\h2o\\frame.py\u001b[0m in \u001b[0;36m__init__\u001b[1;34m(self, python_obj, destination_frame, header, separator, column_names, column_types, na_strings, skipped_columns)\u001b[0m\n\u001b[0;32m    107\u001b[0m         \u001b[1;32mif\u001b[0m \u001b[0mpython_obj\u001b[0m \u001b[1;32mis\u001b[0m \u001b[1;32mnot\u001b[0m \u001b[1;32mNone\u001b[0m\u001b[1;33m:\u001b[0m\u001b[1;33m\u001b[0m\u001b[1;33m\u001b[0m\u001b[0m\n\u001b[0;32m    108\u001b[0m             self._upload_python_object(python_obj, destination_frame, header, separator,\n\u001b[1;32m--> 109\u001b[1;33m                                        column_names, column_types, na_strings, skipped_columns)\n\u001b[0m\u001b[0;32m    110\u001b[0m \u001b[1;33m\u001b[0m\u001b[0m\n\u001b[0;32m    111\u001b[0m     \u001b[1;33m@\u001b[0m\u001b[0mstaticmethod\u001b[0m\u001b[1;33m\u001b[0m\u001b[1;33m\u001b[0m\u001b[0m\n",
      "\u001b[1;32m~\\Anaconda3\\lib\\site-packages\\h2o\\frame.py\u001b[0m in \u001b[0;36m_upload_python_object\u001b[1;34m(self, python_obj, destination_frame, header, separator, column_names, column_types, na_strings, skipped_columns)\u001b[0m\n\u001b[0;32m    148\u001b[0m             \u001b[0mcsv_writer\u001b[0m\u001b[1;33m.\u001b[0m\u001b[0mwriterows\u001b[0m\u001b[1;33m(\u001b[0m\u001b[0mdata_to_write\u001b[0m\u001b[1;33m)\u001b[0m\u001b[1;33m\u001b[0m\u001b[1;33m\u001b[0m\u001b[0m\n\u001b[0;32m    149\u001b[0m         \u001b[0mtmp_file\u001b[0m\u001b[1;33m.\u001b[0m\u001b[0mclose\u001b[0m\u001b[1;33m(\u001b[0m\u001b[1;33m)\u001b[0m  \u001b[1;31m# close the streams\u001b[0m\u001b[1;33m\u001b[0m\u001b[1;33m\u001b[0m\u001b[0m\n\u001b[1;32m--> 150\u001b[1;33m         \u001b[0mself\u001b[0m\u001b[1;33m.\u001b[0m\u001b[0m_upload_parse\u001b[0m\u001b[1;33m(\u001b[0m\u001b[0mtmp_path\u001b[0m\u001b[1;33m,\u001b[0m \u001b[0mdestination_frame\u001b[0m\u001b[1;33m,\u001b[0m \u001b[1;36m1\u001b[0m\u001b[1;33m,\u001b[0m \u001b[0mseparator\u001b[0m\u001b[1;33m,\u001b[0m \u001b[0mcolumn_names\u001b[0m\u001b[1;33m,\u001b[0m \u001b[0mcolumn_types\u001b[0m\u001b[1;33m,\u001b[0m \u001b[0mna_strings\u001b[0m\u001b[1;33m,\u001b[0m \u001b[0mskipped_columns\u001b[0m\u001b[1;33m)\u001b[0m\u001b[1;33m\u001b[0m\u001b[1;33m\u001b[0m\u001b[0m\n\u001b[0m\u001b[0;32m    151\u001b[0m         \u001b[0mos\u001b[0m\u001b[1;33m.\u001b[0m\u001b[0mremove\u001b[0m\u001b[1;33m(\u001b[0m\u001b[0mtmp_path\u001b[0m\u001b[1;33m)\u001b[0m  \u001b[1;31m# delete the tmp file\u001b[0m\u001b[1;33m\u001b[0m\u001b[1;33m\u001b[0m\u001b[0m\n\u001b[0;32m    152\u001b[0m \u001b[1;33m\u001b[0m\u001b[0m\n",
      "\u001b[1;32m~\\Anaconda3\\lib\\site-packages\\h2o\\frame.py\u001b[0m in \u001b[0;36m_upload_parse\u001b[1;34m(self, path, destination_frame, header, sep, column_names, column_types, na_strings, skipped_columns)\u001b[0m\n\u001b[0;32m    341\u001b[0m \u001b[1;33m\u001b[0m\u001b[0m\n\u001b[0;32m    342\u001b[0m     \u001b[1;32mdef\u001b[0m \u001b[0m_upload_parse\u001b[0m\u001b[1;33m(\u001b[0m\u001b[0mself\u001b[0m\u001b[1;33m,\u001b[0m \u001b[0mpath\u001b[0m\u001b[1;33m,\u001b[0m \u001b[0mdestination_frame\u001b[0m\u001b[1;33m,\u001b[0m \u001b[0mheader\u001b[0m\u001b[1;33m,\u001b[0m \u001b[0msep\u001b[0m\u001b[1;33m,\u001b[0m \u001b[0mcolumn_names\u001b[0m\u001b[1;33m,\u001b[0m \u001b[0mcolumn_types\u001b[0m\u001b[1;33m,\u001b[0m \u001b[0mna_strings\u001b[0m\u001b[1;33m,\u001b[0m \u001b[0mskipped_columns\u001b[0m\u001b[1;33m=\u001b[0m\u001b[1;32mNone\u001b[0m\u001b[1;33m)\u001b[0m\u001b[1;33m:\u001b[0m\u001b[1;33m\u001b[0m\u001b[1;33m\u001b[0m\u001b[0m\n\u001b[1;32m--> 343\u001b[1;33m         \u001b[0mret\u001b[0m \u001b[1;33m=\u001b[0m \u001b[0mh2o\u001b[0m\u001b[1;33m.\u001b[0m\u001b[0mapi\u001b[0m\u001b[1;33m(\u001b[0m\u001b[1;34m\"POST /3/PostFile\"\u001b[0m\u001b[1;33m,\u001b[0m \u001b[0mfilename\u001b[0m\u001b[1;33m=\u001b[0m\u001b[0mpath\u001b[0m\u001b[1;33m)\u001b[0m\u001b[1;33m\u001b[0m\u001b[1;33m\u001b[0m\u001b[0m\n\u001b[0m\u001b[0;32m    344\u001b[0m         \u001b[0mrawkey\u001b[0m \u001b[1;33m=\u001b[0m \u001b[0mret\u001b[0m\u001b[1;33m[\u001b[0m\u001b[1;34m\"destination_frame\"\u001b[0m\u001b[1;33m]\u001b[0m\u001b[1;33m\u001b[0m\u001b[1;33m\u001b[0m\u001b[0m\n\u001b[0;32m    345\u001b[0m         \u001b[0mself\u001b[0m\u001b[1;33m.\u001b[0m\u001b[0m_parse\u001b[0m\u001b[1;33m(\u001b[0m\u001b[0mrawkey\u001b[0m\u001b[1;33m,\u001b[0m \u001b[0mdestination_frame\u001b[0m\u001b[1;33m,\u001b[0m \u001b[0mheader\u001b[0m\u001b[1;33m,\u001b[0m \u001b[0msep\u001b[0m\u001b[1;33m,\u001b[0m \u001b[0mcolumn_names\u001b[0m\u001b[1;33m,\u001b[0m \u001b[0mcolumn_types\u001b[0m\u001b[1;33m,\u001b[0m \u001b[0mna_strings\u001b[0m\u001b[1;33m,\u001b[0m \u001b[0mskipped_columns\u001b[0m\u001b[1;33m)\u001b[0m\u001b[1;33m\u001b[0m\u001b[1;33m\u001b[0m\u001b[0m\n",
      "\u001b[1;32m~\\Anaconda3\\lib\\site-packages\\h2o\\h2o.py\u001b[0m in \u001b[0;36mapi\u001b[1;34m(endpoint, data, json, filename, save_to)\u001b[0m\n\u001b[0;32m    102\u001b[0m     \u001b[1;31m# type checks are performed in H2OConnection class\u001b[0m\u001b[1;33m\u001b[0m\u001b[1;33m\u001b[0m\u001b[1;33m\u001b[0m\u001b[0m\n\u001b[0;32m    103\u001b[0m     \u001b[0m_check_connection\u001b[0m\u001b[1;33m(\u001b[0m\u001b[1;33m)\u001b[0m\u001b[1;33m\u001b[0m\u001b[1;33m\u001b[0m\u001b[0m\n\u001b[1;32m--> 104\u001b[1;33m     \u001b[1;32mreturn\u001b[0m \u001b[0mh2oconn\u001b[0m\u001b[1;33m.\u001b[0m\u001b[0mrequest\u001b[0m\u001b[1;33m(\u001b[0m\u001b[0mendpoint\u001b[0m\u001b[1;33m,\u001b[0m \u001b[0mdata\u001b[0m\u001b[1;33m=\u001b[0m\u001b[0mdata\u001b[0m\u001b[1;33m,\u001b[0m \u001b[0mjson\u001b[0m\u001b[1;33m=\u001b[0m\u001b[0mjson\u001b[0m\u001b[1;33m,\u001b[0m \u001b[0mfilename\u001b[0m\u001b[1;33m=\u001b[0m\u001b[0mfilename\u001b[0m\u001b[1;33m,\u001b[0m \u001b[0msave_to\u001b[0m\u001b[1;33m=\u001b[0m\u001b[0msave_to\u001b[0m\u001b[1;33m)\u001b[0m\u001b[1;33m\u001b[0m\u001b[1;33m\u001b[0m\u001b[0m\n\u001b[0m\u001b[0;32m    105\u001b[0m \u001b[1;33m\u001b[0m\u001b[0m\n\u001b[0;32m    106\u001b[0m \u001b[1;33m\u001b[0m\u001b[0m\n",
      "\u001b[1;32m~\\Anaconda3\\lib\\site-packages\\h2o\\backend\\connection.py\u001b[0m in \u001b[0;36mrequest\u001b[1;34m(self, endpoint, data, json, filename, save_to)\u001b[0m\n\u001b[0;32m    405\u001b[0m                                     auth=self._auth, verify=self._verify_ssl_cert, proxies=self._proxies)\n\u001b[0;32m    406\u001b[0m             \u001b[0mself\u001b[0m\u001b[1;33m.\u001b[0m\u001b[0m_log_end_transaction\u001b[0m\u001b[1;33m(\u001b[0m\u001b[0mstart_time\u001b[0m\u001b[1;33m,\u001b[0m \u001b[0mresp\u001b[0m\u001b[1;33m)\u001b[0m\u001b[1;33m\u001b[0m\u001b[1;33m\u001b[0m\u001b[0m\n\u001b[1;32m--> 407\u001b[1;33m             \u001b[1;32mreturn\u001b[0m \u001b[0mself\u001b[0m\u001b[1;33m.\u001b[0m\u001b[0m_process_response\u001b[0m\u001b[1;33m(\u001b[0m\u001b[0mresp\u001b[0m\u001b[1;33m,\u001b[0m \u001b[0msave_to\u001b[0m\u001b[1;33m)\u001b[0m\u001b[1;33m\u001b[0m\u001b[1;33m\u001b[0m\u001b[0m\n\u001b[0m\u001b[0;32m    408\u001b[0m \u001b[1;33m\u001b[0m\u001b[0m\n\u001b[0;32m    409\u001b[0m         \u001b[1;32mexcept\u001b[0m \u001b[1;33m(\u001b[0m\u001b[0mrequests\u001b[0m\u001b[1;33m.\u001b[0m\u001b[0mexceptions\u001b[0m\u001b[1;33m.\u001b[0m\u001b[0mConnectionError\u001b[0m\u001b[1;33m,\u001b[0m \u001b[0mrequests\u001b[0m\u001b[1;33m.\u001b[0m\u001b[0mexceptions\u001b[0m\u001b[1;33m.\u001b[0m\u001b[0mHTTPError\u001b[0m\u001b[1;33m)\u001b[0m \u001b[1;32mas\u001b[0m \u001b[0me\u001b[0m\u001b[1;33m:\u001b[0m\u001b[1;33m\u001b[0m\u001b[1;33m\u001b[0m\u001b[0m\n",
      "\u001b[1;32m~\\Anaconda3\\lib\\site-packages\\h2o\\backend\\connection.py\u001b[0m in \u001b[0;36m_process_response\u001b[1;34m(response, save_to)\u001b[0m\n\u001b[0;32m    746\u001b[0m         \u001b[1;31m# Note that it is possible to receive valid H2OErrorV3 object in this case, however it merely means the server\u001b[0m\u001b[1;33m\u001b[0m\u001b[1;33m\u001b[0m\u001b[1;33m\u001b[0m\u001b[0m\n\u001b[0;32m    747\u001b[0m         \u001b[1;31m# did not provide the correct status code.\u001b[0m\u001b[1;33m\u001b[0m\u001b[1;33m\u001b[0m\u001b[1;33m\u001b[0m\u001b[0m\n\u001b[1;32m--> 748\u001b[1;33m         \u001b[1;32mraise\u001b[0m \u001b[0mH2OServerError\u001b[0m\u001b[1;33m(\u001b[0m\u001b[1;34m\"HTTP %d %s:\\n%r\"\u001b[0m \u001b[1;33m%\u001b[0m \u001b[1;33m(\u001b[0m\u001b[0mstatus_code\u001b[0m\u001b[1;33m,\u001b[0m \u001b[0mresponse\u001b[0m\u001b[1;33m.\u001b[0m\u001b[0mreason\u001b[0m\u001b[1;33m,\u001b[0m \u001b[0mdata\u001b[0m\u001b[1;33m)\u001b[0m\u001b[1;33m)\u001b[0m\u001b[1;33m\u001b[0m\u001b[1;33m\u001b[0m\u001b[0m\n\u001b[0m\u001b[0;32m    749\u001b[0m \u001b[1;33m\u001b[0m\u001b[0m\n\u001b[0;32m    750\u001b[0m \u001b[1;33m\u001b[0m\u001b[0m\n",
      "\u001b[1;31mH2OServerError\u001b[0m: HTTP 500 Server Error:\n'<html>\\n<head>\\n<meta http-equiv=\"Content-Type\" content=\"text/html;charset=ISO-8859-1\"/>\\n<title>Error 500 Server Error</title>\\n</head>\\n<body>\\n<h2>HTTP ERROR: 500</h2>\\n<p>Problem accessing /3/PostFile. Reason:\\n<pre>    Server Error</pre></p>\\n\\n                                                \\n                                                \\n                                                \\n                                                \\n                                                \\n                                                \\n                                                \\n                                                \\n                                                \\n                                                \\n                                                \\n                                                \\n                                                \\n                                                \\n                                                \\n                                                \\n                                                \\n                                                \\n                                                \\n                                                \\n</body>\\n</html>\\n'"
     ]
    }
   ],
   "source": [
    "# Using one train/val split, not walk-forward cross-val\n",
    "# In h2o, if using all other cols for x, don't have to explicitly specify\n",
    "# Takes > 1 min to run\n",
    "\n",
    "# Must be formatted as h2o frames http://docs.h2o.ai/h2o/latest-stable/h2o-py/docs/frame.html\n",
    "train =  h2o.H2OFrame(train_data_smaller)\n",
    "test = h2o.H2OFrame(val_data_smaller)\n"
   ]
  }
 ],
 "metadata": {
  "kernelspec": {
   "display_name": "Python 3",
   "language": "python",
   "name": "python3"
  },
  "language_info": {
   "codemirror_mode": {
    "name": "ipython",
    "version": 3
   },
   "file_extension": ".py",
   "mimetype": "text/x-python",
   "name": "python",
   "nbconvert_exporter": "python",
   "pygments_lexer": "ipython3",
   "version": "3.7.3"
  }
 },
 "nbformat": 4,
 "nbformat_minor": 2
}
