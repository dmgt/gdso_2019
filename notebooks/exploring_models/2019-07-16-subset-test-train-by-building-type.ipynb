{
 "cells": [
  {
   "cell_type": "code",
   "execution_count": 34,
   "metadata": {},
   "outputs": [],
   "source": [
    "# Based partly on http://mariofilho.com/how-to-predict-multiple-time-series-with-scikit-learn-with-sales-forecasting-example/\n",
    "import pandas as pd\n",
    "import numpy as np\n",
    "import matplotlib.pyplot as plt\n",
    "%matplotlib inline\n",
    "# from rfpimp import *  - not easy to install on cluster\n",
    "\n",
    "from sklearn.metrics import mean_squared_error, mean_absolute_error\n",
    "from sklearn.ensemble import RandomForestRegressor"
   ]
  },
  {
   "cell_type": "code",
   "execution_count": 35,
   "metadata": {},
   "outputs": [],
   "source": [
    "# Functions to use for prediction evaluation\n",
    "\n",
    "def rmsle(ytrue, ypred):\n",
    "    return np.sqrt(mean_squared_log_error(ytrue, ypred))\n",
    "\n"
   ]
  },
  {
   "cell_type": "code",
   "execution_count": 36,
   "metadata": {},
   "outputs": [],
   "source": [
    "# Train the model, measure accuracy, and error metrics\n",
    "\n",
    "def make_model(X, y, X_valid, y_valid, n_estimators,\n",
    "              max_features, min_samples_leaf, random_state):\n",
    "\n",
    "    #global rf\n",
    "    \n",
    "    rf = RandomForestRegressor(n_estimators=n_estimators,\n",
    "                           n_jobs=-1,\n",
    "                           oob_score=True,\n",
    "                           max_features=max_features, \n",
    "                           min_samples_leaf=min_samples_leaf,\n",
    "                           random_state = random_state)\n",
    "                           #verbose = 1\n",
    "\n",
    "    #Inputting train dataset into the model\n",
    "    rf.fit(X, y)\n",
    "\n",
    "    return rf"
   ]
  },
  {
   "cell_type": "code",
   "execution_count": 37,
   "metadata": {},
   "outputs": [],
   "source": [
    "# Using the model to make a prediction & Error Analysis for Random Forest \n",
    "\n",
    "def run_model(rf, X_valid):\n",
    "   \n",
    "    #n = rfnnodes(rf)\n",
    "    #h = np.median(rfmaxdepths(rf))\n",
    "    \n",
    "    y_pred_rf_long = rf.predict(X_valid)\n",
    "    \n",
    "    total_len = y_pred_rf_long.shape[0]\n",
    "    num_buildings = len(val_data['building_name'].unique())\n",
    "\n",
    "    y_pred_rf = y_pred_rf_long.reshape((num_buildings, total_len//num_buildings))\n",
    "   \n",
    "    mae_valid = mean_absolute_error(y_valid, y_pred)\n",
    "    rmsle_valid = np.sqrt( mean_squared_error(y_valid, y_pred) )\n",
    "    r2_score_valid = rf.score(X_valid, y_valid)\n",
    "    \n",
    "    oob_valid = rf.oob_score_\n",
    "\n",
    "    print(f\"RF OOB score {rf.oob_score_:.5f}\")\n",
    "    print(f\"Validation R^2 {r2_score_valid:.5f}, RMSLE {rmsle_valid:.5f}, MAE {mae_valid:.2f}\")\n",
    "    \n",
    "    return y_pred_rf,rmsle_valid,mae_valid,r2_score_valid"
   ]
  },
  {
   "cell_type": "markdown",
   "metadata": {},
   "source": [
    "### Load data"
   ]
  },
  {
   "cell_type": "code",
   "execution_count": 38,
   "metadata": {},
   "outputs": [],
   "source": [
    "# Setting 'parse_dates' in this case parses both dates and times\n",
    "# These files are too large to commit so they're uploaded locally under `/exploring_models` but not pushed\n",
    "train_data = pd.read_csv('weather1_education_train.csv', parse_dates = ['timestamp'])\n",
    "val_data = pd.read_csv('weather1_education_test.csv', parse_dates = ['timestamp'])"
   ]
  },
  {
   "cell_type": "code",
   "execution_count": 10,
   "metadata": {},
   "outputs": [],
   "source": [
    "# All building types (original)\n",
    "X, X_valid = train_data.drop(['electricity', 'building_name', 'primary_space_usage', 'hour', 'year', 'month','weekday', 'date', 'timestamp', 'Unnamed: 0'], axis=1), val_data.drop(['electricity', 'building_name', 'primary_space_usage', 'hour', 'year', 'month','weekday', 'date', 'timestamp', 'Unnamed: 0'], axis=1)\n",
    "y, y_valid = train_data['electricity'], val_data['electricity']\n"
   ]
  },
  {
   "cell_type": "markdown",
   "metadata": {},
   "source": [
    "### Example of making subsets"
   ]
  },
  {
   "cell_type": "code",
   "execution_count": 50,
   "metadata": {},
   "outputs": [
    {
     "name": "stdout",
     "output_type": "stream",
     "text": [
      "(429093, 88) (166383, 88)\n"
     ]
    }
   ],
   "source": [
    "# Primary school classrooms\n",
    "train_data_PrimClass = train_data[train_data['primary_space_usage']==\"PrimClass\"]\n",
    "\n",
    "val_data_PrimClass = val_data[val_data['primary_space_usage']==\"PrimClass\"]\n",
    "\n",
    "print(train_data_PrimClass.shape, val_data_PrimClass.shape)\n",
    "\n",
    "X = train_data_PrimClass.drop(['electricity', 'building_name', 'primary_space_usage','timestamp', 'Unnamed: 0'], axis=1)\n",
    "X_valid = val_data_PrimClass.drop(['electricity', 'building_name', 'primary_space_usage', 'timestamp', 'Unnamed: 0'], axis=1)\n",
    "y, y_valid = train_data_PrimClass['electricity'], val_data_PrimClass['electricity']\n"
   ]
  },
  {
   "cell_type": "code",
   "execution_count": 51,
   "metadata": {},
   "outputs": [
    {
     "name": "stdout",
     "output_type": "stream",
     "text": [
      "(8757, 88) (0, 88)\n"
     ]
    }
   ],
   "source": [
    "# University classrooms\n",
    "train_data_UnivClass = train_data[train_data['primary_space_usage']==\"UnivClass\"]\n",
    "\n",
    "val_data_UnivClass = val_data[val_data['primary_space_usage']==\"UnivClass\"]\n",
    "\n",
    "print(train_data_UnivClass.shape, val_data_UnivClass.shape)\n",
    "\n",
    "X = train_data_UnivClass.drop(['electricity', 'building_name', 'primary_space_usage','timestamp', 'Unnamed: 0'], axis=1)\n",
    "X_valid = val_data_UnivClass.drop(['electricity', 'building_name', 'primary_space_usage', 'timestamp', 'Unnamed: 0'], axis=1)\n",
    "y, y_valid = train_data_UnivClass['electricity'], val_data_UnivClass['electricity']\n"
   ]
  },
  {
   "cell_type": "code",
   "execution_count": null,
   "metadata": {},
   "outputs": [],
   "source": [
    "# Offices\n",
    "train_data_Office = train_data[train_data['primary_space_usage']==\"Office\"]\n",
    "\n",
    "val_data_Office = val_data[val_data['primary_space_usage']==\"Office\"]\n",
    "\n",
    "print(train_data_Office.shape, val_data_Office.shape)\n",
    "\n",
    "X = train_data_Office.drop(['electricity', 'building_name', 'primary_space_usage','timestamp', 'Unnamed: 0'], axis=1)\n",
    "X_valid = val_data_Office.drop(['electricity', 'building_name', 'primary_space_usage', 'timestamp', 'Unnamed: 0'], axis=1)\n",
    "y, y_valid = train_data_Office['electricity'], val_data_Office['electricity']\n",
    "\n",
    "\n"
   ]
  },
  {
   "cell_type": "code",
   "execution_count": null,
   "metadata": {},
   "outputs": [],
   "source": [
    "# UnivDorm\n",
    "train_data_UnivDorm = train_data[train_data['primary_space_usage']==\"UnivDorm\"]\n",
    "\n",
    "val_data_UnivDorm = val_data[val_data['primary_space_usage']==\"UnivDorm\"]\n",
    "\n",
    "print(train_data_UnivDorm.shape, val_data_UnivDorm.shape)\n",
    "\n",
    "X = train_data_UnivDorm.drop(['electricity', 'building_name', 'primary_space_usage','timestamp', 'Unnamed: 0'], axis=1)\n",
    "X_valid = val_data_UnivDorm.drop(['electricity', 'building_name', 'primary_space_usage', 'timestamp', 'Unnamed: 0'], axis=1)\n",
    "y, y_valid = train_data_UnivDorm['electricity'], val_data_UniveDorm['electricity']\n",
    "\n"
   ]
  },
  {
   "cell_type": "code",
   "execution_count": null,
   "metadata": {},
   "outputs": [],
   "source": [
    "# UnivLab\n",
    "train_data_UnivLab = train_data[train_data['primary_space_usage']==\"UnivLab\"]\n",
    "\n",
    "val_data_UnivLab = val_data[val_data['primary_space_usage']==\"UnivLab\"]\n",
    "\n",
    "print(train_data_UnivLab.shape, val_data_UnivLab.shape)\n",
    "\n",
    "X = train_data_UnivLab.drop(['electricity', 'building_name', 'primary_space_usage','timestamp', 'Unnamed: 0'], axis=1)\n",
    "X_valid = val_data_UnivLab.drop(['electricity', 'building_name', 'primary_space_usage', 'timestamp', 'Unnamed: 0'], axis=1)\n",
    "y, y_valid = train_data_UnivLab['electricity'], val_data_UnivLab['electricity']\n",
    "\n"
   ]
  },
  {
   "cell_type": "code",
   "execution_count": 49,
   "metadata": {},
   "outputs": [
    {
     "data": {
      "text/plain": [
       "Index(['Unnamed: 0', 'area', 'building_name', 'electricity',\n",
       "       'primary_space_usage', 'timestamp', 'TemperatureC', 'month', 'year',\n",
       "       'date', 'hour', 'weekday', 'month_1', 'month_2', 'month_3', 'month_4',\n",
       "       'month_5', 'month_6', 'month_7', 'month_8', 'month_9', 'month_10',\n",
       "       'month_11', 'month_12', 'date_1', 'date_2', 'date_3', 'date_4',\n",
       "       'date_5', 'date_6', 'date_7', 'date_8', 'date_9', 'date_10', 'date_11',\n",
       "       'date_12', 'date_13', 'date_14', 'date_15', 'date_16', 'date_17',\n",
       "       'date_18', 'date_19', 'date_20', 'date_21', 'date_22', 'date_23',\n",
       "       'date_24', 'date_25', 'date_26', 'date_27', 'date_28', 'date_29',\n",
       "       'date_30', 'date_31', 'hour_0', 'hour_1', 'hour_2', 'hour_3', 'hour_4',\n",
       "       'hour_5', 'hour_6', 'hour_7', 'hour_8', 'hour_9', 'hour_10', 'hour_11',\n",
       "       'hour_12', 'hour_13', 'hour_14', 'hour_15', 'hour_16', 'hour_17',\n",
       "       'hour_18', 'hour_19', 'hour_20', 'hour_21', 'hour_22', 'hour_23',\n",
       "       'wkday_0', 'wkday_1', 'wkday_2', 'wkday_3', 'wkday_4', 'wkday_5',\n",
       "       'wkday_6', 'PSU_PrimClass', 'PSU_UnivClass'],\n",
       "      dtype='object')"
      ]
     },
     "execution_count": 49,
     "metadata": {},
     "output_type": "execute_result"
    }
   ],
   "source": [
    "train_data.columns"
   ]
  },
  {
   "cell_type": "markdown",
   "metadata": {},
   "source": [
    "### Check if number of unique buildings matches number of unique building areas"
   ]
  },
  {
   "cell_type": "code",
   "execution_count": 40,
   "metadata": {},
   "outputs": [
    {
     "data": {
      "text/plain": [
       "array(['PrimClass_Jacqueline', 'PrimClass_Jacquelyn', 'PrimClass_Jaiden',\n",
       "       'PrimClass_Jake', 'PrimClass_Jamie', 'PrimClass_Jane',\n",
       "       'PrimClass_Janelle', 'PrimClass_Janice', 'PrimClass_Janie',\n",
       "       'PrimClass_Janis', 'PrimClass_Janiya', 'PrimClass_Jaqueline',\n",
       "       'PrimClass_Jarrett', 'PrimClass_Jasmine', 'PrimClass_Jaxson',\n",
       "       'PrimClass_Jaylin', 'PrimClass_Jazmin', 'PrimClass_Jazmine',\n",
       "       'PrimClass_Jean', 'PrimClass_Jeanine', 'PrimClass_Jediah',\n",
       "       'PrimClass_Jeffery', 'PrimClass_Jeffrey', 'PrimClass_Jennie',\n",
       "       'PrimClass_Jennifer', 'PrimClass_Jeremy', 'PrimClass_Jermaine',\n",
       "       'PrimClass_Jerome', 'PrimClass_Jesse', 'PrimClass_Jill',\n",
       "       'PrimClass_Jim', 'PrimClass_Jimmie', 'PrimClass_Joanna',\n",
       "       'PrimClass_Jocelyn', 'PrimClass_Jodie', 'PrimClass_Joel',\n",
       "       'PrimClass_Johanna', 'PrimClass_Johnathan', 'PrimClass_Johnathon',\n",
       "       'PrimClass_Johnnie', 'PrimClass_Jonathon', 'PrimClass_Jose',\n",
       "       'PrimClass_Josue', 'PrimClass_Juanita', 'PrimClass_Judith',\n",
       "       'PrimClass_Julian', 'PrimClass_Julianna', 'PrimClass_Julio',\n",
       "       'PrimClass_Justice', 'UnivClass_Jadon'], dtype=object)"
      ]
     },
     "execution_count": 40,
     "metadata": {},
     "output_type": "execute_result"
    }
   ],
   "source": [
    "# Output arrays with number of building names, and the number of rows per building\n",
    "array_buildings, obs_per_building = np.unique(train_data['building_name'], return_counts = True)\n",
    "array_buildings"
   ]
  },
  {
   "cell_type": "code",
   "execution_count": 41,
   "metadata": {},
   "outputs": [
    {
     "data": {
      "text/plain": [
       "array([8757], dtype=int64)"
      ]
     },
     "execution_count": 41,
     "metadata": {},
     "output_type": "execute_result"
    }
   ],
   "source": [
    "np.unique(obs_per_building)"
   ]
  },
  {
   "cell_type": "code",
   "execution_count": 27,
   "metadata": {},
   "outputs": [
    {
     "data": {
      "text/plain": [
       "437850"
      ]
     },
     "execution_count": 27,
     "metadata": {},
     "output_type": "execute_result"
    }
   ],
   "source": [
    "obs_per_building.sum()"
   ]
  },
  {
   "cell_type": "code",
   "execution_count": 29,
   "metadata": {},
   "outputs": [
    {
     "data": {
      "text/plain": [
       "(50,)"
      ]
     },
     "execution_count": 29,
     "metadata": {},
     "output_type": "execute_result"
    }
   ],
   "source": [
    "array_areas, obs_per_area = np.unique(train_data['area'], return_counts = True)\n",
    "array_areas.shape"
   ]
  },
  {
   "cell_type": "code",
   "execution_count": 30,
   "metadata": {},
   "outputs": [
    {
     "data": {
      "text/plain": [
       "437850"
      ]
     },
     "execution_count": 30,
     "metadata": {},
     "output_type": "execute_result"
    }
   ],
   "source": [
    "obs_per_area.sum()"
   ]
  },
  {
   "cell_type": "code",
   "execution_count": 20,
   "metadata": {
    "scrolled": true
   },
   "outputs": [],
   "source": [
    "# Characterize feature importance\n",
    "\n",
    "def calc_feature_importance(rf):\n",
    "    feature_importances = pd.DataFrame(rf.feature_importances_,\n",
    "                            index = X.columns,\n",
    "                            columns=['importance']).sort_values('importance',ascending=False)\n",
    "\n",
    "    return feature_importances"
   ]
  },
  {
   "cell_type": "code",
   "execution_count": 21,
   "metadata": {},
   "outputs": [
    {
     "data": {
      "text/html": [
       "<div>\n",
       "<style scoped>\n",
       "    .dataframe tbody tr th:only-of-type {\n",
       "        vertical-align: middle;\n",
       "    }\n",
       "\n",
       "    .dataframe tbody tr th {\n",
       "        vertical-align: top;\n",
       "    }\n",
       "\n",
       "    .dataframe thead th {\n",
       "        text-align: right;\n",
       "    }\n",
       "</style>\n",
       "<table border=\"1\" class=\"dataframe\">\n",
       "  <thead>\n",
       "    <tr style=\"text-align: right;\">\n",
       "      <th></th>\n",
       "      <th>importance</th>\n",
       "    </tr>\n",
       "  </thead>\n",
       "  <tbody>\n",
       "    <tr>\n",
       "      <th>area</th>\n",
       "      <td>0.600075</td>\n",
       "    </tr>\n",
       "    <tr>\n",
       "      <th>TemperatureC</th>\n",
       "      <td>0.039801</td>\n",
       "    </tr>\n",
       "    <tr>\n",
       "      <th>wkday_5</th>\n",
       "      <td>0.033079</td>\n",
       "    </tr>\n",
       "    <tr>\n",
       "      <th>wkday_6</th>\n",
       "      <td>0.027211</td>\n",
       "    </tr>\n",
       "    <tr>\n",
       "      <th>month_8</th>\n",
       "      <td>0.023619</td>\n",
       "    </tr>\n",
       "    <tr>\n",
       "      <th>hour_10</th>\n",
       "      <td>0.023306</td>\n",
       "    </tr>\n",
       "    <tr>\n",
       "      <th>hour_9</th>\n",
       "      <td>0.023181</td>\n",
       "    </tr>\n",
       "    <tr>\n",
       "      <th>hour_13</th>\n",
       "      <td>0.022964</td>\n",
       "    </tr>\n",
       "    <tr>\n",
       "      <th>hour_11</th>\n",
       "      <td>0.022791</td>\n",
       "    </tr>\n",
       "    <tr>\n",
       "      <th>hour_12</th>\n",
       "      <td>0.022686</td>\n",
       "    </tr>\n",
       "    <tr>\n",
       "      <th>hour_14</th>\n",
       "      <td>0.019483</td>\n",
       "    </tr>\n",
       "    <tr>\n",
       "      <th>hour_8</th>\n",
       "      <td>0.016307</td>\n",
       "    </tr>\n",
       "    <tr>\n",
       "      <th>hour_15</th>\n",
       "      <td>0.015338</td>\n",
       "    </tr>\n",
       "    <tr>\n",
       "      <th>hour_16</th>\n",
       "      <td>0.009724</td>\n",
       "    </tr>\n",
       "    <tr>\n",
       "      <th>month_5</th>\n",
       "      <td>0.009230</td>\n",
       "    </tr>\n",
       "    <tr>\n",
       "      <th>month_11</th>\n",
       "      <td>0.007649</td>\n",
       "    </tr>\n",
       "    <tr>\n",
       "      <th>hour_7</th>\n",
       "      <td>0.007625</td>\n",
       "    </tr>\n",
       "    <tr>\n",
       "      <th>month_4</th>\n",
       "      <td>0.005993</td>\n",
       "    </tr>\n",
       "    <tr>\n",
       "      <th>hour_17</th>\n",
       "      <td>0.005758</td>\n",
       "    </tr>\n",
       "    <tr>\n",
       "      <th>month_7</th>\n",
       "      <td>0.005606</td>\n",
       "    </tr>\n",
       "    <tr>\n",
       "      <th>month_12</th>\n",
       "      <td>0.003996</td>\n",
       "    </tr>\n",
       "    <tr>\n",
       "      <th>hour_18</th>\n",
       "      <td>0.003657</td>\n",
       "    </tr>\n",
       "    <tr>\n",
       "      <th>month_1</th>\n",
       "      <td>0.002897</td>\n",
       "    </tr>\n",
       "    <tr>\n",
       "      <th>wkday_4</th>\n",
       "      <td>0.002622</td>\n",
       "    </tr>\n",
       "    <tr>\n",
       "      <th>date_2</th>\n",
       "      <td>0.002550</td>\n",
       "    </tr>\n",
       "    <tr>\n",
       "      <th>month_3</th>\n",
       "      <td>0.002465</td>\n",
       "    </tr>\n",
       "    <tr>\n",
       "      <th>hour_6</th>\n",
       "      <td>0.002411</td>\n",
       "    </tr>\n",
       "    <tr>\n",
       "      <th>date_31</th>\n",
       "      <td>0.002302</td>\n",
       "    </tr>\n",
       "    <tr>\n",
       "      <th>month_10</th>\n",
       "      <td>0.002285</td>\n",
       "    </tr>\n",
       "    <tr>\n",
       "      <th>month_9</th>\n",
       "      <td>0.002182</td>\n",
       "    </tr>\n",
       "    <tr>\n",
       "      <th>...</th>\n",
       "      <td>...</td>\n",
       "    </tr>\n",
       "    <tr>\n",
       "      <th>date_24</th>\n",
       "      <td>0.000559</td>\n",
       "    </tr>\n",
       "    <tr>\n",
       "      <th>date_1</th>\n",
       "      <td>0.000552</td>\n",
       "    </tr>\n",
       "    <tr>\n",
       "      <th>hour_21</th>\n",
       "      <td>0.000526</td>\n",
       "    </tr>\n",
       "    <tr>\n",
       "      <th>date_25</th>\n",
       "      <td>0.000496</td>\n",
       "    </tr>\n",
       "    <tr>\n",
       "      <th>date_20</th>\n",
       "      <td>0.000496</td>\n",
       "    </tr>\n",
       "    <tr>\n",
       "      <th>date_27</th>\n",
       "      <td>0.000486</td>\n",
       "    </tr>\n",
       "    <tr>\n",
       "      <th>date_8</th>\n",
       "      <td>0.000404</td>\n",
       "    </tr>\n",
       "    <tr>\n",
       "      <th>date_21</th>\n",
       "      <td>0.000325</td>\n",
       "    </tr>\n",
       "    <tr>\n",
       "      <th>date_17</th>\n",
       "      <td>0.000317</td>\n",
       "    </tr>\n",
       "    <tr>\n",
       "      <th>date_9</th>\n",
       "      <td>0.000315</td>\n",
       "    </tr>\n",
       "    <tr>\n",
       "      <th>date_7</th>\n",
       "      <td>0.000310</td>\n",
       "    </tr>\n",
       "    <tr>\n",
       "      <th>date_3</th>\n",
       "      <td>0.000282</td>\n",
       "    </tr>\n",
       "    <tr>\n",
       "      <th>date_19</th>\n",
       "      <td>0.000214</td>\n",
       "    </tr>\n",
       "    <tr>\n",
       "      <th>date_10</th>\n",
       "      <td>0.000192</td>\n",
       "    </tr>\n",
       "    <tr>\n",
       "      <th>date_15</th>\n",
       "      <td>0.000188</td>\n",
       "    </tr>\n",
       "    <tr>\n",
       "      <th>date_18</th>\n",
       "      <td>0.000184</td>\n",
       "    </tr>\n",
       "    <tr>\n",
       "      <th>date_13</th>\n",
       "      <td>0.000181</td>\n",
       "    </tr>\n",
       "    <tr>\n",
       "      <th>hour_4</th>\n",
       "      <td>0.000181</td>\n",
       "    </tr>\n",
       "    <tr>\n",
       "      <th>date_14</th>\n",
       "      <td>0.000177</td>\n",
       "    </tr>\n",
       "    <tr>\n",
       "      <th>date_16</th>\n",
       "      <td>0.000152</td>\n",
       "    </tr>\n",
       "    <tr>\n",
       "      <th>date_11</th>\n",
       "      <td>0.000141</td>\n",
       "    </tr>\n",
       "    <tr>\n",
       "      <th>hour_0</th>\n",
       "      <td>0.000133</td>\n",
       "    </tr>\n",
       "    <tr>\n",
       "      <th>hour_23</th>\n",
       "      <td>0.000119</td>\n",
       "    </tr>\n",
       "    <tr>\n",
       "      <th>hour_1</th>\n",
       "      <td>0.000117</td>\n",
       "    </tr>\n",
       "    <tr>\n",
       "      <th>date_4</th>\n",
       "      <td>0.000102</td>\n",
       "    </tr>\n",
       "    <tr>\n",
       "      <th>date_5</th>\n",
       "      <td>0.000097</td>\n",
       "    </tr>\n",
       "    <tr>\n",
       "      <th>hour_2</th>\n",
       "      <td>0.000082</td>\n",
       "    </tr>\n",
       "    <tr>\n",
       "      <th>hour_22</th>\n",
       "      <td>0.000077</td>\n",
       "    </tr>\n",
       "    <tr>\n",
       "      <th>hour_3</th>\n",
       "      <td>0.000064</td>\n",
       "    </tr>\n",
       "    <tr>\n",
       "      <th>date_12</th>\n",
       "      <td>0.000055</td>\n",
       "    </tr>\n",
       "  </tbody>\n",
       "</table>\n",
       "<p>78 rows × 1 columns</p>\n",
       "</div>"
      ],
      "text/plain": [
       "              importance\n",
       "area            0.600075\n",
       "TemperatureC    0.039801\n",
       "wkday_5         0.033079\n",
       "wkday_6         0.027211\n",
       "month_8         0.023619\n",
       "hour_10         0.023306\n",
       "hour_9          0.023181\n",
       "hour_13         0.022964\n",
       "hour_11         0.022791\n",
       "hour_12         0.022686\n",
       "hour_14         0.019483\n",
       "hour_8          0.016307\n",
       "hour_15         0.015338\n",
       "hour_16         0.009724\n",
       "month_5         0.009230\n",
       "month_11        0.007649\n",
       "hour_7          0.007625\n",
       "month_4         0.005993\n",
       "hour_17         0.005758\n",
       "month_7         0.005606\n",
       "month_12        0.003996\n",
       "hour_18         0.003657\n",
       "month_1         0.002897\n",
       "wkday_4         0.002622\n",
       "date_2          0.002550\n",
       "month_3         0.002465\n",
       "hour_6          0.002411\n",
       "date_31         0.002302\n",
       "month_10        0.002285\n",
       "month_9         0.002182\n",
       "...                  ...\n",
       "date_24         0.000559\n",
       "date_1          0.000552\n",
       "hour_21         0.000526\n",
       "date_25         0.000496\n",
       "date_20         0.000496\n",
       "date_27         0.000486\n",
       "date_8          0.000404\n",
       "date_21         0.000325\n",
       "date_17         0.000317\n",
       "date_9          0.000315\n",
       "date_7          0.000310\n",
       "date_3          0.000282\n",
       "date_19         0.000214\n",
       "date_10         0.000192\n",
       "date_15         0.000188\n",
       "date_18         0.000184\n",
       "date_13         0.000181\n",
       "hour_4          0.000181\n",
       "date_14         0.000177\n",
       "date_16         0.000152\n",
       "date_11         0.000141\n",
       "hour_0          0.000133\n",
       "hour_23         0.000119\n",
       "hour_1          0.000117\n",
       "date_4          0.000102\n",
       "date_5          0.000097\n",
       "hour_2          0.000082\n",
       "hour_22         0.000077\n",
       "hour_3          0.000064\n",
       "date_12         0.000055\n",
       "\n",
       "[78 rows x 1 columns]"
      ]
     },
     "execution_count": 21,
     "metadata": {},
     "output_type": "execute_result"
    }
   ],
   "source": [
    "calc_feature_importance(rf)"
   ]
  }
 ],
 "metadata": {
  "kernelspec": {
   "display_name": "Python 3",
   "language": "python",
   "name": "python3"
  },
  "language_info": {
   "codemirror_mode": {
    "name": "ipython",
    "version": 3
   },
   "file_extension": ".py",
   "mimetype": "text/x-python",
   "name": "python",
   "nbconvert_exporter": "python",
   "pygments_lexer": "ipython3",
   "version": "3.7.3"
  }
 },
 "nbformat": 4,
 "nbformat_minor": 2
}
