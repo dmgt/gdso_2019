{
 "cells": [
  {
   "cell_type": "code",
   "execution_count": 1,
   "metadata": {},
   "outputs": [],
   "source": [
    "# Based partly on http://mariofilho.com/how-to-predict-multiple-time-series-with-scikit-learn-with-sales-forecasting-example/\n",
    "import pandas as pd\n",
    "import numpy as np\n",
    "import matplotlib.pyplot as plt\n",
    "%matplotlib inline\n",
    "# from rfpimp import *  - not easy to install on cluster\n",
    "\n",
    "from sklearn.metrics import mean_squared_error, mean_absolute_error\n",
    "from sklearn.ensemble import RandomForestRegressor"
   ]
  },
  {
   "cell_type": "markdown",
   "metadata": {},
   "source": [
    "- This notebook takes as input two files for train and test data"
   ]
  },
  {
   "cell_type": "markdown",
   "metadata": {},
   "source": [
    "### Define functions to fit + evaluate model"
   ]
  },
  {
   "cell_type": "code",
   "execution_count": 2,
   "metadata": {},
   "outputs": [],
   "source": [
    "# Functions to use for prediction evaluation\n",
    "\n",
    "def rmsle(ytrue, ypred):\n",
    "    return np.sqrt(mean_squared_log_error(ytrue, ypred))\n",
    "\n"
   ]
  },
  {
   "cell_type": "code",
   "execution_count": 3,
   "metadata": {},
   "outputs": [],
   "source": [
    "# Train the model, measure accuracy, and error metrics\n",
    "\n",
    "def make_model(X, y, X_valid, y_valid, n_estimators,\n",
    "              max_features, min_samples_leaf, random_state):\n",
    "\n",
    "    #global rf\n",
    "    \n",
    "    rf = RandomForestRegressor(n_estimators=n_estimators,\n",
    "                           n_jobs=-1,\n",
    "                           oob_score=True,\n",
    "                           max_features=max_features, \n",
    "                           min_samples_leaf=min_samples_leaf,\n",
    "                           random_state = random_state,\n",
    "                           verbose = 1)\n",
    "\n",
    "    #Inputting train dataset into the model\n",
    "    rf.fit(X, y)\n",
    "\n",
    "    return rf"
   ]
  },
  {
   "cell_type": "code",
   "execution_count": 4,
   "metadata": {},
   "outputs": [],
   "source": [
    "# Using the model to make a prediction & Error Analysis for Random Forest \n",
    "\n",
    "def run_model(X_valid):\n",
    "    #global n, h, oob_valid\n",
    "    n = rfnnodes(rf)\n",
    "    h = np.median(rfmaxdepths(rf))\n",
    "    #global y_pred\n",
    "    y_pred = rf.predict(X_valid)\n",
    "    #global mae_valid, rmsle_valid, r2_score_valid\n",
    "    mae_valid = mean_absolute_error(y_valid, y_pred)\n",
    "    rmsle_valid = np.sqrt( mean_squared_error(y_valid, y_pred) )\n",
    "    r2_score_valid = rf.score(X_valid, y_valid)\n",
    "    \n",
    "    oob_valid = rf.oob_score_\n",
    "\n",
    "    print(f\"RF OOB score {rf.oob_score_:.5f} using {n:,d} tree nodes {h} median tree height\")\n",
    "    print(f\"Validation R^2 {r2_score_valid:.5f}, RMSLE {rmsle_valid:.5f}, MAE {mae_valid:.2f}\")\n",
    "    \n",
    "    return y_pred,rmsle_valid,mae_valid,r2_score_valid, n, h, oob_valid"
   ]
  },
  {
   "cell_type": "markdown",
   "metadata": {},
   "source": [
    "Dataset input block\n",
    "\n",
    "- Features: area, building_type, temperature, + one-hot encoded hour, day of week, month of year"
   ]
  },
  {
   "cell_type": "code",
   "execution_count": 5,
   "metadata": {},
   "outputs": [],
   "source": [
    "# Setting 'parse_dates' in this case parses both dates and times\n",
    "# These files are too large to commit so they're uploaded locally under `/exploring_models` but not pushed\n",
    "train_data = pd.read_csv('weather1_education_train.csv', parse_dates = ['timestamp'])\n",
    "val_data = pd.read_csv('weather1_education_test.csv', parse_dates = ['timestamp'])"
   ]
  },
  {
   "cell_type": "code",
   "execution_count": 6,
   "metadata": {},
   "outputs": [],
   "source": [
    "X, X_valid = train_data.drop(['electricity', 'building_name', 'primary_space_usage', 'hour', 'year', 'month','weekday', 'date', 'timestamp', 'Unnamed: 0'], axis=1), val_data.drop(['electricity', 'building_name', 'primary_space_usage', 'hour', 'year', 'month','weekday', 'date', 'timestamp', 'Unnamed: 0'], axis=1)\n",
    "y, y_valid = train_data['electricity'], val_data['electricity']\n"
   ]
  },
  {
   "cell_type": "code",
   "execution_count": 7,
   "metadata": {},
   "outputs": [
    {
     "data": {
      "text/html": [
       "<div>\n",
       "<style scoped>\n",
       "    .dataframe tbody tr th:only-of-type {\n",
       "        vertical-align: middle;\n",
       "    }\n",
       "\n",
       "    .dataframe tbody tr th {\n",
       "        vertical-align: top;\n",
       "    }\n",
       "\n",
       "    .dataframe thead th {\n",
       "        text-align: right;\n",
       "    }\n",
       "</style>\n",
       "<table border=\"1\" class=\"dataframe\">\n",
       "  <thead>\n",
       "    <tr style=\"text-align: right;\">\n",
       "      <th></th>\n",
       "      <th>area</th>\n",
       "      <th>TemperatureC</th>\n",
       "      <th>month_1</th>\n",
       "      <th>month_2</th>\n",
       "      <th>month_3</th>\n",
       "      <th>month_4</th>\n",
       "      <th>month_5</th>\n",
       "      <th>month_6</th>\n",
       "      <th>month_7</th>\n",
       "      <th>month_8</th>\n",
       "      <th>...</th>\n",
       "      <th>hour_23</th>\n",
       "      <th>wkday_0</th>\n",
       "      <th>wkday_1</th>\n",
       "      <th>wkday_2</th>\n",
       "      <th>wkday_3</th>\n",
       "      <th>wkday_4</th>\n",
       "      <th>wkday_5</th>\n",
       "      <th>wkday_6</th>\n",
       "      <th>PSU_PrimClass</th>\n",
       "      <th>PSU_UnivClass</th>\n",
       "    </tr>\n",
       "  </thead>\n",
       "  <tbody>\n",
       "    <tr>\n",
       "      <th>0</th>\n",
       "      <td>2777.0</td>\n",
       "      <td>7.0</td>\n",
       "      <td>0</td>\n",
       "      <td>0</td>\n",
       "      <td>0</td>\n",
       "      <td>0</td>\n",
       "      <td>0</td>\n",
       "      <td>0</td>\n",
       "      <td>0</td>\n",
       "      <td>0</td>\n",
       "      <td>...</td>\n",
       "      <td>0</td>\n",
       "      <td>1</td>\n",
       "      <td>0</td>\n",
       "      <td>0</td>\n",
       "      <td>0</td>\n",
       "      <td>0</td>\n",
       "      <td>0</td>\n",
       "      <td>0</td>\n",
       "      <td>1</td>\n",
       "      <td>0</td>\n",
       "    </tr>\n",
       "    <tr>\n",
       "      <th>1</th>\n",
       "      <td>2777.0</td>\n",
       "      <td>5.0</td>\n",
       "      <td>0</td>\n",
       "      <td>0</td>\n",
       "      <td>0</td>\n",
       "      <td>0</td>\n",
       "      <td>0</td>\n",
       "      <td>0</td>\n",
       "      <td>0</td>\n",
       "      <td>0</td>\n",
       "      <td>...</td>\n",
       "      <td>0</td>\n",
       "      <td>1</td>\n",
       "      <td>0</td>\n",
       "      <td>0</td>\n",
       "      <td>0</td>\n",
       "      <td>0</td>\n",
       "      <td>0</td>\n",
       "      <td>0</td>\n",
       "      <td>1</td>\n",
       "      <td>0</td>\n",
       "    </tr>\n",
       "    <tr>\n",
       "      <th>2</th>\n",
       "      <td>2777.0</td>\n",
       "      <td>5.0</td>\n",
       "      <td>0</td>\n",
       "      <td>0</td>\n",
       "      <td>0</td>\n",
       "      <td>0</td>\n",
       "      <td>0</td>\n",
       "      <td>0</td>\n",
       "      <td>0</td>\n",
       "      <td>0</td>\n",
       "      <td>...</td>\n",
       "      <td>0</td>\n",
       "      <td>1</td>\n",
       "      <td>0</td>\n",
       "      <td>0</td>\n",
       "      <td>0</td>\n",
       "      <td>0</td>\n",
       "      <td>0</td>\n",
       "      <td>0</td>\n",
       "      <td>1</td>\n",
       "      <td>0</td>\n",
       "    </tr>\n",
       "    <tr>\n",
       "      <th>3</th>\n",
       "      <td>2777.0</td>\n",
       "      <td>6.0</td>\n",
       "      <td>0</td>\n",
       "      <td>0</td>\n",
       "      <td>0</td>\n",
       "      <td>0</td>\n",
       "      <td>0</td>\n",
       "      <td>0</td>\n",
       "      <td>0</td>\n",
       "      <td>0</td>\n",
       "      <td>...</td>\n",
       "      <td>0</td>\n",
       "      <td>1</td>\n",
       "      <td>0</td>\n",
       "      <td>0</td>\n",
       "      <td>0</td>\n",
       "      <td>0</td>\n",
       "      <td>0</td>\n",
       "      <td>0</td>\n",
       "      <td>1</td>\n",
       "      <td>0</td>\n",
       "    </tr>\n",
       "    <tr>\n",
       "      <th>4</th>\n",
       "      <td>2777.0</td>\n",
       "      <td>7.0</td>\n",
       "      <td>0</td>\n",
       "      <td>0</td>\n",
       "      <td>0</td>\n",
       "      <td>0</td>\n",
       "      <td>0</td>\n",
       "      <td>0</td>\n",
       "      <td>0</td>\n",
       "      <td>0</td>\n",
       "      <td>...</td>\n",
       "      <td>0</td>\n",
       "      <td>1</td>\n",
       "      <td>0</td>\n",
       "      <td>0</td>\n",
       "      <td>0</td>\n",
       "      <td>0</td>\n",
       "      <td>0</td>\n",
       "      <td>0</td>\n",
       "      <td>1</td>\n",
       "      <td>0</td>\n",
       "    </tr>\n",
       "  </tbody>\n",
       "</table>\n",
       "<p>5 rows × 78 columns</p>\n",
       "</div>"
      ],
      "text/plain": [
       "     area  TemperatureC  month_1  month_2  month_3  month_4  month_5  month_6  \\\n",
       "0  2777.0           7.0        0        0        0        0        0        0   \n",
       "1  2777.0           5.0        0        0        0        0        0        0   \n",
       "2  2777.0           5.0        0        0        0        0        0        0   \n",
       "3  2777.0           6.0        0        0        0        0        0        0   \n",
       "4  2777.0           7.0        0        0        0        0        0        0   \n",
       "\n",
       "   month_7  month_8  ...  hour_23  wkday_0  wkday_1  wkday_2  wkday_3  \\\n",
       "0        0        0  ...        0        1        0        0        0   \n",
       "1        0        0  ...        0        1        0        0        0   \n",
       "2        0        0  ...        0        1        0        0        0   \n",
       "3        0        0  ...        0        1        0        0        0   \n",
       "4        0        0  ...        0        1        0        0        0   \n",
       "\n",
       "   wkday_4  wkday_5  wkday_6  PSU_PrimClass  PSU_UnivClass  \n",
       "0        0        0        0              1              0  \n",
       "1        0        0        0              1              0  \n",
       "2        0        0        0              1              0  \n",
       "3        0        0        0              1              0  \n",
       "4        0        0        0              1              0  \n",
       "\n",
       "[5 rows x 78 columns]"
      ]
     },
     "execution_count": 7,
     "metadata": {},
     "output_type": "execute_result"
    }
   ],
   "source": [
    "X.head()"
   ]
  },
  {
   "cell_type": "code",
   "execution_count": 8,
   "metadata": {},
   "outputs": [
    {
     "data": {
      "text/plain": [
       "0    5.0\n",
       "1    5.2\n",
       "2    5.2\n",
       "3    5.5\n",
       "4    6.0\n",
       "Name: electricity, dtype: float64"
      ]
     },
     "execution_count": 8,
     "metadata": {},
     "output_type": "execute_result"
    }
   ],
   "source": [
    "y.head()"
   ]
  },
  {
   "cell_type": "code",
   "execution_count": 93,
   "metadata": {},
   "outputs": [
    {
     "data": {
      "text/plain": [
       "area            float64\n",
       "TemperatureC    float64\n",
       "month_1           int64\n",
       "month_2           int64\n",
       "month_3           int64\n",
       "dtype: object"
      ]
     },
     "execution_count": 93,
     "metadata": {},
     "output_type": "execute_result"
    }
   ],
   "source": [
    "# Looks ok\n",
    "X.dtypes.head()"
   ]
  },
  {
   "cell_type": "code",
   "execution_count": 94,
   "metadata": {},
   "outputs": [
    {
     "data": {
      "text/plain": [
       "wkday_4          int64\n",
       "wkday_5          int64\n",
       "wkday_6          int64\n",
       "PSU_PrimClass    int64\n",
       "PSU_UnivClass    int64\n",
       "dtype: object"
      ]
     },
     "execution_count": 94,
     "metadata": {},
     "output_type": "execute_result"
    }
   ],
   "source": [
    "X.dtypes.tail()"
   ]
  },
  {
   "cell_type": "code",
   "execution_count": 11,
   "metadata": {},
   "outputs": [],
   "source": [
    "n_estimators=10 #Number of trees: tradeoff between accuracy and cost here\n",
    "max_features='auto' #maximum number of features to train on\n",
    "min_samples_leaf=5 #minimum number of data points to make a new leaf on a tree\n"
   ]
  },
  {
   "cell_type": "code",
   "execution_count": 14,
   "metadata": {},
   "outputs": [
    {
     "name": "stderr",
     "output_type": "stream",
     "text": [
      "[Parallel(n_jobs=-1)]: Using backend ThreadingBackend with 8 concurrent workers.\n",
      "[Parallel(n_jobs=-1)]: Done   6 out of  10 | elapsed:   15.3s remaining:   10.2s\n",
      "[Parallel(n_jobs=-1)]: Done  10 out of  10 | elapsed:   23.6s finished\n",
      "C:\\Users\\dmmma\\Anaconda3\\lib\\site-packages\\sklearn\\ensemble\\forest.py:737: UserWarning: Some inputs do not have OOB scores. This probably means too few trees were used to compute any reliable oob estimates.\n",
      "  warn(\"Some inputs do not have OOB scores. \"\n"
     ]
    }
   ],
   "source": [
    "rf = make_model(X, y, X_valid, y_valid, n_estimators,max_features, min_samples_leaf, random_state = 42)"
   ]
  },
  {
   "cell_type": "code",
   "execution_count": 15,
   "metadata": {},
   "outputs": [
    {
     "name": "stderr",
     "output_type": "stream",
     "text": [
      "[Parallel(n_jobs=8)]: Using backend ThreadingBackend with 8 concurrent workers.\n",
      "[Parallel(n_jobs=8)]: Done   6 out of  10 | elapsed:    0.0s remaining:    0.0s\n",
      "[Parallel(n_jobs=8)]: Done  10 out of  10 | elapsed:    0.1s finished\n",
      "[Parallel(n_jobs=8)]: Using backend ThreadingBackend with 8 concurrent workers.\n",
      "[Parallel(n_jobs=8)]: Done   6 out of  10 | elapsed:    0.0s remaining:    0.0s\n",
      "[Parallel(n_jobs=8)]: Done  10 out of  10 | elapsed:    0.0s finished\n"
     ]
    },
    {
     "name": "stdout",
     "output_type": "stream",
     "text": [
      "RF OOB score 0.88374 using 816,960 tree nodes 63.5 median tree height\n",
      "Validation R^2 0.80350, RMSLE 13.74878, MAE 7.72\n"
     ]
    },
    {
     "data": {
      "text/plain": [
       "(array([20.19254152, 19.23924333, 19.66326789, ..., 10.52783618,\n",
       "         9.84343293,  9.81426626]),\n",
       " 13.74877873868953,\n",
       " 7.719820946260225,\n",
       " 0.8035022063988659,\n",
       " 816960,\n",
       " 63.5,\n",
       " 0.8837430858707599)"
      ]
     },
     "execution_count": 15,
     "metadata": {},
     "output_type": "execute_result"
    }
   ],
   "source": [
    "run_model(X_valid)"
   ]
  },
  {
   "cell_type": "code",
   "execution_count": 16,
   "metadata": {
    "scrolled": true
   },
   "outputs": [
    {
     "data": {
      "text/html": [
       "<div>\n",
       "<style scoped>\n",
       "    .dataframe tbody tr th:only-of-type {\n",
       "        vertical-align: middle;\n",
       "    }\n",
       "\n",
       "    .dataframe tbody tr th {\n",
       "        vertical-align: top;\n",
       "    }\n",
       "\n",
       "    .dataframe thead th {\n",
       "        text-align: right;\n",
       "    }\n",
       "</style>\n",
       "<table border=\"1\" class=\"dataframe\">\n",
       "  <thead>\n",
       "    <tr style=\"text-align: right;\">\n",
       "      <th></th>\n",
       "      <th>importance</th>\n",
       "    </tr>\n",
       "  </thead>\n",
       "  <tbody>\n",
       "    <tr>\n",
       "      <th>area</th>\n",
       "      <td>0.599944</td>\n",
       "    </tr>\n",
       "    <tr>\n",
       "      <th>TemperatureC</th>\n",
       "      <td>0.040237</td>\n",
       "    </tr>\n",
       "    <tr>\n",
       "      <th>wkday_5</th>\n",
       "      <td>0.033156</td>\n",
       "    </tr>\n",
       "    <tr>\n",
       "      <th>wkday_6</th>\n",
       "      <td>0.026978</td>\n",
       "    </tr>\n",
       "    <tr>\n",
       "      <th>month_8</th>\n",
       "      <td>0.023914</td>\n",
       "    </tr>\n",
       "    <tr>\n",
       "      <th>hour_10</th>\n",
       "      <td>0.023389</td>\n",
       "    </tr>\n",
       "    <tr>\n",
       "      <th>hour_9</th>\n",
       "      <td>0.023298</td>\n",
       "    </tr>\n",
       "    <tr>\n",
       "      <th>hour_11</th>\n",
       "      <td>0.022908</td>\n",
       "    </tr>\n",
       "    <tr>\n",
       "      <th>hour_13</th>\n",
       "      <td>0.022723</td>\n",
       "    </tr>\n",
       "    <tr>\n",
       "      <th>hour_12</th>\n",
       "      <td>0.022358</td>\n",
       "    </tr>\n",
       "  </tbody>\n",
       "</table>\n",
       "</div>"
      ],
      "text/plain": [
       "              importance\n",
       "area            0.599944\n",
       "TemperatureC    0.040237\n",
       "wkday_5         0.033156\n",
       "wkday_6         0.026978\n",
       "month_8         0.023914\n",
       "hour_10         0.023389\n",
       "hour_9          0.023298\n",
       "hour_11         0.022908\n",
       "hour_13         0.022723\n",
       "hour_12         0.022358"
      ]
     },
     "execution_count": 16,
     "metadata": {},
     "output_type": "execute_result"
    }
   ],
   "source": [
    "# Characterize feature importance\n",
    "feature_importances = pd.DataFrame(rf.feature_importances_,\n",
    "                            index = X.columns,\n",
    "                            columns=['importance']).sort_values('importance',ascending=False)\n",
    "\n",
    "feature_importances.head(10)"
   ]
  },
  {
   "cell_type": "markdown",
   "metadata": {},
   "source": [
    "### Tune hyperparameters"
   ]
  },
  {
   "cell_type": "code",
   "execution_count": 58,
   "metadata": {
    "scrolled": true
   },
   "outputs": [],
   "source": [
    "# Something appears wrong with the setup, beacuse the results are the same (!) at each step\n",
    "\n",
    "def tune_maxf(X, y, X_valid, y_valid, ntrees, maxf_min, maxf_max, maxf_step = 0.1):\n",
    "\n",
    "# Fix minleaf while tuning this\n",
    "    minleaf = 1\n",
    "    \n",
    "    list_of_r2_valid = []\n",
    "    list_of_rmsle_valid = []\n",
    "    list_of_mae_valid = []\n",
    "    \n",
    "    list_of_maxf = np.arange(maxf_min, maxf_max, maxf_step ).tolist()\n",
    "\n",
    "    for maxf in np.arange(maxf_min, maxf_max, maxf_step ):\n",
    "       print(f\"n_estimators={ntrees}, max_features={maxf}, min_samples_leaf={minleaf}\")\n",
    "       make_model(X, y, X_valid, y_valid, n_estimators = ntrees, max_features = maxf, min_samples_leaf = minleaf, \n",
    "                  random_state = 42)\n",
    "    \n",
    "       y_pred,rmsle_valid,mae_valid,r2_score_valid, n, h, oob_valid = run_model(X_valid)\n",
    "        \n",
    "       list_of_r2_valid.append(r2_score_valid)\n",
    "       list_of_rmsle_valid.append(rmsle_valid)\n",
    "       list_of_mae_valid.append(mae_valid)\n",
    "    \n",
    "    \n",
    "    min1 = list_of_r2_valid.index(min(list_of_r2_valid))\n",
    "    min2 = list_of_rmsle_valid.index(min(list_of_rmsle_valid))\n",
    "    min3 = list_of_mae_valid.index(min(list_of_mae_valid ))\n",
    "                                    \n",
    "    tuned_maxf = list_of_maxf[min2]\n",
    "    \n",
    "    print(f\"tuned_maxf ={tuned_maxf}\")\n",
    "    \n",
    "    return tuned_maxf"
   ]
  },
  {
   "cell_type": "code",
   "execution_count": 60,
   "metadata": {},
   "outputs": [
    {
     "name": "stdout",
     "output_type": "stream",
     "text": [
      "n_estimators=10, max_features=0.1, min_samples_leaf=1\n"
     ]
    },
    {
     "name": "stderr",
     "output_type": "stream",
     "text": [
      "[Parallel(n_jobs=-1)]: Using backend ThreadingBackend with 8 concurrent workers.\n",
      "[Parallel(n_jobs=-1)]: Done   6 out of  10 | elapsed:    3.2s remaining:    2.1s\n",
      "[Parallel(n_jobs=-1)]: Done  10 out of  10 | elapsed:    4.8s finished\n",
      "C:\\Users\\dmmma\\Anaconda3\\lib\\site-packages\\sklearn\\ensemble\\forest.py:737: UserWarning: Some inputs do not have OOB scores. This probably means too few trees were used to compute any reliable oob estimates.\n",
      "  warn(\"Some inputs do not have OOB scores. \"\n",
      "[Parallel(n_jobs=8)]: Using backend ThreadingBackend with 8 concurrent workers.\n",
      "[Parallel(n_jobs=8)]: Done   6 out of  10 | elapsed:    0.0s remaining:    0.0s\n",
      "[Parallel(n_jobs=8)]: Done  10 out of  10 | elapsed:    0.0s finished\n",
      "[Parallel(n_jobs=8)]: Using backend ThreadingBackend with 8 concurrent workers.\n",
      "[Parallel(n_jobs=8)]: Done   6 out of  10 | elapsed:    0.0s remaining:    0.0s\n",
      "[Parallel(n_jobs=8)]: Done  10 out of  10 | elapsed:    0.0s finished\n"
     ]
    },
    {
     "name": "stdout",
     "output_type": "stream",
     "text": [
      "RF OOB score 0.88374 using 816,960 tree nodes 63.5 median tree height\n",
      "Validation R^2 0.80350, RMSLE 13.74878, MAE 7.72\n",
      "n_estimators=10, max_features=0.30000000000000004, min_samples_leaf=1\n"
     ]
    },
    {
     "name": "stderr",
     "output_type": "stream",
     "text": [
      "[Parallel(n_jobs=-1)]: Using backend ThreadingBackend with 8 concurrent workers.\n",
      "[Parallel(n_jobs=-1)]: Done   6 out of  10 | elapsed:    5.1s remaining:    3.4s\n",
      "[Parallel(n_jobs=-1)]: Done  10 out of  10 | elapsed:    7.6s finished\n",
      "C:\\Users\\dmmma\\Anaconda3\\lib\\site-packages\\sklearn\\ensemble\\forest.py:737: UserWarning: Some inputs do not have OOB scores. This probably means too few trees were used to compute any reliable oob estimates.\n",
      "  warn(\"Some inputs do not have OOB scores. \"\n",
      "[Parallel(n_jobs=8)]: Using backend ThreadingBackend with 8 concurrent workers.\n",
      "[Parallel(n_jobs=8)]: Done   6 out of  10 | elapsed:    0.0s remaining:    0.0s\n",
      "[Parallel(n_jobs=8)]: Done  10 out of  10 | elapsed:    0.0s finished\n",
      "[Parallel(n_jobs=8)]: Using backend ThreadingBackend with 8 concurrent workers.\n",
      "[Parallel(n_jobs=8)]: Done   6 out of  10 | elapsed:    0.0s remaining:    0.0s\n",
      "[Parallel(n_jobs=8)]: Done  10 out of  10 | elapsed:    0.0s finished\n"
     ]
    },
    {
     "name": "stdout",
     "output_type": "stream",
     "text": [
      "RF OOB score 0.88374 using 816,960 tree nodes 63.5 median tree height\n",
      "Validation R^2 0.80350, RMSLE 13.74878, MAE 7.72\n",
      "n_estimators=10, max_features=0.5000000000000001, min_samples_leaf=1\n"
     ]
    },
    {
     "name": "stderr",
     "output_type": "stream",
     "text": [
      "[Parallel(n_jobs=-1)]: Using backend ThreadingBackend with 8 concurrent workers.\n",
      "[Parallel(n_jobs=-1)]: Done   6 out of  10 | elapsed:    6.5s remaining:    4.3s\n",
      "[Parallel(n_jobs=-1)]: Done  10 out of  10 | elapsed:    9.8s finished\n",
      "C:\\Users\\dmmma\\Anaconda3\\lib\\site-packages\\sklearn\\ensemble\\forest.py:737: UserWarning: Some inputs do not have OOB scores. This probably means too few trees were used to compute any reliable oob estimates.\n",
      "  warn(\"Some inputs do not have OOB scores. \"\n",
      "[Parallel(n_jobs=8)]: Using backend ThreadingBackend with 8 concurrent workers.\n",
      "[Parallel(n_jobs=8)]: Done   6 out of  10 | elapsed:    0.0s remaining:    0.0s\n",
      "[Parallel(n_jobs=8)]: Done  10 out of  10 | elapsed:    0.0s finished\n"
     ]
    },
    {
     "name": "stdout",
     "output_type": "stream",
     "text": [
      "RF OOB score 0.88374 using 816,960 tree nodes 63.5 median tree height\n",
      "Validation R^2 0.80350, RMSLE 13.74878, MAE 7.72\n",
      "tuned_maxf =0.1\n"
     ]
    },
    {
     "name": "stderr",
     "output_type": "stream",
     "text": [
      "[Parallel(n_jobs=8)]: Using backend ThreadingBackend with 8 concurrent workers.\n",
      "[Parallel(n_jobs=8)]: Done   6 out of  10 | elapsed:    0.0s remaining:    0.0s\n",
      "[Parallel(n_jobs=8)]: Done  10 out of  10 | elapsed:    0.0s finished\n"
     ]
    }
   ],
   "source": [
    "tuned_maxf = tune_maxf(X, y, X_valid, y_valid, ntrees = 10, maxf_min = 0.1, maxf_max = 0.7, maxf_step = 0.2)"
   ]
  },
  {
   "cell_type": "code",
   "execution_count": 61,
   "metadata": {},
   "outputs": [],
   "source": [
    "\n",
    "def tune_minleaf(X, y, X_valid, y_valid, ntrees, maxf, minleaf_min, minleaf_max, minleaf_step = 1):\n",
    "\n",
    "    list_of_r2_valid = []\n",
    "    list_of_rmsle_valid = []\n",
    "    list_of_mae_valid = []\n",
    "    \n",
    "    list_of_minleaf = list(range(minleaf_min, minleaf_max, minleaf_step ))\n",
    "\n",
    "    for minleaf in range(minleaf_min, minleaf_max, minleaf_step ):\n",
    "       print(f\"n_estimators={ntrees}, max_features={maxf}, min_samples_leaf={minleaf}\")\n",
    "       make_model(X, y, X_valid, y_valid, n_estimators = ntrees, max_features = maxf, min_samples_leaf = minleaf, \n",
    "                  random_state = 42)\n",
    "    \n",
    "       y_pred,rmsle_valid,mae_valid,r2_score_valid, n, h, oob_valid = run_model(X_valid)\n",
    "        \n",
    "       list_of_r2_valid.append(r2_score_valid)\n",
    "       list_of_rmsle_valid.append(rmsle_valid)\n",
    "       list_of_mae_valid.append(mae_valid)\n",
    "    \n",
    "    \n",
    "    min1 = list_of_r2_valid.index(min(list_of_r2_valid))\n",
    "    min2 = list_of_rmsle_valid.index(min(list_of_rmsle_valid))\n",
    "    min3 = list_of_mae_valid.index(min(list_of_mae_valid ))\n",
    "                                    \n",
    "    tuned_minleaf = list_of_minleaf[min2]\n",
    "    \n",
    "    print(f\"tuned_minleaf ={tuned_minleaf}\")\n",
    "    \n",
    "    return tuned_minleaf"
   ]
  },
  {
   "cell_type": "code",
   "execution_count": 62,
   "metadata": {},
   "outputs": [
    {
     "name": "stdout",
     "output_type": "stream",
     "text": [
      "n_estimators=5, max_features=0.1, min_samples_leaf=1\n"
     ]
    },
    {
     "name": "stderr",
     "output_type": "stream",
     "text": [
      "[Parallel(n_jobs=-1)]: Using backend ThreadingBackend with 8 concurrent workers.\n",
      "[Parallel(n_jobs=-1)]: Done   2 out of   5 | elapsed:    2.1s remaining:    3.2s\n",
      "[Parallel(n_jobs=-1)]: Done   5 out of   5 | elapsed:    2.3s finished\n",
      "C:\\Users\\dmmma\\Anaconda3\\lib\\site-packages\\sklearn\\ensemble\\forest.py:737: UserWarning: Some inputs do not have OOB scores. This probably means too few trees were used to compute any reliable oob estimates.\n",
      "  warn(\"Some inputs do not have OOB scores. \"\n",
      "[Parallel(n_jobs=8)]: Using backend ThreadingBackend with 8 concurrent workers.\n",
      "[Parallel(n_jobs=8)]: Done   6 out of  10 | elapsed:    0.0s remaining:    0.0s\n",
      "[Parallel(n_jobs=8)]: Done  10 out of  10 | elapsed:    0.0s finished\n",
      "[Parallel(n_jobs=8)]: Using backend ThreadingBackend with 8 concurrent workers.\n",
      "[Parallel(n_jobs=8)]: Done   6 out of  10 | elapsed:    0.0s remaining:    0.0s\n",
      "[Parallel(n_jobs=8)]: Done  10 out of  10 | elapsed:    0.0s finished\n"
     ]
    },
    {
     "name": "stdout",
     "output_type": "stream",
     "text": [
      "RF OOB score 0.88374 using 816,960 tree nodes 63.5 median tree height\n",
      "Validation R^2 0.80350, RMSLE 13.74878, MAE 7.72\n",
      "n_estimators=5, max_features=0.1, min_samples_leaf=2\n"
     ]
    },
    {
     "name": "stderr",
     "output_type": "stream",
     "text": [
      "[Parallel(n_jobs=-1)]: Using backend ThreadingBackend with 8 concurrent workers.\n",
      "[Parallel(n_jobs=-1)]: Done   2 out of   5 | elapsed:    1.6s remaining:    2.5s\n",
      "[Parallel(n_jobs=-1)]: Done   5 out of   5 | elapsed:    1.9s finished\n",
      "C:\\Users\\dmmma\\Anaconda3\\lib\\site-packages\\sklearn\\ensemble\\forest.py:737: UserWarning: Some inputs do not have OOB scores. This probably means too few trees were used to compute any reliable oob estimates.\n",
      "  warn(\"Some inputs do not have OOB scores. \"\n",
      "[Parallel(n_jobs=8)]: Using backend ThreadingBackend with 8 concurrent workers.\n",
      "[Parallel(n_jobs=8)]: Done   6 out of  10 | elapsed:    0.0s remaining:    0.0s\n",
      "[Parallel(n_jobs=8)]: Done  10 out of  10 | elapsed:    0.0s finished\n",
      "[Parallel(n_jobs=8)]: Using backend ThreadingBackend with 8 concurrent workers.\n",
      "[Parallel(n_jobs=8)]: Done   6 out of  10 | elapsed:    0.0s remaining:    0.0s\n",
      "[Parallel(n_jobs=8)]: Done  10 out of  10 | elapsed:    0.0s finished\n"
     ]
    },
    {
     "name": "stdout",
     "output_type": "stream",
     "text": [
      "RF OOB score 0.88374 using 816,960 tree nodes 63.5 median tree height\n",
      "Validation R^2 0.80350, RMSLE 13.74878, MAE 7.72\n",
      "n_estimators=5, max_features=0.1, min_samples_leaf=3\n"
     ]
    },
    {
     "name": "stderr",
     "output_type": "stream",
     "text": [
      "[Parallel(n_jobs=-1)]: Using backend ThreadingBackend with 8 concurrent workers.\n",
      "[Parallel(n_jobs=-1)]: Done   2 out of   5 | elapsed:    1.4s remaining:    2.2s\n",
      "[Parallel(n_jobs=-1)]: Done   5 out of   5 | elapsed:    1.7s finished\n",
      "C:\\Users\\dmmma\\Anaconda3\\lib\\site-packages\\sklearn\\ensemble\\forest.py:737: UserWarning: Some inputs do not have OOB scores. This probably means too few trees were used to compute any reliable oob estimates.\n",
      "  warn(\"Some inputs do not have OOB scores. \"\n",
      "[Parallel(n_jobs=8)]: Using backend ThreadingBackend with 8 concurrent workers.\n",
      "[Parallel(n_jobs=8)]: Done   6 out of  10 | elapsed:    0.0s remaining:    0.0s\n",
      "[Parallel(n_jobs=8)]: Done  10 out of  10 | elapsed:    0.0s finished\n"
     ]
    },
    {
     "name": "stdout",
     "output_type": "stream",
     "text": [
      "RF OOB score 0.88374 using 816,960 tree nodes 63.5 median tree height\n",
      "Validation R^2 0.80350, RMSLE 13.74878, MAE 7.72\n",
      "tuned_minleaf =1\n"
     ]
    },
    {
     "name": "stderr",
     "output_type": "stream",
     "text": [
      "[Parallel(n_jobs=8)]: Using backend ThreadingBackend with 8 concurrent workers.\n",
      "[Parallel(n_jobs=8)]: Done   6 out of  10 | elapsed:    0.0s remaining:    0.0s\n",
      "[Parallel(n_jobs=8)]: Done  10 out of  10 | elapsed:    0.0s finished\n"
     ]
    }
   ],
   "source": [
    "tuned_minleaf = tune_minleaf(X, y, X_valid, y_valid, ntrees = 5, maxf = 0.1, minleaf_min = 1, minleaf_max = 4, minleaf_step = 1)"
   ]
  },
  {
   "cell_type": "markdown",
   "metadata": {},
   "source": [
    "### Fit model with selected hyperparameters\n"
   ]
  },
  {
   "cell_type": "code",
   "execution_count": 90,
   "metadata": {},
   "outputs": [],
   "source": [
    "\n",
    "def fit_tuned_rf(X, y, X_valid, y_valid, ntrees, random_state = 42):\n",
    "    \n",
    "    make_model(X, y, X_valid, y_valid, n_estimators = ntrees, \n",
    "                   max_features = tuned_maxf, min_samples_leaf = tuned_minleaf, \n",
    "                   random_state = 42)\n",
    "    \n",
    "    y_pred,rmsle_valid,mae_valid,r2_score_valid, n, h, oob_valid = run_model(X_valid)\n",
    "\n",
    "    total_len = y_pred.shape[0]\n",
    "    num_buildings = len(val_data['building_name'].unique())\n",
    "\n",
    "    #print(total_len)\n",
    "    #print(num_buildings)\n",
    "\n",
    "    y_pred = y_pred.reshape((num_buildings, total_len//num_buildings))\n",
    "    \n",
    "    return y_pred"
   ]
  },
  {
   "cell_type": "code",
   "execution_count": 91,
   "metadata": {},
   "outputs": [
    {
     "name": "stderr",
     "output_type": "stream",
     "text": [
      "[Parallel(n_jobs=-1)]: Using backend ThreadingBackend with 8 concurrent workers.\n",
      "[Parallel(n_jobs=-1)]: Done   6 out of  10 | elapsed:    3.1s remaining:    2.0s\n",
      "[Parallel(n_jobs=-1)]: Done  10 out of  10 | elapsed:    4.6s finished\n",
      "C:\\Users\\dmmma\\Anaconda3\\lib\\site-packages\\sklearn\\ensemble\\forest.py:737: UserWarning: Some inputs do not have OOB scores. This probably means too few trees were used to compute any reliable oob estimates.\n",
      "  warn(\"Some inputs do not have OOB scores. \"\n",
      "[Parallel(n_jobs=8)]: Using backend ThreadingBackend with 8 concurrent workers.\n",
      "[Parallel(n_jobs=8)]: Done   6 out of  10 | elapsed:    0.0s remaining:    0.0s\n",
      "[Parallel(n_jobs=8)]: Done  10 out of  10 | elapsed:    0.0s finished\n"
     ]
    },
    {
     "name": "stdout",
     "output_type": "stream",
     "text": [
      "RF OOB score 0.88374 using 816,960 tree nodes 63.5 median tree height\n",
      "Validation R^2 0.80350, RMSLE 13.74878, MAE 7.72\n",
      "166383\n",
      "19\n"
     ]
    },
    {
     "name": "stderr",
     "output_type": "stream",
     "text": [
      "[Parallel(n_jobs=8)]: Using backend ThreadingBackend with 8 concurrent workers.\n",
      "[Parallel(n_jobs=8)]: Done   6 out of  10 | elapsed:    0.0s remaining:    0.0s\n",
      "[Parallel(n_jobs=8)]: Done  10 out of  10 | elapsed:    0.0s finished\n"
     ]
    }
   ],
   "source": [
    "y_pred = fit_tuned_rf(X, y, X_valid, y_valid, ntrees = 10)"
   ]
  },
  {
   "cell_type": "code",
   "execution_count": 92,
   "metadata": {},
   "outputs": [
    {
     "data": {
      "text/plain": [
       "(19, 8757)"
      ]
     },
     "execution_count": 92,
     "metadata": {},
     "output_type": "execute_result"
    }
   ],
   "source": [
    "y_pred.shape"
   ]
  }
 ],
 "metadata": {
  "kernelspec": {
   "display_name": "Python 3",
   "language": "python",
   "name": "python3"
  },
  "language_info": {
   "codemirror_mode": {
    "name": "ipython",
    "version": 3
   },
   "file_extension": ".py",
   "mimetype": "text/x-python",
   "name": "python",
   "nbconvert_exporter": "python",
   "pygments_lexer": "ipython3",
   "version": "3.7.3"
  }
 },
 "nbformat": 4,
 "nbformat_minor": 2
}
