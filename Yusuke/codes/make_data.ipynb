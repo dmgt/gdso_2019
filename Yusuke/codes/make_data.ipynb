{
 "cells": [
  {
   "cell_type": "code",
   "execution_count": 1,
   "metadata": {},
   "outputs": [],
   "source": [
    "import pandas as pd\n",
    "import matplotlib.pyplot as plt\n",
    "import numpy as np\n",
    "import datetime\n",
    "import dateutil.parser"
   ]
  },
  {
   "cell_type": "code",
   "execution_count": null,
   "metadata": {},
   "outputs": [],
   "source": [
    "def make_dataset(elec_path, meta_path, weather_path, weather_file, industry):\n",
    "    '''\n",
    "    INPUT\n",
    "    elec_path: path to timeseries data of electricity meter (temp_open_utc_complete.csv)\n",
    "    meta: path to meta data table (meta_open.csv)\n",
    "    weather: path to weather data table (weatherX.csv)\n",
    "    weather_file: name of the weather file\n",
    "    industry: name of undustry to focus on\n",
    "    OUTPUT\n",
    "    A dataframe in which each record represents a building at a certain time\n",
    "    columns =[\n",
    "    building_name: name of the building from meta, str\n",
    "    month: one-hot encoded\n",
    "    day: from elec, int\n",
    "    day_of_the_week: one-hot encoded\n",
    "    hour: from elec, hour from weather is converted to the nearest :00, int\n",
    "    area: from meta, float\n",
    "    primary_space_usage: from meta (primaryspaceuse_abbrev), one-hot encoded\n",
    "    electricity: from elec\n",
    "    temperature: from weather\n",
    "    ]\n",
    "    ------------------------------------------------------------------------------------------------------------------------------------------\n",
    "    comment:\n",
    "    -humidity is sometimes missing in weather table\n",
    "    '''\n",
    "    #read tables\n",
    "    elec = pd.read_csv(elec_path)\n",
    "    meta = pd.read_csv(meta_path)\n",
    "    weather = pd.read_csv(weather_path)\n",
    "    #set 'uid' as index in meta\n",
    "    meta = meta.set_index('uid')\n",
    "    #parse date\n",
    "    weather['timestamp'] = weather['timestamp'].apply(dateutil.parser.parse)\n",
    "    elec['timestamp'] = elec['timestamp'].apply(dateutil.parser.parse)\n",
    "    #construct the dataframe to return\n",
    "    buildings = list(meta[(meta['newweatherfilename'] == 'weather1.csv') & (meta['industry']=='Education')].index) #name of the buildings\n",
    "    df = pd.DataFrame(columns={'building_name', 'timestamp', 'electricity', 'area', 'primary_space_usage'}) #empty dataframe with 3 columns\n",
    "    for building in buildings:\n",
    "        subdf = elec[['timestamp', building]]\n",
    "        subdf.columns = ['timestamp', 'electricity']\n",
    "        subdf['building_name'] = building\n",
    "        subdf['area'] = meta.loc[building, 'sqm']\n",
    "        subdf['primary_space_usage'] = meta.loc[building, 'primaryspaceuse_abbrev']\n",
    "        df = pd.concat([df, subdf], axis=0, ignore_index=True)\n",
    "    #df has 'building_name', timestamp, electricity meter, area, primary space usage\n",
    "    print('OK1')\n",
    "    weather['rounded_timestamp'] = weather['timestamp'].apply(cutoff_minute) #cutoff_minute is implemented separately\n",
    "    weather = weather.groupby('rounded_timestamp').first() #only the first observation in each hour is taken\n",
    "    weather = weather['TemperatureC'] #only need temperature column\n",
    "    print('OK2')\n",
    "    df['timestamp'] = df['timestamp'].apply(cutoff_minute)\n",
    "    df = df.join(weather, on='timestamp', how='inner', lsuffix='elec', rsuffix='weather') #join temperature data from weather table\n",
    "    df = ... #TODO convert primary_space_usage into one-hot encode\n",
    "    #df = add_month_day_hour(df) #TODO\n",
    "    #df = add_day_of_the_week(df) #TODO\n",
    "    return df.reset_index()"
   ]
  },
  {
   "cell_type": "code",
   "execution_count": null,
   "metadata": {},
   "outputs": [],
   "source": [
    "def cutoff_minute(dt):\n",
    "    '''\n",
    "    INPUT\n",
    "    a datetime object has year, month, day, hour, and minute\n",
    "    OUTPUT\n",
    "    a datetime object has year, month, day, and hour\n",
    "    '''\n",
    "    year = dt.year\n",
    "    month = dt.month\n",
    "    day = dt.day\n",
    "    hour = dt.hour\n",
    "    return datetime.datetime(year, month, day, hour)"
   ]
  }
 ],
 "metadata": {
  "kernelspec": {
   "display_name": "Python 3",
   "language": "python",
   "name": "python3"
  },
  "language_info": {
   "codemirror_mode": {
    "name": "ipython",
    "version": 3
   },
   "file_extension": ".py",
   "mimetype": "text/x-python",
   "name": "python",
   "nbconvert_exporter": "python",
   "pygments_lexer": "ipython3",
   "version": "3.6.8"
  }
 },
 "nbformat": 4,
 "nbformat_minor": 2
}
