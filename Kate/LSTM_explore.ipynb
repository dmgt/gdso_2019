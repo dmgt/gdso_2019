{
 "cells": [
  {
   "cell_type": "code",
   "execution_count": 1,
   "metadata": {},
   "outputs": [
    {
     "name": "stderr",
     "output_type": "stream",
     "text": [
      "/Users/kategroschner/anaconda/lib/python3.6/site-packages/h5py/__init__.py:36: FutureWarning: Conversion of the second argument of issubdtype from `float` to `np.floating` is deprecated. In future, it will be treated as `np.float64 == np.dtype(float).type`.\n",
      "  from ._conv import register_converters as _register_converters\n",
      "Using TensorFlow backend.\n"
     ]
    }
   ],
   "source": [
    "from keras.models import Sequential"
   ]
  },
  {
   "cell_type": "code",
   "execution_count": 2,
   "metadata": {},
   "outputs": [],
   "source": [
    "from keras.backend import tensorflow_backend as K"
   ]
  },
  {
   "cell_type": "code",
   "execution_count": 3,
   "metadata": {},
   "outputs": [],
   "source": [
    "model = Sequential()"
   ]
  },
  {
   "cell_type": "code",
   "execution_count": 34,
   "metadata": {},
   "outputs": [],
   "source": [
    "from keras.layers import LSTM, Dense, Conv1D"
   ]
  },
  {
   "cell_type": "code",
   "execution_count": 5,
   "metadata": {},
   "outputs": [],
   "source": [
    "import numpy as np\n",
    "import pandas as pd"
   ]
  },
  {
   "cell_type": "code",
   "execution_count": 7,
   "metadata": {},
   "outputs": [],
   "source": [
    "from sklearn.preprocessing import MinMaxScaler\n",
    "from sklearn.metrics import mean_squared_error"
   ]
  },
  {
   "cell_type": "code",
   "execution_count": 8,
   "metadata": {},
   "outputs": [],
   "source": [
    "df = pd.read_csv('/Users/kategroschner/Downloads/gdso/weather1_education_train.csv',parse_dates=True)"
   ]
  },
  {
   "cell_type": "code",
   "execution_count": 9,
   "metadata": {},
   "outputs": [],
   "source": [
    "test = pd.read_csv('/Users/kategroschner/Downloads/gdso/weather1_education_test.csv',parse_dates=True)"
   ]
  },
  {
   "cell_type": "code",
   "execution_count": 10,
   "metadata": {},
   "outputs": [],
   "source": [
    "test = test.set_index('timestamp')"
   ]
  },
  {
   "cell_type": "code",
   "execution_count": 11,
   "metadata": {},
   "outputs": [],
   "source": [
    "test = test.drop(columns=['Unnamed: 0'])"
   ]
  },
  {
   "cell_type": "code",
   "execution_count": 12,
   "metadata": {},
   "outputs": [],
   "source": [
    "df = df.set_index('timestamp')\n",
    "df = df.drop(columns=['Unnamed: 0'])"
   ]
  },
  {
   "cell_type": "code",
   "execution_count": 65,
   "metadata": {},
   "outputs": [],
   "source": [
    "a = test[test['building_name']=='PrimClass_Jacob']"
   ]
  },
  {
   "cell_type": "code",
   "execution_count": 67,
   "metadata": {},
   "outputs": [
    {
     "data": {
      "text/plain": [
       "(8757, 85)"
      ]
     },
     "execution_count": 67,
     "metadata": {},
     "output_type": "execute_result"
    }
   ],
   "source": [
    "a.shape"
   ]
  },
  {
   "cell_type": "code",
   "execution_count": 68,
   "metadata": {},
   "outputs": [],
   "source": [
    "b = test[test['building_name']=='PrimClass_Judith']"
   ]
  },
  {
   "cell_type": "code",
   "execution_count": 69,
   "metadata": {},
   "outputs": [
    {
     "data": {
      "text/plain": [
       "(8757, 85)"
      ]
     },
     "execution_count": 69,
     "metadata": {},
     "output_type": "execute_result"
    }
   ],
   "source": [
    "b.shape"
   ]
  },
  {
   "cell_type": "code",
   "execution_count": 82,
   "metadata": {},
   "outputs": [
    {
     "data": {
      "text/html": [
       "<div>\n",
       "<style scoped>\n",
       "    .dataframe tbody tr th:only-of-type {\n",
       "        vertical-align: middle;\n",
       "    }\n",
       "\n",
       "    .dataframe tbody tr th {\n",
       "        vertical-align: top;\n",
       "    }\n",
       "\n",
       "    .dataframe thead th {\n",
       "        text-align: right;\n",
       "    }\n",
       "</style>\n",
       "<table border=\"1\" class=\"dataframe\">\n",
       "  <thead>\n",
       "    <tr style=\"text-align: right;\">\n",
       "      <th></th>\n",
       "      <th>area</th>\n",
       "      <th>building_name</th>\n",
       "      <th>electricity</th>\n",
       "      <th>primary_space_usage</th>\n",
       "      <th>TemperatureC</th>\n",
       "      <th>month</th>\n",
       "      <th>year</th>\n",
       "      <th>date</th>\n",
       "      <th>hour</th>\n",
       "      <th>weekday</th>\n",
       "      <th>...</th>\n",
       "      <th>hour_22</th>\n",
       "      <th>hour_23</th>\n",
       "      <th>wkday_0</th>\n",
       "      <th>wkday_1</th>\n",
       "      <th>wkday_2</th>\n",
       "      <th>wkday_3</th>\n",
       "      <th>wkday_4</th>\n",
       "      <th>wkday_5</th>\n",
       "      <th>wkday_6</th>\n",
       "      <th>PSU_PrimClass</th>\n",
       "    </tr>\n",
       "    <tr>\n",
       "      <th>timestamp</th>\n",
       "      <th></th>\n",
       "      <th></th>\n",
       "      <th></th>\n",
       "      <th></th>\n",
       "      <th></th>\n",
       "      <th></th>\n",
       "      <th></th>\n",
       "      <th></th>\n",
       "      <th></th>\n",
       "      <th></th>\n",
       "      <th></th>\n",
       "      <th></th>\n",
       "      <th></th>\n",
       "      <th></th>\n",
       "      <th></th>\n",
       "      <th></th>\n",
       "      <th></th>\n",
       "      <th></th>\n",
       "      <th></th>\n",
       "      <th></th>\n",
       "      <th></th>\n",
       "    </tr>\n",
       "  </thead>\n",
       "  <tbody>\n",
       "    <tr>\n",
       "      <th>2014-12-01 00:00:00</th>\n",
       "      <td>6149.0</td>\n",
       "      <td>PrimClass_Jacob</td>\n",
       "      <td>34.900002</td>\n",
       "      <td>PrimClass</td>\n",
       "      <td>7.0</td>\n",
       "      <td>12</td>\n",
       "      <td>2014</td>\n",
       "      <td>1</td>\n",
       "      <td>0</td>\n",
       "      <td>0</td>\n",
       "      <td>...</td>\n",
       "      <td>0</td>\n",
       "      <td>0</td>\n",
       "      <td>1</td>\n",
       "      <td>0</td>\n",
       "      <td>0</td>\n",
       "      <td>0</td>\n",
       "      <td>0</td>\n",
       "      <td>0</td>\n",
       "      <td>0</td>\n",
       "      <td>1</td>\n",
       "    </tr>\n",
       "    <tr>\n",
       "      <th>2014-12-01 01:00:00</th>\n",
       "      <td>6149.0</td>\n",
       "      <td>PrimClass_Jacob</td>\n",
       "      <td>32.700000</td>\n",
       "      <td>PrimClass</td>\n",
       "      <td>5.0</td>\n",
       "      <td>12</td>\n",
       "      <td>2014</td>\n",
       "      <td>1</td>\n",
       "      <td>1</td>\n",
       "      <td>0</td>\n",
       "      <td>...</td>\n",
       "      <td>0</td>\n",
       "      <td>0</td>\n",
       "      <td>1</td>\n",
       "      <td>0</td>\n",
       "      <td>0</td>\n",
       "      <td>0</td>\n",
       "      <td>0</td>\n",
       "      <td>0</td>\n",
       "      <td>0</td>\n",
       "      <td>1</td>\n",
       "    </tr>\n",
       "    <tr>\n",
       "      <th>2014-12-01 02:00:00</th>\n",
       "      <td>6149.0</td>\n",
       "      <td>PrimClass_Jacob</td>\n",
       "      <td>32.200000</td>\n",
       "      <td>PrimClass</td>\n",
       "      <td>5.0</td>\n",
       "      <td>12</td>\n",
       "      <td>2014</td>\n",
       "      <td>1</td>\n",
       "      <td>2</td>\n",
       "      <td>0</td>\n",
       "      <td>...</td>\n",
       "      <td>0</td>\n",
       "      <td>0</td>\n",
       "      <td>1</td>\n",
       "      <td>0</td>\n",
       "      <td>0</td>\n",
       "      <td>0</td>\n",
       "      <td>0</td>\n",
       "      <td>0</td>\n",
       "      <td>0</td>\n",
       "      <td>1</td>\n",
       "    </tr>\n",
       "    <tr>\n",
       "      <th>2014-12-01 03:00:00</th>\n",
       "      <td>6149.0</td>\n",
       "      <td>PrimClass_Jacob</td>\n",
       "      <td>32.300000</td>\n",
       "      <td>PrimClass</td>\n",
       "      <td>6.0</td>\n",
       "      <td>12</td>\n",
       "      <td>2014</td>\n",
       "      <td>1</td>\n",
       "      <td>3</td>\n",
       "      <td>0</td>\n",
       "      <td>...</td>\n",
       "      <td>0</td>\n",
       "      <td>0</td>\n",
       "      <td>1</td>\n",
       "      <td>0</td>\n",
       "      <td>0</td>\n",
       "      <td>0</td>\n",
       "      <td>0</td>\n",
       "      <td>0</td>\n",
       "      <td>0</td>\n",
       "      <td>1</td>\n",
       "    </tr>\n",
       "    <tr>\n",
       "      <th>2014-12-01 04:00:00</th>\n",
       "      <td>6149.0</td>\n",
       "      <td>PrimClass_Jacob</td>\n",
       "      <td>32.599998</td>\n",
       "      <td>PrimClass</td>\n",
       "      <td>7.0</td>\n",
       "      <td>12</td>\n",
       "      <td>2014</td>\n",
       "      <td>1</td>\n",
       "      <td>4</td>\n",
       "      <td>0</td>\n",
       "      <td>...</td>\n",
       "      <td>0</td>\n",
       "      <td>0</td>\n",
       "      <td>1</td>\n",
       "      <td>0</td>\n",
       "      <td>0</td>\n",
       "      <td>0</td>\n",
       "      <td>0</td>\n",
       "      <td>0</td>\n",
       "      <td>0</td>\n",
       "      <td>1</td>\n",
       "    </tr>\n",
       "  </tbody>\n",
       "</table>\n",
       "<p>5 rows × 85 columns</p>\n",
       "</div>"
      ],
      "text/plain": [
       "                       area    building_name  electricity primary_space_usage  \\\n",
       "timestamp                                                                       \n",
       "2014-12-01 00:00:00  6149.0  PrimClass_Jacob    34.900002           PrimClass   \n",
       "2014-12-01 01:00:00  6149.0  PrimClass_Jacob    32.700000           PrimClass   \n",
       "2014-12-01 02:00:00  6149.0  PrimClass_Jacob    32.200000           PrimClass   \n",
       "2014-12-01 03:00:00  6149.0  PrimClass_Jacob    32.300000           PrimClass   \n",
       "2014-12-01 04:00:00  6149.0  PrimClass_Jacob    32.599998           PrimClass   \n",
       "\n",
       "                     TemperatureC  month  year  date  hour  weekday  \\\n",
       "timestamp                                                             \n",
       "2014-12-01 00:00:00           7.0     12  2014     1     0        0   \n",
       "2014-12-01 01:00:00           5.0     12  2014     1     1        0   \n",
       "2014-12-01 02:00:00           5.0     12  2014     1     2        0   \n",
       "2014-12-01 03:00:00           6.0     12  2014     1     3        0   \n",
       "2014-12-01 04:00:00           7.0     12  2014     1     4        0   \n",
       "\n",
       "                         ...        hour_22  hour_23  wkday_0  wkday_1  \\\n",
       "timestamp                ...                                             \n",
       "2014-12-01 00:00:00      ...              0        0        1        0   \n",
       "2014-12-01 01:00:00      ...              0        0        1        0   \n",
       "2014-12-01 02:00:00      ...              0        0        1        0   \n",
       "2014-12-01 03:00:00      ...              0        0        1        0   \n",
       "2014-12-01 04:00:00      ...              0        0        1        0   \n",
       "\n",
       "                     wkday_2  wkday_3  wkday_4  wkday_5  wkday_6  \\\n",
       "timestamp                                                          \n",
       "2014-12-01 00:00:00        0        0        0        0        0   \n",
       "2014-12-01 01:00:00        0        0        0        0        0   \n",
       "2014-12-01 02:00:00        0        0        0        0        0   \n",
       "2014-12-01 03:00:00        0        0        0        0        0   \n",
       "2014-12-01 04:00:00        0        0        0        0        0   \n",
       "\n",
       "                     PSU_PrimClass  \n",
       "timestamp                           \n",
       "2014-12-01 00:00:00              1  \n",
       "2014-12-01 01:00:00              1  \n",
       "2014-12-01 02:00:00              1  \n",
       "2014-12-01 03:00:00              1  \n",
       "2014-12-01 04:00:00              1  \n",
       "\n",
       "[5 rows x 85 columns]"
      ]
     },
     "execution_count": 82,
     "metadata": {},
     "output_type": "execute_result"
    }
   ],
   "source": [
    "test.head()"
   ]
  },
  {
   "cell_type": "code",
   "execution_count": null,
   "metadata": {},
   "outputs": [],
   "source": []
  },
  {
   "cell_type": "code",
   "execution_count": 85,
   "metadata": {},
   "outputs": [],
   "source": [
    "a = test.pivot_table(values=['electricity','TemperatureC'],index='building_name',columns=['electricity','TemperatureC'])"
   ]
  },
  {
   "cell_type": "code",
   "execution_count": 86,
   "metadata": {},
   "outputs": [
    {
     "data": {
      "text/html": [
       "<div>\n",
       "<style scoped>\n",
       "    .dataframe tbody tr th:only-of-type {\n",
       "        vertical-align: middle;\n",
       "    }\n",
       "\n",
       "    .dataframe tbody tr th {\n",
       "        vertical-align: top;\n",
       "    }\n",
       "\n",
       "    .dataframe thead th {\n",
       "        text-align: right;\n",
       "    }\n",
       "</style>\n",
       "<table border=\"1\" class=\"dataframe\">\n",
       "  <thead>\n",
       "    <tr style=\"text-align: right;\">\n",
       "      <th></th>\n",
       "      <th>TemperatureC</th>\n",
       "      <th>electricity</th>\n",
       "    </tr>\n",
       "    <tr>\n",
       "      <th>building_name</th>\n",
       "      <th></th>\n",
       "      <th></th>\n",
       "    </tr>\n",
       "  </thead>\n",
       "  <tbody>\n",
       "    <tr>\n",
       "      <th>PrimClass_Jacob</th>\n",
       "      <td>9.470367</td>\n",
       "      <td>46.930457</td>\n",
       "    </tr>\n",
       "    <tr>\n",
       "      <th>PrimClass_Jacquelyn</th>\n",
       "      <td>9.470367</td>\n",
       "      <td>8.891082</td>\n",
       "    </tr>\n",
       "    <tr>\n",
       "      <th>PrimClass_Jaden</th>\n",
       "      <td>9.470367</td>\n",
       "      <td>6.001276</td>\n",
       "    </tr>\n",
       "    <tr>\n",
       "      <th>PrimClass_Janie</th>\n",
       "      <td>9.470367</td>\n",
       "      <td>7.489041</td>\n",
       "    </tr>\n",
       "    <tr>\n",
       "      <th>PrimClass_Janis</th>\n",
       "      <td>9.470367</td>\n",
       "      <td>2.380223</td>\n",
       "    </tr>\n",
       "    <tr>\n",
       "      <th>PrimClass_Jasmine</th>\n",
       "      <td>9.470367</td>\n",
       "      <td>8.929486</td>\n",
       "    </tr>\n",
       "    <tr>\n",
       "      <th>PrimClass_Jayda</th>\n",
       "      <td>9.470367</td>\n",
       "      <td>10.955298</td>\n",
       "    </tr>\n",
       "    <tr>\n",
       "      <th>PrimClass_Jean</th>\n",
       "      <td>9.470367</td>\n",
       "      <td>9.945419</td>\n",
       "    </tr>\n",
       "    <tr>\n",
       "      <th>PrimClass_Jeff</th>\n",
       "      <td>9.470367</td>\n",
       "      <td>4.718552</td>\n",
       "    </tr>\n",
       "    <tr>\n",
       "      <th>PrimClass_Jeffery</th>\n",
       "      <td>9.470367</td>\n",
       "      <td>53.575029</td>\n",
       "    </tr>\n",
       "    <tr>\n",
       "      <th>PrimClass_Jermaine</th>\n",
       "      <td>9.470367</td>\n",
       "      <td>5.361767</td>\n",
       "    </tr>\n",
       "    <tr>\n",
       "      <th>PrimClass_Jesse</th>\n",
       "      <td>9.470367</td>\n",
       "      <td>6.809609</td>\n",
       "    </tr>\n",
       "    <tr>\n",
       "      <th>PrimClass_Jill</th>\n",
       "      <td>9.470367</td>\n",
       "      <td>9.806420</td>\n",
       "    </tr>\n",
       "    <tr>\n",
       "      <th>PrimClass_Jim</th>\n",
       "      <td>9.470367</td>\n",
       "      <td>4.472773</td>\n",
       "    </tr>\n",
       "    <tr>\n",
       "      <th>PrimClass_Joel</th>\n",
       "      <td>9.470367</td>\n",
       "      <td>7.373603</td>\n",
       "    </tr>\n",
       "    <tr>\n",
       "      <th>PrimClass_Johnathon</th>\n",
       "      <td>9.470367</td>\n",
       "      <td>16.692927</td>\n",
       "    </tr>\n",
       "    <tr>\n",
       "      <th>PrimClass_Johnnie</th>\n",
       "      <td>9.470367</td>\n",
       "      <td>12.852865</td>\n",
       "    </tr>\n",
       "    <tr>\n",
       "      <th>PrimClass_Jose</th>\n",
       "      <td>9.470367</td>\n",
       "      <td>3.838832</td>\n",
       "    </tr>\n",
       "    <tr>\n",
       "      <th>PrimClass_Judith</th>\n",
       "      <td>9.470367</td>\n",
       "      <td>4.619437</td>\n",
       "    </tr>\n",
       "  </tbody>\n",
       "</table>\n",
       "</div>"
      ],
      "text/plain": [
       "                     TemperatureC  electricity\n",
       "building_name                                 \n",
       "PrimClass_Jacob          9.470367    46.930457\n",
       "PrimClass_Jacquelyn      9.470367     8.891082\n",
       "PrimClass_Jaden          9.470367     6.001276\n",
       "PrimClass_Janie          9.470367     7.489041\n",
       "PrimClass_Janis          9.470367     2.380223\n",
       "PrimClass_Jasmine        9.470367     8.929486\n",
       "PrimClass_Jayda          9.470367    10.955298\n",
       "PrimClass_Jean           9.470367     9.945419\n",
       "PrimClass_Jeff           9.470367     4.718552\n",
       "PrimClass_Jeffery        9.470367    53.575029\n",
       "PrimClass_Jermaine       9.470367     5.361767\n",
       "PrimClass_Jesse          9.470367     6.809609\n",
       "PrimClass_Jill           9.470367     9.806420\n",
       "PrimClass_Jim            9.470367     4.472773\n",
       "PrimClass_Joel           9.470367     7.373603\n",
       "PrimClass_Johnathon      9.470367    16.692927\n",
       "PrimClass_Johnnie        9.470367    12.852865\n",
       "PrimClass_Jose           9.470367     3.838832\n",
       "PrimClass_Judith         9.470367     4.619437"
      ]
     },
     "execution_count": 86,
     "metadata": {},
     "output_type": "execute_result"
    }
   ],
   "source": [
    "a"
   ]
  },
  {
   "cell_type": "code",
   "execution_count": null,
   "metadata": {},
   "outputs": [],
   "source": []
  },
  {
   "cell_type": "code",
   "execution_count": 64,
   "metadata": {},
   "outputs": [
    {
     "data": {
      "text/html": [
       "<div>\n",
       "<style scoped>\n",
       "    .dataframe tbody tr th:only-of-type {\n",
       "        vertical-align: middle;\n",
       "    }\n",
       "\n",
       "    .dataframe tbody tr th {\n",
       "        vertical-align: top;\n",
       "    }\n",
       "\n",
       "    .dataframe thead th {\n",
       "        text-align: right;\n",
       "    }\n",
       "</style>\n",
       "<table border=\"1\" class=\"dataframe\">\n",
       "  <thead>\n",
       "    <tr style=\"text-align: right;\">\n",
       "      <th></th>\n",
       "      <th>area</th>\n",
       "      <th>building_name</th>\n",
       "      <th>electricity</th>\n",
       "      <th>primary_space_usage</th>\n",
       "      <th>TemperatureC</th>\n",
       "      <th>month</th>\n",
       "      <th>year</th>\n",
       "      <th>date</th>\n",
       "      <th>hour</th>\n",
       "      <th>weekday</th>\n",
       "      <th>...</th>\n",
       "      <th>hour_23</th>\n",
       "      <th>wkday_0</th>\n",
       "      <th>wkday_1</th>\n",
       "      <th>wkday_2</th>\n",
       "      <th>wkday_3</th>\n",
       "      <th>wkday_4</th>\n",
       "      <th>wkday_5</th>\n",
       "      <th>wkday_6</th>\n",
       "      <th>PSU_PrimClass</th>\n",
       "      <th>PSU_UnivClass</th>\n",
       "    </tr>\n",
       "    <tr>\n",
       "      <th>timestamp</th>\n",
       "      <th></th>\n",
       "      <th></th>\n",
       "      <th></th>\n",
       "      <th></th>\n",
       "      <th></th>\n",
       "      <th></th>\n",
       "      <th></th>\n",
       "      <th></th>\n",
       "      <th></th>\n",
       "      <th></th>\n",
       "      <th></th>\n",
       "      <th></th>\n",
       "      <th></th>\n",
       "      <th></th>\n",
       "      <th></th>\n",
       "      <th></th>\n",
       "      <th></th>\n",
       "      <th></th>\n",
       "      <th></th>\n",
       "      <th></th>\n",
       "      <th></th>\n",
       "    </tr>\n",
       "  </thead>\n",
       "  <tbody>\n",
       "    <tr>\n",
       "      <th>2014-12-01 00:00:00</th>\n",
       "      <td>2777.0</td>\n",
       "      <td>PrimClass_Jacqueline</td>\n",
       "      <td>5.0</td>\n",
       "      <td>PrimClass</td>\n",
       "      <td>7.0</td>\n",
       "      <td>12</td>\n",
       "      <td>2014</td>\n",
       "      <td>1</td>\n",
       "      <td>0</td>\n",
       "      <td>0</td>\n",
       "      <td>...</td>\n",
       "      <td>0</td>\n",
       "      <td>1</td>\n",
       "      <td>0</td>\n",
       "      <td>0</td>\n",
       "      <td>0</td>\n",
       "      <td>0</td>\n",
       "      <td>0</td>\n",
       "      <td>0</td>\n",
       "      <td>1</td>\n",
       "      <td>0</td>\n",
       "    </tr>\n",
       "    <tr>\n",
       "      <th>2014-12-01 01:00:00</th>\n",
       "      <td>2777.0</td>\n",
       "      <td>PrimClass_Jacqueline</td>\n",
       "      <td>5.2</td>\n",
       "      <td>PrimClass</td>\n",
       "      <td>5.0</td>\n",
       "      <td>12</td>\n",
       "      <td>2014</td>\n",
       "      <td>1</td>\n",
       "      <td>1</td>\n",
       "      <td>0</td>\n",
       "      <td>...</td>\n",
       "      <td>0</td>\n",
       "      <td>1</td>\n",
       "      <td>0</td>\n",
       "      <td>0</td>\n",
       "      <td>0</td>\n",
       "      <td>0</td>\n",
       "      <td>0</td>\n",
       "      <td>0</td>\n",
       "      <td>1</td>\n",
       "      <td>0</td>\n",
       "    </tr>\n",
       "    <tr>\n",
       "      <th>2014-12-01 02:00:00</th>\n",
       "      <td>2777.0</td>\n",
       "      <td>PrimClass_Jacqueline</td>\n",
       "      <td>5.2</td>\n",
       "      <td>PrimClass</td>\n",
       "      <td>5.0</td>\n",
       "      <td>12</td>\n",
       "      <td>2014</td>\n",
       "      <td>1</td>\n",
       "      <td>2</td>\n",
       "      <td>0</td>\n",
       "      <td>...</td>\n",
       "      <td>0</td>\n",
       "      <td>1</td>\n",
       "      <td>0</td>\n",
       "      <td>0</td>\n",
       "      <td>0</td>\n",
       "      <td>0</td>\n",
       "      <td>0</td>\n",
       "      <td>0</td>\n",
       "      <td>1</td>\n",
       "      <td>0</td>\n",
       "    </tr>\n",
       "    <tr>\n",
       "      <th>2014-12-01 03:00:00</th>\n",
       "      <td>2777.0</td>\n",
       "      <td>PrimClass_Jacqueline</td>\n",
       "      <td>5.5</td>\n",
       "      <td>PrimClass</td>\n",
       "      <td>6.0</td>\n",
       "      <td>12</td>\n",
       "      <td>2014</td>\n",
       "      <td>1</td>\n",
       "      <td>3</td>\n",
       "      <td>0</td>\n",
       "      <td>...</td>\n",
       "      <td>0</td>\n",
       "      <td>1</td>\n",
       "      <td>0</td>\n",
       "      <td>0</td>\n",
       "      <td>0</td>\n",
       "      <td>0</td>\n",
       "      <td>0</td>\n",
       "      <td>0</td>\n",
       "      <td>1</td>\n",
       "      <td>0</td>\n",
       "    </tr>\n",
       "    <tr>\n",
       "      <th>2014-12-01 04:00:00</th>\n",
       "      <td>2777.0</td>\n",
       "      <td>PrimClass_Jacqueline</td>\n",
       "      <td>6.0</td>\n",
       "      <td>PrimClass</td>\n",
       "      <td>7.0</td>\n",
       "      <td>12</td>\n",
       "      <td>2014</td>\n",
       "      <td>1</td>\n",
       "      <td>4</td>\n",
       "      <td>0</td>\n",
       "      <td>...</td>\n",
       "      <td>0</td>\n",
       "      <td>1</td>\n",
       "      <td>0</td>\n",
       "      <td>0</td>\n",
       "      <td>0</td>\n",
       "      <td>0</td>\n",
       "      <td>0</td>\n",
       "      <td>0</td>\n",
       "      <td>1</td>\n",
       "      <td>0</td>\n",
       "    </tr>\n",
       "  </tbody>\n",
       "</table>\n",
       "<p>5 rows × 86 columns</p>\n",
       "</div>"
      ],
      "text/plain": [
       "                       area         building_name  electricity  \\\n",
       "timestamp                                                        \n",
       "2014-12-01 00:00:00  2777.0  PrimClass_Jacqueline          5.0   \n",
       "2014-12-01 01:00:00  2777.0  PrimClass_Jacqueline          5.2   \n",
       "2014-12-01 02:00:00  2777.0  PrimClass_Jacqueline          5.2   \n",
       "2014-12-01 03:00:00  2777.0  PrimClass_Jacqueline          5.5   \n",
       "2014-12-01 04:00:00  2777.0  PrimClass_Jacqueline          6.0   \n",
       "\n",
       "                    primary_space_usage  TemperatureC  month  year  date  \\\n",
       "timestamp                                                                  \n",
       "2014-12-01 00:00:00           PrimClass           7.0     12  2014     1   \n",
       "2014-12-01 01:00:00           PrimClass           5.0     12  2014     1   \n",
       "2014-12-01 02:00:00           PrimClass           5.0     12  2014     1   \n",
       "2014-12-01 03:00:00           PrimClass           6.0     12  2014     1   \n",
       "2014-12-01 04:00:00           PrimClass           7.0     12  2014     1   \n",
       "\n",
       "                     hour  weekday      ...        hour_23  wkday_0  wkday_1  \\\n",
       "timestamp                               ...                                    \n",
       "2014-12-01 00:00:00     0        0      ...              0        1        0   \n",
       "2014-12-01 01:00:00     1        0      ...              0        1        0   \n",
       "2014-12-01 02:00:00     2        0      ...              0        1        0   \n",
       "2014-12-01 03:00:00     3        0      ...              0        1        0   \n",
       "2014-12-01 04:00:00     4        0      ...              0        1        0   \n",
       "\n",
       "                     wkday_2  wkday_3  wkday_4  wkday_5  wkday_6  \\\n",
       "timestamp                                                          \n",
       "2014-12-01 00:00:00        0        0        0        0        0   \n",
       "2014-12-01 01:00:00        0        0        0        0        0   \n",
       "2014-12-01 02:00:00        0        0        0        0        0   \n",
       "2014-12-01 03:00:00        0        0        0        0        0   \n",
       "2014-12-01 04:00:00        0        0        0        0        0   \n",
       "\n",
       "                     PSU_PrimClass  PSU_UnivClass  \n",
       "timestamp                                          \n",
       "2014-12-01 00:00:00              1              0  \n",
       "2014-12-01 01:00:00              1              0  \n",
       "2014-12-01 02:00:00              1              0  \n",
       "2014-12-01 03:00:00              1              0  \n",
       "2014-12-01 04:00:00              1              0  \n",
       "\n",
       "[5 rows x 86 columns]"
      ]
     },
     "execution_count": 64,
     "metadata": {},
     "output_type": "execute_result"
    }
   ],
   "source": [
    "df.head()"
   ]
  },
  {
   "cell_type": "code",
   "execution_count": 13,
   "metadata": {},
   "outputs": [],
   "source": [
    "def monthsplit(df,months,lastidx):\n",
    "    X = []\n",
    "    Y = []\n",
    "    for n in df['building_name'].drop_duplicates():\n",
    "        X_n = []\n",
    "        Y_n = []\n",
    "        subset = df[df['building_name']==n]\n",
    "        for row in subset.iterrows():\n",
    "            row = np.array(row[-1])\n",
    "            if row[5] in months:\n",
    "                r = np.concatenate((row[0:1],row[2:3],row[4:lastidx]))\n",
    "                X_n.append(r)\n",
    "            else:\n",
    "                Y_n.append(row[2])\n",
    "        X.append(X_n)\n",
    "        Y.append(Y_n)\n",
    "    X = np.array(X)\n",
    "    Y = np.array(Y)\n",
    "    return X,Y"
   ]
  },
  {
   "cell_type": "code",
   "execution_count": 61,
   "metadata": {},
   "outputs": [],
   "source": [
    "def monthsplit_norm(df,months,lastidx):\n",
    "    X = []\n",
    "    Y = []\n",
    "    for n in df['building_name'].drop_duplicates():\n",
    "        X_n = []\n",
    "        Y_n = []\n",
    "        subset = df[df['building_name']==n]\n",
    "        for row in subset.iterrows():\n",
    "            row = np.array(row[-1])\n",
    "            if row[5] in months:\n",
    "                r = []\n",
    "                for idx in np.arange(0,lastidx):\n",
    "                    if idx == 1 or idx == 3:\n",
    "                        pass\n",
    "                    else:\n",
    "                        r.append(row[idx:idx+1]/max(row[idx]))\n",
    "                X_n.append(r)\n",
    "            else:\n",
    "                Y_n.append(row[2]/max(row[2]))\n",
    "        X.append(X_n)\n",
    "        Y.append(Y_n)\n",
    "    X = np.array(X)\n",
    "    Y = np.array(Y)\n",
    "    return X,Y"
   ]
  },
  {
   "cell_type": "code",
   "execution_count": 62,
   "metadata": {},
   "outputs": [
    {
     "ename": "TypeError",
     "evalue": "'float' object is not iterable",
     "output_type": "error",
     "traceback": [
      "\u001b[0;31m---------------------------------------------------------------------------\u001b[0m",
      "\u001b[0;31mTypeError\u001b[0m                                 Traceback (most recent call last)",
      "\u001b[0;32m<ipython-input-62-74c0c8145527>\u001b[0m in \u001b[0;36m<module>\u001b[0;34m()\u001b[0m\n\u001b[0;32m----> 1\u001b[0;31m \u001b[0mtestX_norm\u001b[0m\u001b[0;34m,\u001b[0m \u001b[0mtestY_norm\u001b[0m \u001b[0;34m=\u001b[0m \u001b[0mmonthsplit_norm\u001b[0m\u001b[0;34m(\u001b[0m\u001b[0mtest\u001b[0m\u001b[0;34m,\u001b[0m\u001b[0;34m[\u001b[0m\u001b[0;36m12\u001b[0m\u001b[0;34m,\u001b[0m\u001b[0;36m1\u001b[0m\u001b[0;34m,\u001b[0m\u001b[0;36m2\u001b[0m\u001b[0;34m]\u001b[0m\u001b[0;34m,\u001b[0m\u001b[0;36m85\u001b[0m\u001b[0;34m)\u001b[0m\u001b[0;34m\u001b[0m\u001b[0;34m\u001b[0m\u001b[0m\n\u001b[0m",
      "\u001b[0;32m<ipython-input-61-ea4f2f08c528>\u001b[0m in \u001b[0;36mmonthsplit_norm\u001b[0;34m(df, months, lastidx)\u001b[0m\n\u001b[1;32m     14\u001b[0m                         \u001b[0;32mpass\u001b[0m\u001b[0;34m\u001b[0m\u001b[0;34m\u001b[0m\u001b[0m\n\u001b[1;32m     15\u001b[0m                     \u001b[0;32melse\u001b[0m\u001b[0;34m:\u001b[0m\u001b[0;34m\u001b[0m\u001b[0;34m\u001b[0m\u001b[0m\n\u001b[0;32m---> 16\u001b[0;31m                         \u001b[0mr\u001b[0m\u001b[0;34m.\u001b[0m\u001b[0mappend\u001b[0m\u001b[0;34m(\u001b[0m\u001b[0mrow\u001b[0m\u001b[0;34m[\u001b[0m\u001b[0midx\u001b[0m\u001b[0;34m:\u001b[0m\u001b[0midx\u001b[0m\u001b[0;34m+\u001b[0m\u001b[0;36m1\u001b[0m\u001b[0;34m]\u001b[0m\u001b[0;34m/\u001b[0m\u001b[0mmax\u001b[0m\u001b[0;34m(\u001b[0m\u001b[0mrow\u001b[0m\u001b[0;34m[\u001b[0m\u001b[0midx\u001b[0m\u001b[0;34m]\u001b[0m\u001b[0;34m)\u001b[0m\u001b[0;34m)\u001b[0m\u001b[0;34m\u001b[0m\u001b[0;34m\u001b[0m\u001b[0m\n\u001b[0m\u001b[1;32m     17\u001b[0m                 \u001b[0mX_n\u001b[0m\u001b[0;34m.\u001b[0m\u001b[0mappend\u001b[0m\u001b[0;34m(\u001b[0m\u001b[0mr\u001b[0m\u001b[0;34m)\u001b[0m\u001b[0;34m\u001b[0m\u001b[0;34m\u001b[0m\u001b[0m\n\u001b[1;32m     18\u001b[0m             \u001b[0;32melse\u001b[0m\u001b[0;34m:\u001b[0m\u001b[0;34m\u001b[0m\u001b[0;34m\u001b[0m\u001b[0m\n",
      "\u001b[0;31mTypeError\u001b[0m: 'float' object is not iterable"
     ]
    }
   ],
   "source": [
    "testX_norm, testY_norm = monthsplit_norm(test,[12,1,2],85)"
   ]
  },
  {
   "cell_type": "code",
   "execution_count": 22,
   "metadata": {},
   "outputs": [
    {
     "data": {
      "text/plain": [
       "(19, 2159, 83)"
      ]
     },
     "execution_count": 22,
     "metadata": {},
     "output_type": "execute_result"
    }
   ],
   "source": [
    "testX.shape"
   ]
  },
  {
   "cell_type": "code",
   "execution_count": 23,
   "metadata": {},
   "outputs": [
    {
     "data": {
      "text/plain": [
       "(19, 6598)"
      ]
     },
     "execution_count": 23,
     "metadata": {},
     "output_type": "execute_result"
    }
   ],
   "source": [
    "testY.shape"
   ]
  },
  {
   "cell_type": "code",
   "execution_count": 17,
   "metadata": {
    "scrolled": true
   },
   "outputs": [],
   "source": [
    "trainX, trainY = monthsplit(df,[12,1,2],-1)"
   ]
  },
  {
   "cell_type": "code",
   "execution_count": 18,
   "metadata": {},
   "outputs": [
    {
     "data": {
      "text/plain": [
       "(50, 2159, 83)"
      ]
     },
     "execution_count": 18,
     "metadata": {},
     "output_type": "execute_result"
    }
   ],
   "source": [
    "trainX.shape"
   ]
  },
  {
   "cell_type": "code",
   "execution_count": null,
   "metadata": {},
   "outputs": [],
   "source": []
  },
  {
   "cell_type": "code",
   "execution_count": 19,
   "metadata": {},
   "outputs": [
    {
     "name": "stdout",
     "output_type": "stream",
     "text": [
      "Epoch 1/5\n",
      " - 76s - loss: 1384.7237\n",
      "Epoch 2/5\n",
      " - 75s - loss: 1302.9605\n",
      "Epoch 3/5\n",
      " - 74s - loss: 1228.9113\n",
      "Epoch 4/5\n",
      " - 76s - loss: 1164.5497\n",
      "Epoch 5/5\n",
      " - 76s - loss: 1113.0580\n"
     ]
    },
    {
     "data": {
      "text/plain": [
       "<keras.callbacks.History at 0x12e61f978>"
      ]
     },
     "execution_count": 19,
     "metadata": {},
     "output_type": "execute_result"
    }
   ],
   "source": [
    "model = Sequential()\n",
    "model.add(LSTM(256, input_shape=(2159,83)))\n",
    "model.add(Dense(6598))\n",
    "model.compile(loss='mean_squared_error', optimizer='adam')\n",
    "model.fit(trainX, trainY, epochs=5, batch_size=1, verbose=2)"
   ]
  },
  {
   "cell_type": "code",
   "execution_count": 24,
   "metadata": {},
   "outputs": [],
   "source": [
    "pred = model.predict(testX)"
   ]
  },
  {
   "cell_type": "code",
   "execution_count": 25,
   "metadata": {},
   "outputs": [
    {
     "data": {
      "text/plain": [
       "299.892491052195"
      ]
     },
     "execution_count": 25,
     "metadata": {},
     "output_type": "execute_result"
    }
   ],
   "source": [
    "mean_squared_error(testY,pred)"
   ]
  },
  {
   "cell_type": "code",
   "execution_count": 26,
   "metadata": {},
   "outputs": [],
   "source": [
    "import matplotlib.pyplot as plt"
   ]
  },
  {
   "cell_type": "code",
   "execution_count": 27,
   "metadata": {},
   "outputs": [
    {
     "data": {
      "text/plain": [
       "(19, 6598)"
      ]
     },
     "execution_count": 27,
     "metadata": {},
     "output_type": "execute_result"
    }
   ],
   "source": [
    "pred.shape"
   ]
  },
  {
   "cell_type": "code",
   "execution_count": 29,
   "metadata": {},
   "outputs": [
    {
     "data": {
      "text/plain": [
       "[<matplotlib.lines.Line2D at 0x12f1d0e10>]"
      ]
     },
     "execution_count": 29,
     "metadata": {},
     "output_type": "execute_result"
    },
    {
     "data": {
      "image/png": "[encoded data removed]",
      "text/plain": [
       "<Figure size 432x288 with 1 Axes>"
      ]
     },
     "metadata": {},
     "output_type": "display_data"
    }
   ],
   "source": [
    "plt.plot(pred[0])\n",
    "plt.plot(testY[0])"
   ]
  },
  {
   "cell_type": "code",
   "execution_count": 32,
   "metadata": {},
   "outputs": [
    {
     "data": {
      "text/plain": [
       "[<matplotlib.lines.Line2D at 0x12f44a1d0>]"
      ]
     },
     "execution_count": 32,
     "metadata": {},
     "output_type": "execute_result"
    },
    {
     "data": {
      "image/png": "[encoded data removed]",
      "text/plain": [
       "<Figure size 432x288 with 1 Axes>"
      ]
     },
     "metadata": {},
     "output_type": "display_data"
    }
   ],
   "source": [
    "plt.plot(pred[10])\n",
    "plt.plot(testY[10],alpha = 70)"
   ]
  },
  {
   "cell_type": "code",
   "execution_count": 39,
   "metadata": {},
   "outputs": [
    {
     "name": "stdout",
     "output_type": "stream",
     "text": [
      "Epoch 1/5\n",
      " - 125s - loss: 1341.8336\n",
      "Epoch 2/5\n",
      " - 136s - loss: 1188.2768\n",
      "Epoch 3/5\n",
      " - 133s - loss: 1087.9817\n",
      "Epoch 4/5\n",
      " - 129s - loss: 1021.7195\n",
      "Epoch 5/5\n",
      " - 127s - loss: 967.1714\n"
     ]
    },
    {
     "data": {
      "text/plain": [
       "<keras.callbacks.History at 0x14a542f60>"
      ]
     },
     "execution_count": 39,
     "metadata": {},
     "output_type": "execute_result"
    }
   ],
   "source": [
    "model2 = Sequential()\n",
    "model2.add(LSTM(128,return_sequences=True, input_shape=(2159,83)))\n",
    "model2.add(LSTM(128))\n",
    "model2.add(Dense(6598))\n",
    "model2.compile(loss='mean_squared_error', optimizer='adam')\n",
    "model2.fit(trainX, trainY, epochs=5, batch_size=1, verbose=2)"
   ]
  },
  {
   "cell_type": "code",
   "execution_count": 41,
   "metadata": {},
   "outputs": [],
   "source": [
    "pred2 = model2.predict(testX)"
   ]
  },
  {
   "cell_type": "code",
   "execution_count": 46,
   "metadata": {},
   "outputs": [
    {
     "data": {
      "text/plain": [
       "281.6630873717253"
      ]
     },
     "execution_count": 46,
     "metadata": {},
     "output_type": "execute_result"
    }
   ],
   "source": [
    "mean_squared_error(testY,pred2)"
   ]
  },
  {
   "cell_type": "code",
   "execution_count": 44,
   "metadata": {},
   "outputs": [
    {
     "data": {
      "text/plain": [
       "<matplotlib.legend.Legend at 0x12fc1e048>"
      ]
     },
     "execution_count": 44,
     "metadata": {},
     "output_type": "execute_result"
    },
    {
     "data": {
      "image/png": "[encoded data removed]",
      "text/plain": [
       "<Figure size 432x288 with 1 Axes>"
      ]
     },
     "metadata": {},
     "output_type": "display_data"
    }
   ],
   "source": [
    "plt.plot(pred2[10])\n",
    "plt.plot(testY[10],alpha = 70)\n",
    "plt.legend(['predicted','true'])"
   ]
  },
  {
   "cell_type": "code",
   "execution_count": 45,
   "metadata": {},
   "outputs": [
    {
     "data": {
      "text/plain": [
       "<matplotlib.legend.Legend at 0x153a02518>"
      ]
     },
     "execution_count": 45,
     "metadata": {},
     "output_type": "execute_result"
    },
    {
     "data": {
      "image/png": "[encoded data removed]",
      "text/plain": [
       "<Figure size 432x288 with 1 Axes>"
      ]
     },
     "metadata": {},
     "output_type": "display_data"
    }
   ],
   "source": [
    "plt.plot(pred2[0])\n",
    "plt.plot(testY[0],alpha = 70)\n",
    "plt.legend(['predicted','true'])"
   ]
  },
  {
   "cell_type": "code",
   "execution_count": 49,
   "metadata": {},
   "outputs": [
    {
     "data": {
      "text/plain": [
       "(50, 2159, 83)"
      ]
     },
     "execution_count": 49,
     "metadata": {},
     "output_type": "execute_result"
    }
   ],
   "source": [
    "trainX.shape"
   ]
  },
  {
   "cell_type": "code",
   "execution_count": 48,
   "metadata": {
    "scrolled": true
   },
   "outputs": [
    {
     "ename": "ValueError",
     "evalue": "Found array with dim 3. MinMaxScaler expected <= 2.",
     "output_type": "error",
     "traceback": [
      "\u001b[0;31m---------------------------------------------------------------------------\u001b[0m",
      "\u001b[0;31mValueError\u001b[0m                                Traceback (most recent call last)",
      "\u001b[0;32m<ipython-input-48-39cbd1258c4f>\u001b[0m in \u001b[0;36m<module>\u001b[0;34m()\u001b[0m\n\u001b[0;32m----> 1\u001b[0;31m \u001b[0mtrainX_norm\u001b[0m \u001b[0;34m=\u001b[0m \u001b[0mMinMaxScaler\u001b[0m\u001b[0;34m(\u001b[0m\u001b[0;34m)\u001b[0m\u001b[0;34m.\u001b[0m\u001b[0mfit_transform\u001b[0m\u001b[0;34m(\u001b[0m\u001b[0mtrainX\u001b[0m\u001b[0;34m)\u001b[0m\u001b[0;34m\u001b[0m\u001b[0;34m\u001b[0m\u001b[0m\n\u001b[0m",
      "\u001b[0;32m~/anaconda/lib/python3.6/site-packages/sklearn/base.py\u001b[0m in \u001b[0;36mfit_transform\u001b[0;34m(self, X, y, **fit_params)\u001b[0m\n\u001b[1;32m    515\u001b[0m         \u001b[0;32mif\u001b[0m \u001b[0my\u001b[0m \u001b[0;32mis\u001b[0m \u001b[0;32mNone\u001b[0m\u001b[0;34m:\u001b[0m\u001b[0;34m\u001b[0m\u001b[0;34m\u001b[0m\u001b[0m\n\u001b[1;32m    516\u001b[0m             \u001b[0;31m# fit method of arity 1 (unsupervised transformation)\u001b[0m\u001b[0;34m\u001b[0m\u001b[0;34m\u001b[0m\u001b[0;34m\u001b[0m\u001b[0m\n\u001b[0;32m--> 517\u001b[0;31m             \u001b[0;32mreturn\u001b[0m \u001b[0mself\u001b[0m\u001b[0;34m.\u001b[0m\u001b[0mfit\u001b[0m\u001b[0;34m(\u001b[0m\u001b[0mX\u001b[0m\u001b[0;34m,\u001b[0m \u001b[0;34m**\u001b[0m\u001b[0mfit_params\u001b[0m\u001b[0;34m)\u001b[0m\u001b[0;34m.\u001b[0m\u001b[0mtransform\u001b[0m\u001b[0;34m(\u001b[0m\u001b[0mX\u001b[0m\u001b[0;34m)\u001b[0m\u001b[0;34m\u001b[0m\u001b[0;34m\u001b[0m\u001b[0m\n\u001b[0m\u001b[1;32m    518\u001b[0m         \u001b[0;32melse\u001b[0m\u001b[0;34m:\u001b[0m\u001b[0;34m\u001b[0m\u001b[0;34m\u001b[0m\u001b[0m\n\u001b[1;32m    519\u001b[0m             \u001b[0;31m# fit method of arity 2 (supervised transformation)\u001b[0m\u001b[0;34m\u001b[0m\u001b[0;34m\u001b[0m\u001b[0;34m\u001b[0m\u001b[0m\n",
      "\u001b[0;32m~/anaconda/lib/python3.6/site-packages/sklearn/preprocessing/data.py\u001b[0m in \u001b[0;36mfit\u001b[0;34m(self, X, y)\u001b[0m\n\u001b[1;32m    306\u001b[0m         \u001b[0;31m# Reset internal state before fitting\u001b[0m\u001b[0;34m\u001b[0m\u001b[0;34m\u001b[0m\u001b[0;34m\u001b[0m\u001b[0m\n\u001b[1;32m    307\u001b[0m         \u001b[0mself\u001b[0m\u001b[0;34m.\u001b[0m\u001b[0m_reset\u001b[0m\u001b[0;34m(\u001b[0m\u001b[0;34m)\u001b[0m\u001b[0;34m\u001b[0m\u001b[0;34m\u001b[0m\u001b[0m\n\u001b[0;32m--> 308\u001b[0;31m         \u001b[0;32mreturn\u001b[0m \u001b[0mself\u001b[0m\u001b[0;34m.\u001b[0m\u001b[0mpartial_fit\u001b[0m\u001b[0;34m(\u001b[0m\u001b[0mX\u001b[0m\u001b[0;34m,\u001b[0m \u001b[0my\u001b[0m\u001b[0;34m)\u001b[0m\u001b[0;34m\u001b[0m\u001b[0;34m\u001b[0m\u001b[0m\n\u001b[0m\u001b[1;32m    309\u001b[0m \u001b[0;34m\u001b[0m\u001b[0m\n\u001b[1;32m    310\u001b[0m     \u001b[0;32mdef\u001b[0m \u001b[0mpartial_fit\u001b[0m\u001b[0;34m(\u001b[0m\u001b[0mself\u001b[0m\u001b[0;34m,\u001b[0m \u001b[0mX\u001b[0m\u001b[0;34m,\u001b[0m \u001b[0my\u001b[0m\u001b[0;34m=\u001b[0m\u001b[0;32mNone\u001b[0m\u001b[0;34m)\u001b[0m\u001b[0;34m:\u001b[0m\u001b[0;34m\u001b[0m\u001b[0;34m\u001b[0m\u001b[0m\n",
      "\u001b[0;32m~/anaconda/lib/python3.6/site-packages/sklearn/preprocessing/data.py\u001b[0m in \u001b[0;36mpartial_fit\u001b[0;34m(self, X, y)\u001b[0m\n\u001b[1;32m    332\u001b[0m \u001b[0;34m\u001b[0m\u001b[0m\n\u001b[1;32m    333\u001b[0m         X = check_array(X, copy=self.copy, warn_on_dtype=True,\n\u001b[0;32m--> 334\u001b[0;31m                         estimator=self, dtype=FLOAT_DTYPES)\n\u001b[0m\u001b[1;32m    335\u001b[0m \u001b[0;34m\u001b[0m\u001b[0m\n\u001b[1;32m    336\u001b[0m         \u001b[0mdata_min\u001b[0m \u001b[0;34m=\u001b[0m \u001b[0mnp\u001b[0m\u001b[0;34m.\u001b[0m\u001b[0mmin\u001b[0m\u001b[0;34m(\u001b[0m\u001b[0mX\u001b[0m\u001b[0;34m,\u001b[0m \u001b[0maxis\u001b[0m\u001b[0;34m=\u001b[0m\u001b[0;36m0\u001b[0m\u001b[0;34m)\u001b[0m\u001b[0;34m\u001b[0m\u001b[0;34m\u001b[0m\u001b[0m\n",
      "\u001b[0;32m~/anaconda/lib/python3.6/site-packages/sklearn/utils/validation.py\u001b[0m in \u001b[0;36mcheck_array\u001b[0;34m(array, accept_sparse, dtype, order, copy, force_all_finite, ensure_2d, allow_nd, ensure_min_samples, ensure_min_features, warn_on_dtype, estimator)\u001b[0m\n\u001b[1;32m    449\u001b[0m         \u001b[0;32mif\u001b[0m \u001b[0;32mnot\u001b[0m \u001b[0mallow_nd\u001b[0m \u001b[0;32mand\u001b[0m \u001b[0marray\u001b[0m\u001b[0;34m.\u001b[0m\u001b[0mndim\u001b[0m \u001b[0;34m>=\u001b[0m \u001b[0;36m3\u001b[0m\u001b[0;34m:\u001b[0m\u001b[0;34m\u001b[0m\u001b[0;34m\u001b[0m\u001b[0m\n\u001b[1;32m    450\u001b[0m             raise ValueError(\"Found array with dim %d. %s expected <= 2.\"\n\u001b[0;32m--> 451\u001b[0;31m                              % (array.ndim, estimator_name))\n\u001b[0m\u001b[1;32m    452\u001b[0m         \u001b[0;32mif\u001b[0m \u001b[0mforce_all_finite\u001b[0m\u001b[0;34m:\u001b[0m\u001b[0;34m\u001b[0m\u001b[0;34m\u001b[0m\u001b[0m\n\u001b[1;32m    453\u001b[0m             \u001b[0m_assert_all_finite\u001b[0m\u001b[0;34m(\u001b[0m\u001b[0marray\u001b[0m\u001b[0;34m)\u001b[0m\u001b[0;34m\u001b[0m\u001b[0;34m\u001b[0m\u001b[0m\n",
      "\u001b[0;31mValueError\u001b[0m: Found array with dim 3. MinMaxScaler expected <= 2."
     ]
    }
   ],
   "source": [
    "trainX_norm = MinMaxScaler().fit_transform(trainX)"
   ]
  },
  {
   "cell_type": "code",
   "execution_count": null,
   "metadata": {},
   "outputs": [],
   "source": [
    "def monthsplit2(df,months,lastidx):\n",
    "    X = []\n",
    "    Y = []\n",
    "    for m in np.arange(0,12):\n",
    "        input_time = \n",
    "        for n in df['building_name'].drop_duplicates():\n",
    "            X_n = []\n",
    "            Y_n = []\n",
    "            subset = df[df['building_name']==n]\n",
    "            for row in subset.iterrows():\n",
    "                row = np.array(row[-1])\n",
    "                if row[5] in months:\n",
    "                    r = np.concatenate((row[0:1],row[2:3],row[4:lastidx]))\n",
    "                    X_n.append(r)\n",
    "                else:\n",
    "                    Y_n.append(row[2])\n",
    "            X.append(X_n)\n",
    "            Y.append(Y_n)\n",
    "    X = np.array(X)\n",
    "    Y = np.array(Y)\n",
    "    return X,Y"
   ]
  },
  {
   "cell_type": "code",
   "execution_count": 74,
   "metadata": {},
   "outputs": [],
   "source": [
    "meta = pd.read_csv('/Users/kategroschner/Desktop/the-building-data-genome-project-master/data/raw/meta_open.csv')"
   ]
  },
  {
   "cell_type": "code",
   "execution_count": 77,
   "metadata": {},
   "outputs": [],
   "source": [
    "elec = pd.read_csv('/Users/kategroschner/Desktop/the-building-data-genome-project-master/data/processed/temp_open_utc_complete.csv')"
   ]
  },
  {
   "cell_type": "code",
   "execution_count": 76,
   "metadata": {},
   "outputs": [],
   "source": [
    "weather_file = 'weather1.csv'"
   ]
  },
  {
   "cell_type": "code",
   "execution_count": 90,
   "metadata": {},
   "outputs": [],
   "source": [
    "a = test.reset_index()"
   ]
  },
  {
   "cell_type": "code",
   "execution_count": 91,
   "metadata": {},
   "outputs": [],
   "source": [
    "a = a.set_index(['building_name','timestamp']).unstack(1)"
   ]
  },
  {
   "cell_type": "code",
   "execution_count": 92,
   "metadata": {},
   "outputs": [
    {
     "data": {
      "text/html": [
       "<div>\n",
       "<style scoped>\n",
       "    .dataframe tbody tr th:only-of-type {\n",
       "        vertical-align: middle;\n",
       "    }\n",
       "\n",
       "    .dataframe tbody tr th {\n",
       "        vertical-align: top;\n",
       "    }\n",
       "\n",
       "    .dataframe thead tr th {\n",
       "        text-align: left;\n",
       "    }\n",
       "\n",
       "    .dataframe thead tr:last-of-type th {\n",
       "        text-align: right;\n",
       "    }\n",
       "</style>\n",
       "<table border=\"1\" class=\"dataframe\">\n",
       "  <thead>\n",
       "    <tr>\n",
       "      <th></th>\n",
       "      <th colspan=\"10\" halign=\"left\">area</th>\n",
       "      <th>...</th>\n",
       "      <th colspan=\"10\" halign=\"left\">PSU_PrimClass</th>\n",
       "    </tr>\n",
       "    <tr>\n",
       "      <th>timestamp</th>\n",
       "      <th>2014-12-01 00:00:00</th>\n",
       "      <th>2014-12-01 01:00:00</th>\n",
       "      <th>2014-12-01 02:00:00</th>\n",
       "      <th>2014-12-01 03:00:00</th>\n",
       "      <th>2014-12-01 04:00:00</th>\n",
       "      <th>2014-12-01 05:00:00</th>\n",
       "      <th>2014-12-01 06:00:00</th>\n",
       "      <th>2014-12-01 07:00:00</th>\n",
       "      <th>2014-12-01 08:00:00</th>\n",
       "      <th>2014-12-01 09:00:00</th>\n",
       "      <th>...</th>\n",
       "      <th>2015-11-30 14:00:00</th>\n",
       "      <th>2015-11-30 15:00:00</th>\n",
       "      <th>2015-11-30 16:00:00</th>\n",
       "      <th>2015-11-30 17:00:00</th>\n",
       "      <th>2015-11-30 18:00:00</th>\n",
       "      <th>2015-11-30 19:00:00</th>\n",
       "      <th>2015-11-30 20:00:00</th>\n",
       "      <th>2015-11-30 21:00:00</th>\n",
       "      <th>2015-11-30 22:00:00</th>\n",
       "      <th>2015-11-30 23:00:00</th>\n",
       "    </tr>\n",
       "    <tr>\n",
       "      <th>building_name</th>\n",
       "      <th></th>\n",
       "      <th></th>\n",
       "      <th></th>\n",
       "      <th></th>\n",
       "      <th></th>\n",
       "      <th></th>\n",
       "      <th></th>\n",
       "      <th></th>\n",
       "      <th></th>\n",
       "      <th></th>\n",
       "      <th></th>\n",
       "      <th></th>\n",
       "      <th></th>\n",
       "      <th></th>\n",
       "      <th></th>\n",
       "      <th></th>\n",
       "      <th></th>\n",
       "      <th></th>\n",
       "      <th></th>\n",
       "      <th></th>\n",
       "      <th></th>\n",
       "    </tr>\n",
       "  </thead>\n",
       "  <tbody>\n",
       "    <tr>\n",
       "      <th>PrimClass_Jacob</th>\n",
       "      <td>6149.0</td>\n",
       "      <td>6149.0</td>\n",
       "      <td>6149.0</td>\n",
       "      <td>6149.0</td>\n",
       "      <td>6149.0</td>\n",
       "      <td>6149.0</td>\n",
       "      <td>6149.0</td>\n",
       "      <td>6149.0</td>\n",
       "      <td>6149.0</td>\n",
       "      <td>6149.0</td>\n",
       "      <td>...</td>\n",
       "      <td>1</td>\n",
       "      <td>1</td>\n",
       "      <td>1</td>\n",
       "      <td>1</td>\n",
       "      <td>1</td>\n",
       "      <td>1</td>\n",
       "      <td>1</td>\n",
       "      <td>1</td>\n",
       "      <td>1</td>\n",
       "      <td>1</td>\n",
       "    </tr>\n",
       "    <tr>\n",
       "      <th>PrimClass_Jacquelyn</th>\n",
       "      <td>1597.0</td>\n",
       "      <td>1597.0</td>\n",
       "      <td>1597.0</td>\n",
       "      <td>1597.0</td>\n",
       "      <td>1597.0</td>\n",
       "      <td>1597.0</td>\n",
       "      <td>1597.0</td>\n",
       "      <td>1597.0</td>\n",
       "      <td>1597.0</td>\n",
       "      <td>1597.0</td>\n",
       "      <td>...</td>\n",
       "      <td>1</td>\n",
       "      <td>1</td>\n",
       "      <td>1</td>\n",
       "      <td>1</td>\n",
       "      <td>1</td>\n",
       "      <td>1</td>\n",
       "      <td>1</td>\n",
       "      <td>1</td>\n",
       "      <td>1</td>\n",
       "      <td>1</td>\n",
       "    </tr>\n",
       "    <tr>\n",
       "      <th>PrimClass_Jaden</th>\n",
       "      <td>2572.0</td>\n",
       "      <td>2572.0</td>\n",
       "      <td>2572.0</td>\n",
       "      <td>2572.0</td>\n",
       "      <td>2572.0</td>\n",
       "      <td>2572.0</td>\n",
       "      <td>2572.0</td>\n",
       "      <td>2572.0</td>\n",
       "      <td>2572.0</td>\n",
       "      <td>2572.0</td>\n",
       "      <td>...</td>\n",
       "      <td>1</td>\n",
       "      <td>1</td>\n",
       "      <td>1</td>\n",
       "      <td>1</td>\n",
       "      <td>1</td>\n",
       "      <td>1</td>\n",
       "      <td>1</td>\n",
       "      <td>1</td>\n",
       "      <td>1</td>\n",
       "      <td>1</td>\n",
       "    </tr>\n",
       "    <tr>\n",
       "      <th>PrimClass_Janie</th>\n",
       "      <td>1691.0</td>\n",
       "      <td>1691.0</td>\n",
       "      <td>1691.0</td>\n",
       "      <td>1691.0</td>\n",
       "      <td>1691.0</td>\n",
       "      <td>1691.0</td>\n",
       "      <td>1691.0</td>\n",
       "      <td>1691.0</td>\n",
       "      <td>1691.0</td>\n",
       "      <td>1691.0</td>\n",
       "      <td>...</td>\n",
       "      <td>1</td>\n",
       "      <td>1</td>\n",
       "      <td>1</td>\n",
       "      <td>1</td>\n",
       "      <td>1</td>\n",
       "      <td>1</td>\n",
       "      <td>1</td>\n",
       "      <td>1</td>\n",
       "      <td>1</td>\n",
       "      <td>1</td>\n",
       "    </tr>\n",
       "    <tr>\n",
       "      <th>PrimClass_Janis</th>\n",
       "      <td>736.0</td>\n",
       "      <td>736.0</td>\n",
       "      <td>736.0</td>\n",
       "      <td>736.0</td>\n",
       "      <td>736.0</td>\n",
       "      <td>736.0</td>\n",
       "      <td>736.0</td>\n",
       "      <td>736.0</td>\n",
       "      <td>736.0</td>\n",
       "      <td>736.0</td>\n",
       "      <td>...</td>\n",
       "      <td>1</td>\n",
       "      <td>1</td>\n",
       "      <td>1</td>\n",
       "      <td>1</td>\n",
       "      <td>1</td>\n",
       "      <td>1</td>\n",
       "      <td>1</td>\n",
       "      <td>1</td>\n",
       "      <td>1</td>\n",
       "      <td>1</td>\n",
       "    </tr>\n",
       "    <tr>\n",
       "      <th>PrimClass_Jasmine</th>\n",
       "      <td>2555.0</td>\n",
       "      <td>2555.0</td>\n",
       "      <td>2555.0</td>\n",
       "      <td>2555.0</td>\n",
       "      <td>2555.0</td>\n",
       "      <td>2555.0</td>\n",
       "      <td>2555.0</td>\n",
       "      <td>2555.0</td>\n",
       "      <td>2555.0</td>\n",
       "      <td>2555.0</td>\n",
       "      <td>...</td>\n",
       "      <td>1</td>\n",
       "      <td>1</td>\n",
       "      <td>1</td>\n",
       "      <td>1</td>\n",
       "      <td>1</td>\n",
       "      <td>1</td>\n",
       "      <td>1</td>\n",
       "      <td>1</td>\n",
       "      <td>1</td>\n",
       "      <td>1</td>\n",
       "    </tr>\n",
       "    <tr>\n",
       "      <th>PrimClass_Jayda</th>\n",
       "      <td>2215.0</td>\n",
       "      <td>2215.0</td>\n",
       "      <td>2215.0</td>\n",
       "      <td>2215.0</td>\n",
       "      <td>2215.0</td>\n",
       "      <td>2215.0</td>\n",
       "      <td>2215.0</td>\n",
       "      <td>2215.0</td>\n",
       "      <td>2215.0</td>\n",
       "      <td>2215.0</td>\n",
       "      <td>...</td>\n",
       "      <td>1</td>\n",
       "      <td>1</td>\n",
       "      <td>1</td>\n",
       "      <td>1</td>\n",
       "      <td>1</td>\n",
       "      <td>1</td>\n",
       "      <td>1</td>\n",
       "      <td>1</td>\n",
       "      <td>1</td>\n",
       "      <td>1</td>\n",
       "    </tr>\n",
       "    <tr>\n",
       "      <th>PrimClass_Jean</th>\n",
       "      <td>2678.0</td>\n",
       "      <td>2678.0</td>\n",
       "      <td>2678.0</td>\n",
       "      <td>2678.0</td>\n",
       "      <td>2678.0</td>\n",
       "      <td>2678.0</td>\n",
       "      <td>2678.0</td>\n",
       "      <td>2678.0</td>\n",
       "      <td>2678.0</td>\n",
       "      <td>2678.0</td>\n",
       "      <td>...</td>\n",
       "      <td>1</td>\n",
       "      <td>1</td>\n",
       "      <td>1</td>\n",
       "      <td>1</td>\n",
       "      <td>1</td>\n",
       "      <td>1</td>\n",
       "      <td>1</td>\n",
       "      <td>1</td>\n",
       "      <td>1</td>\n",
       "      <td>1</td>\n",
       "    </tr>\n",
       "    <tr>\n",
       "      <th>PrimClass_Jeff</th>\n",
       "      <td>1086.0</td>\n",
       "      <td>1086.0</td>\n",
       "      <td>1086.0</td>\n",
       "      <td>1086.0</td>\n",
       "      <td>1086.0</td>\n",
       "      <td>1086.0</td>\n",
       "      <td>1086.0</td>\n",
       "      <td>1086.0</td>\n",
       "      <td>1086.0</td>\n",
       "      <td>1086.0</td>\n",
       "      <td>...</td>\n",
       "      <td>1</td>\n",
       "      <td>1</td>\n",
       "      <td>1</td>\n",
       "      <td>1</td>\n",
       "      <td>1</td>\n",
       "      <td>1</td>\n",
       "      <td>1</td>\n",
       "      <td>1</td>\n",
       "      <td>1</td>\n",
       "      <td>1</td>\n",
       "    </tr>\n",
       "    <tr>\n",
       "      <th>PrimClass_Jeffery</th>\n",
       "      <td>11201.0</td>\n",
       "      <td>11201.0</td>\n",
       "      <td>11201.0</td>\n",
       "      <td>11201.0</td>\n",
       "      <td>11201.0</td>\n",
       "      <td>11201.0</td>\n",
       "      <td>11201.0</td>\n",
       "      <td>11201.0</td>\n",
       "      <td>11201.0</td>\n",
       "      <td>11201.0</td>\n",
       "      <td>...</td>\n",
       "      <td>1</td>\n",
       "      <td>1</td>\n",
       "      <td>1</td>\n",
       "      <td>1</td>\n",
       "      <td>1</td>\n",
       "      <td>1</td>\n",
       "      <td>1</td>\n",
       "      <td>1</td>\n",
       "      <td>1</td>\n",
       "      <td>1</td>\n",
       "    </tr>\n",
       "    <tr>\n",
       "      <th>PrimClass_Jermaine</th>\n",
       "      <td>2154.0</td>\n",
       "      <td>2154.0</td>\n",
       "      <td>2154.0</td>\n",
       "      <td>2154.0</td>\n",
       "      <td>2154.0</td>\n",
       "      <td>2154.0</td>\n",
       "      <td>2154.0</td>\n",
       "      <td>2154.0</td>\n",
       "      <td>2154.0</td>\n",
       "      <td>2154.0</td>\n",
       "      <td>...</td>\n",
       "      <td>1</td>\n",
       "      <td>1</td>\n",
       "      <td>1</td>\n",
       "      <td>1</td>\n",
       "      <td>1</td>\n",
       "      <td>1</td>\n",
       "      <td>1</td>\n",
       "      <td>1</td>\n",
       "      <td>1</td>\n",
       "      <td>1</td>\n",
       "    </tr>\n",
       "    <tr>\n",
       "      <th>PrimClass_Jesse</th>\n",
       "      <td>1468.0</td>\n",
       "      <td>1468.0</td>\n",
       "      <td>1468.0</td>\n",
       "      <td>1468.0</td>\n",
       "      <td>1468.0</td>\n",
       "      <td>1468.0</td>\n",
       "      <td>1468.0</td>\n",
       "      <td>1468.0</td>\n",
       "      <td>1468.0</td>\n",
       "      <td>1468.0</td>\n",
       "      <td>...</td>\n",
       "      <td>1</td>\n",
       "      <td>1</td>\n",
       "      <td>1</td>\n",
       "      <td>1</td>\n",
       "      <td>1</td>\n",
       "      <td>1</td>\n",
       "      <td>1</td>\n",
       "      <td>1</td>\n",
       "      <td>1</td>\n",
       "      <td>1</td>\n",
       "    </tr>\n",
       "    <tr>\n",
       "      <th>PrimClass_Jill</th>\n",
       "      <td>2238.0</td>\n",
       "      <td>2238.0</td>\n",
       "      <td>2238.0</td>\n",
       "      <td>2238.0</td>\n",
       "      <td>2238.0</td>\n",
       "      <td>2238.0</td>\n",
       "      <td>2238.0</td>\n",
       "      <td>2238.0</td>\n",
       "      <td>2238.0</td>\n",
       "      <td>2238.0</td>\n",
       "      <td>...</td>\n",
       "      <td>1</td>\n",
       "      <td>1</td>\n",
       "      <td>1</td>\n",
       "      <td>1</td>\n",
       "      <td>1</td>\n",
       "      <td>1</td>\n",
       "      <td>1</td>\n",
       "      <td>1</td>\n",
       "      <td>1</td>\n",
       "      <td>1</td>\n",
       "    </tr>\n",
       "    <tr>\n",
       "      <th>PrimClass_Jim</th>\n",
       "      <td>1014.0</td>\n",
       "      <td>1014.0</td>\n",
       "      <td>1014.0</td>\n",
       "      <td>1014.0</td>\n",
       "      <td>1014.0</td>\n",
       "      <td>1014.0</td>\n",
       "      <td>1014.0</td>\n",
       "      <td>1014.0</td>\n",
       "      <td>1014.0</td>\n",
       "      <td>1014.0</td>\n",
       "      <td>...</td>\n",
       "      <td>1</td>\n",
       "      <td>1</td>\n",
       "      <td>1</td>\n",
       "      <td>1</td>\n",
       "      <td>1</td>\n",
       "      <td>1</td>\n",
       "      <td>1</td>\n",
       "      <td>1</td>\n",
       "      <td>1</td>\n",
       "      <td>1</td>\n",
       "    </tr>\n",
       "    <tr>\n",
       "      <th>PrimClass_Joel</th>\n",
       "      <td>1295.0</td>\n",
       "      <td>1295.0</td>\n",
       "      <td>1295.0</td>\n",
       "      <td>1295.0</td>\n",
       "      <td>1295.0</td>\n",
       "      <td>1295.0</td>\n",
       "      <td>1295.0</td>\n",
       "      <td>1295.0</td>\n",
       "      <td>1295.0</td>\n",
       "      <td>1295.0</td>\n",
       "      <td>...</td>\n",
       "      <td>1</td>\n",
       "      <td>1</td>\n",
       "      <td>1</td>\n",
       "      <td>1</td>\n",
       "      <td>1</td>\n",
       "      <td>1</td>\n",
       "      <td>1</td>\n",
       "      <td>1</td>\n",
       "      <td>1</td>\n",
       "      <td>1</td>\n",
       "    </tr>\n",
       "    <tr>\n",
       "      <th>PrimClass_Johnathon</th>\n",
       "      <td>2253.0</td>\n",
       "      <td>2253.0</td>\n",
       "      <td>2253.0</td>\n",
       "      <td>2253.0</td>\n",
       "      <td>2253.0</td>\n",
       "      <td>2253.0</td>\n",
       "      <td>2253.0</td>\n",
       "      <td>2253.0</td>\n",
       "      <td>2253.0</td>\n",
       "      <td>2253.0</td>\n",
       "      <td>...</td>\n",
       "      <td>1</td>\n",
       "      <td>1</td>\n",
       "      <td>1</td>\n",
       "      <td>1</td>\n",
       "      <td>1</td>\n",
       "      <td>1</td>\n",
       "      <td>1</td>\n",
       "      <td>1</td>\n",
       "      <td>1</td>\n",
       "      <td>1</td>\n",
       "    </tr>\n",
       "    <tr>\n",
       "      <th>PrimClass_Johnnie</th>\n",
       "      <td>1769.0</td>\n",
       "      <td>1769.0</td>\n",
       "      <td>1769.0</td>\n",
       "      <td>1769.0</td>\n",
       "      <td>1769.0</td>\n",
       "      <td>1769.0</td>\n",
       "      <td>1769.0</td>\n",
       "      <td>1769.0</td>\n",
       "      <td>1769.0</td>\n",
       "      <td>1769.0</td>\n",
       "      <td>...</td>\n",
       "      <td>1</td>\n",
       "      <td>1</td>\n",
       "      <td>1</td>\n",
       "      <td>1</td>\n",
       "      <td>1</td>\n",
       "      <td>1</td>\n",
       "      <td>1</td>\n",
       "      <td>1</td>\n",
       "      <td>1</td>\n",
       "      <td>1</td>\n",
       "    </tr>\n",
       "    <tr>\n",
       "      <th>PrimClass_Jose</th>\n",
       "      <td>1123.0</td>\n",
       "      <td>1123.0</td>\n",
       "      <td>1123.0</td>\n",
       "      <td>1123.0</td>\n",
       "      <td>1123.0</td>\n",
       "      <td>1123.0</td>\n",
       "      <td>1123.0</td>\n",
       "      <td>1123.0</td>\n",
       "      <td>1123.0</td>\n",
       "      <td>1123.0</td>\n",
       "      <td>...</td>\n",
       "      <td>1</td>\n",
       "      <td>1</td>\n",
       "      <td>1</td>\n",
       "      <td>1</td>\n",
       "      <td>1</td>\n",
       "      <td>1</td>\n",
       "      <td>1</td>\n",
       "      <td>1</td>\n",
       "      <td>1</td>\n",
       "      <td>1</td>\n",
       "    </tr>\n",
       "    <tr>\n",
       "      <th>PrimClass_Judith</th>\n",
       "      <td>1205.0</td>\n",
       "      <td>1205.0</td>\n",
       "      <td>1205.0</td>\n",
       "      <td>1205.0</td>\n",
       "      <td>1205.0</td>\n",
       "      <td>1205.0</td>\n",
       "      <td>1205.0</td>\n",
       "      <td>1205.0</td>\n",
       "      <td>1205.0</td>\n",
       "      <td>1205.0</td>\n",
       "      <td>...</td>\n",
       "      <td>1</td>\n",
       "      <td>1</td>\n",
       "      <td>1</td>\n",
       "      <td>1</td>\n",
       "      <td>1</td>\n",
       "      <td>1</td>\n",
       "      <td>1</td>\n",
       "      <td>1</td>\n",
       "      <td>1</td>\n",
       "      <td>1</td>\n",
       "    </tr>\n",
       "  </tbody>\n",
       "</table>\n",
       "<p>19 rows × 735588 columns</p>\n",
       "</div>"
      ],
      "text/plain": [
       "                                   area                      \\\n",
       "timestamp           2014-12-01 00:00:00 2014-12-01 01:00:00   \n",
       "building_name                                                 \n",
       "PrimClass_Jacob                  6149.0              6149.0   \n",
       "PrimClass_Jacquelyn              1597.0              1597.0   \n",
       "PrimClass_Jaden                  2572.0              2572.0   \n",
       "PrimClass_Janie                  1691.0              1691.0   \n",
       "PrimClass_Janis                   736.0               736.0   \n",
       "PrimClass_Jasmine                2555.0              2555.0   \n",
       "PrimClass_Jayda                  2215.0              2215.0   \n",
       "PrimClass_Jean                   2678.0              2678.0   \n",
       "PrimClass_Jeff                   1086.0              1086.0   \n",
       "PrimClass_Jeffery               11201.0             11201.0   \n",
       "PrimClass_Jermaine               2154.0              2154.0   \n",
       "PrimClass_Jesse                  1468.0              1468.0   \n",
       "PrimClass_Jill                   2238.0              2238.0   \n",
       "PrimClass_Jim                    1014.0              1014.0   \n",
       "PrimClass_Joel                   1295.0              1295.0   \n",
       "PrimClass_Johnathon              2253.0              2253.0   \n",
       "PrimClass_Johnnie                1769.0              1769.0   \n",
       "PrimClass_Jose                   1123.0              1123.0   \n",
       "PrimClass_Judith                 1205.0              1205.0   \n",
       "\n",
       "                                                             \\\n",
       "timestamp           2014-12-01 02:00:00 2014-12-01 03:00:00   \n",
       "building_name                                                 \n",
       "PrimClass_Jacob                  6149.0              6149.0   \n",
       "PrimClass_Jacquelyn              1597.0              1597.0   \n",
       "PrimClass_Jaden                  2572.0              2572.0   \n",
       "PrimClass_Janie                  1691.0              1691.0   \n",
       "PrimClass_Janis                   736.0               736.0   \n",
       "PrimClass_Jasmine                2555.0              2555.0   \n",
       "PrimClass_Jayda                  2215.0              2215.0   \n",
       "PrimClass_Jean                   2678.0              2678.0   \n",
       "PrimClass_Jeff                   1086.0              1086.0   \n",
       "PrimClass_Jeffery               11201.0             11201.0   \n",
       "PrimClass_Jermaine               2154.0              2154.0   \n",
       "PrimClass_Jesse                  1468.0              1468.0   \n",
       "PrimClass_Jill                   2238.0              2238.0   \n",
       "PrimClass_Jim                    1014.0              1014.0   \n",
       "PrimClass_Joel                   1295.0              1295.0   \n",
       "PrimClass_Johnathon              2253.0              2253.0   \n",
       "PrimClass_Johnnie                1769.0              1769.0   \n",
       "PrimClass_Jose                   1123.0              1123.0   \n",
       "PrimClass_Judith                 1205.0              1205.0   \n",
       "\n",
       "                                                             \\\n",
       "timestamp           2014-12-01 04:00:00 2014-12-01 05:00:00   \n",
       "building_name                                                 \n",
       "PrimClass_Jacob                  6149.0              6149.0   \n",
       "PrimClass_Jacquelyn              1597.0              1597.0   \n",
       "PrimClass_Jaden                  2572.0              2572.0   \n",
       "PrimClass_Janie                  1691.0              1691.0   \n",
       "PrimClass_Janis                   736.0               736.0   \n",
       "PrimClass_Jasmine                2555.0              2555.0   \n",
       "PrimClass_Jayda                  2215.0              2215.0   \n",
       "PrimClass_Jean                   2678.0              2678.0   \n",
       "PrimClass_Jeff                   1086.0              1086.0   \n",
       "PrimClass_Jeffery               11201.0             11201.0   \n",
       "PrimClass_Jermaine               2154.0              2154.0   \n",
       "PrimClass_Jesse                  1468.0              1468.0   \n",
       "PrimClass_Jill                   2238.0              2238.0   \n",
       "PrimClass_Jim                    1014.0              1014.0   \n",
       "PrimClass_Joel                   1295.0              1295.0   \n",
       "PrimClass_Johnathon              2253.0              2253.0   \n",
       "PrimClass_Johnnie                1769.0              1769.0   \n",
       "PrimClass_Jose                   1123.0              1123.0   \n",
       "PrimClass_Judith                 1205.0              1205.0   \n",
       "\n",
       "                                                             \\\n",
       "timestamp           2014-12-01 06:00:00 2014-12-01 07:00:00   \n",
       "building_name                                                 \n",
       "PrimClass_Jacob                  6149.0              6149.0   \n",
       "PrimClass_Jacquelyn              1597.0              1597.0   \n",
       "PrimClass_Jaden                  2572.0              2572.0   \n",
       "PrimClass_Janie                  1691.0              1691.0   \n",
       "PrimClass_Janis                   736.0               736.0   \n",
       "PrimClass_Jasmine                2555.0              2555.0   \n",
       "PrimClass_Jayda                  2215.0              2215.0   \n",
       "PrimClass_Jean                   2678.0              2678.0   \n",
       "PrimClass_Jeff                   1086.0              1086.0   \n",
       "PrimClass_Jeffery               11201.0             11201.0   \n",
       "PrimClass_Jermaine               2154.0              2154.0   \n",
       "PrimClass_Jesse                  1468.0              1468.0   \n",
       "PrimClass_Jill                   2238.0              2238.0   \n",
       "PrimClass_Jim                    1014.0              1014.0   \n",
       "PrimClass_Joel                   1295.0              1295.0   \n",
       "PrimClass_Johnathon              2253.0              2253.0   \n",
       "PrimClass_Johnnie                1769.0              1769.0   \n",
       "PrimClass_Jose                   1123.0              1123.0   \n",
       "PrimClass_Judith                 1205.0              1205.0   \n",
       "\n",
       "                                                             \\\n",
       "timestamp           2014-12-01 08:00:00 2014-12-01 09:00:00   \n",
       "building_name                                                 \n",
       "PrimClass_Jacob                  6149.0              6149.0   \n",
       "PrimClass_Jacquelyn              1597.0              1597.0   \n",
       "PrimClass_Jaden                  2572.0              2572.0   \n",
       "PrimClass_Janie                  1691.0              1691.0   \n",
       "PrimClass_Janis                   736.0               736.0   \n",
       "PrimClass_Jasmine                2555.0              2555.0   \n",
       "PrimClass_Jayda                  2215.0              2215.0   \n",
       "PrimClass_Jean                   2678.0              2678.0   \n",
       "PrimClass_Jeff                   1086.0              1086.0   \n",
       "PrimClass_Jeffery               11201.0             11201.0   \n",
       "PrimClass_Jermaine               2154.0              2154.0   \n",
       "PrimClass_Jesse                  1468.0              1468.0   \n",
       "PrimClass_Jill                   2238.0              2238.0   \n",
       "PrimClass_Jim                    1014.0              1014.0   \n",
       "PrimClass_Joel                   1295.0              1295.0   \n",
       "PrimClass_Johnathon              2253.0              2253.0   \n",
       "PrimClass_Johnnie                1769.0              1769.0   \n",
       "PrimClass_Jose                   1123.0              1123.0   \n",
       "PrimClass_Judith                 1205.0              1205.0   \n",
       "\n",
       "                            ...               PSU_PrimClass  \\\n",
       "timestamp                   ...         2015-11-30 14:00:00   \n",
       "building_name               ...                               \n",
       "PrimClass_Jacob             ...                           1   \n",
       "PrimClass_Jacquelyn         ...                           1   \n",
       "PrimClass_Jaden             ...                           1   \n",
       "PrimClass_Janie             ...                           1   \n",
       "PrimClass_Janis             ...                           1   \n",
       "PrimClass_Jasmine           ...                           1   \n",
       "PrimClass_Jayda             ...                           1   \n",
       "PrimClass_Jean              ...                           1   \n",
       "PrimClass_Jeff              ...                           1   \n",
       "PrimClass_Jeffery           ...                           1   \n",
       "PrimClass_Jermaine          ...                           1   \n",
       "PrimClass_Jesse             ...                           1   \n",
       "PrimClass_Jill              ...                           1   \n",
       "PrimClass_Jim               ...                           1   \n",
       "PrimClass_Joel              ...                           1   \n",
       "PrimClass_Johnathon         ...                           1   \n",
       "PrimClass_Johnnie           ...                           1   \n",
       "PrimClass_Jose              ...                           1   \n",
       "PrimClass_Judith            ...                           1   \n",
       "\n",
       "                                                             \\\n",
       "timestamp           2015-11-30 15:00:00 2015-11-30 16:00:00   \n",
       "building_name                                                 \n",
       "PrimClass_Jacob                       1                   1   \n",
       "PrimClass_Jacquelyn                   1                   1   \n",
       "PrimClass_Jaden                       1                   1   \n",
       "PrimClass_Janie                       1                   1   \n",
       "PrimClass_Janis                       1                   1   \n",
       "PrimClass_Jasmine                     1                   1   \n",
       "PrimClass_Jayda                       1                   1   \n",
       "PrimClass_Jean                        1                   1   \n",
       "PrimClass_Jeff                        1                   1   \n",
       "PrimClass_Jeffery                     1                   1   \n",
       "PrimClass_Jermaine                    1                   1   \n",
       "PrimClass_Jesse                       1                   1   \n",
       "PrimClass_Jill                        1                   1   \n",
       "PrimClass_Jim                         1                   1   \n",
       "PrimClass_Joel                        1                   1   \n",
       "PrimClass_Johnathon                   1                   1   \n",
       "PrimClass_Johnnie                     1                   1   \n",
       "PrimClass_Jose                        1                   1   \n",
       "PrimClass_Judith                      1                   1   \n",
       "\n",
       "                                                             \\\n",
       "timestamp           2015-11-30 17:00:00 2015-11-30 18:00:00   \n",
       "building_name                                                 \n",
       "PrimClass_Jacob                       1                   1   \n",
       "PrimClass_Jacquelyn                   1                   1   \n",
       "PrimClass_Jaden                       1                   1   \n",
       "PrimClass_Janie                       1                   1   \n",
       "PrimClass_Janis                       1                   1   \n",
       "PrimClass_Jasmine                     1                   1   \n",
       "PrimClass_Jayda                       1                   1   \n",
       "PrimClass_Jean                        1                   1   \n",
       "PrimClass_Jeff                        1                   1   \n",
       "PrimClass_Jeffery                     1                   1   \n",
       "PrimClass_Jermaine                    1                   1   \n",
       "PrimClass_Jesse                       1                   1   \n",
       "PrimClass_Jill                        1                   1   \n",
       "PrimClass_Jim                         1                   1   \n",
       "PrimClass_Joel                        1                   1   \n",
       "PrimClass_Johnathon                   1                   1   \n",
       "PrimClass_Johnnie                     1                   1   \n",
       "PrimClass_Jose                        1                   1   \n",
       "PrimClass_Judith                      1                   1   \n",
       "\n",
       "                                                             \\\n",
       "timestamp           2015-11-30 19:00:00 2015-11-30 20:00:00   \n",
       "building_name                                                 \n",
       "PrimClass_Jacob                       1                   1   \n",
       "PrimClass_Jacquelyn                   1                   1   \n",
       "PrimClass_Jaden                       1                   1   \n",
       "PrimClass_Janie                       1                   1   \n",
       "PrimClass_Janis                       1                   1   \n",
       "PrimClass_Jasmine                     1                   1   \n",
       "PrimClass_Jayda                       1                   1   \n",
       "PrimClass_Jean                        1                   1   \n",
       "PrimClass_Jeff                        1                   1   \n",
       "PrimClass_Jeffery                     1                   1   \n",
       "PrimClass_Jermaine                    1                   1   \n",
       "PrimClass_Jesse                       1                   1   \n",
       "PrimClass_Jill                        1                   1   \n",
       "PrimClass_Jim                         1                   1   \n",
       "PrimClass_Joel                        1                   1   \n",
       "PrimClass_Johnathon                   1                   1   \n",
       "PrimClass_Johnnie                     1                   1   \n",
       "PrimClass_Jose                        1                   1   \n",
       "PrimClass_Judith                      1                   1   \n",
       "\n",
       "                                                             \\\n",
       "timestamp           2015-11-30 21:00:00 2015-11-30 22:00:00   \n",
       "building_name                                                 \n",
       "PrimClass_Jacob                       1                   1   \n",
       "PrimClass_Jacquelyn                   1                   1   \n",
       "PrimClass_Jaden                       1                   1   \n",
       "PrimClass_Janie                       1                   1   \n",
       "PrimClass_Janis                       1                   1   \n",
       "PrimClass_Jasmine                     1                   1   \n",
       "PrimClass_Jayda                       1                   1   \n",
       "PrimClass_Jean                        1                   1   \n",
       "PrimClass_Jeff                        1                   1   \n",
       "PrimClass_Jeffery                     1                   1   \n",
       "PrimClass_Jermaine                    1                   1   \n",
       "PrimClass_Jesse                       1                   1   \n",
       "PrimClass_Jill                        1                   1   \n",
       "PrimClass_Jim                         1                   1   \n",
       "PrimClass_Joel                        1                   1   \n",
       "PrimClass_Johnathon                   1                   1   \n",
       "PrimClass_Johnnie                     1                   1   \n",
       "PrimClass_Jose                        1                   1   \n",
       "PrimClass_Judith                      1                   1   \n",
       "\n",
       "                                         \n",
       "timestamp           2015-11-30 23:00:00  \n",
       "building_name                            \n",
       "PrimClass_Jacob                       1  \n",
       "PrimClass_Jacquelyn                   1  \n",
       "PrimClass_Jaden                       1  \n",
       "PrimClass_Janie                       1  \n",
       "PrimClass_Janis                       1  \n",
       "PrimClass_Jasmine                     1  \n",
       "PrimClass_Jayda                       1  \n",
       "PrimClass_Jean                        1  \n",
       "PrimClass_Jeff                        1  \n",
       "PrimClass_Jeffery                     1  \n",
       "PrimClass_Jermaine                    1  \n",
       "PrimClass_Jesse                       1  \n",
       "PrimClass_Jill                        1  \n",
       "PrimClass_Jim                         1  \n",
       "PrimClass_Joel                        1  \n",
       "PrimClass_Johnathon                   1  \n",
       "PrimClass_Johnnie                     1  \n",
       "PrimClass_Jose                        1  \n",
       "PrimClass_Judith                      1  \n",
       "\n",
       "[19 rows x 735588 columns]"
      ]
     },
     "execution_count": 92,
     "metadata": {},
     "output_type": "execute_result"
    }
   ],
   "source": [
    "a"
   ]
  },
  {
   "cell_type": "code",
   "execution_count": 93,
   "metadata": {},
   "outputs": [
    {
     "data": {
      "text/html": [
       "<div>\n",
       "<style scoped>\n",
       "    .dataframe tbody tr th:only-of-type {\n",
       "        vertical-align: middle;\n",
       "    }\n",
       "\n",
       "    .dataframe tbody tr th {\n",
       "        vertical-align: top;\n",
       "    }\n",
       "\n",
       "    .dataframe thead th {\n",
       "        text-align: right;\n",
       "    }\n",
       "</style>\n",
       "<table border=\"1\" class=\"dataframe\">\n",
       "  <thead>\n",
       "    <tr style=\"text-align: right;\">\n",
       "      <th></th>\n",
       "      <th>uid</th>\n",
       "      <th>dataend</th>\n",
       "      <th>datastart</th>\n",
       "      <th>energystarscore</th>\n",
       "      <th>heatingtype</th>\n",
       "      <th>industry</th>\n",
       "      <th>mainheatingtype</th>\n",
       "      <th>numberoffloors</th>\n",
       "      <th>occupants</th>\n",
       "      <th>primaryspaceusage</th>\n",
       "      <th>rating</th>\n",
       "      <th>sqft</th>\n",
       "      <th>sqm</th>\n",
       "      <th>subindustry</th>\n",
       "      <th>timezone</th>\n",
       "      <th>yearbuilt</th>\n",
       "      <th>nickname</th>\n",
       "      <th>primaryspaceuse_abbrev</th>\n",
       "      <th>newweatherfilename</th>\n",
       "    </tr>\n",
       "  </thead>\n",
       "  <tbody>\n",
       "    <tr>\n",
       "      <th>0</th>\n",
       "      <td>PrimClass_Everett</td>\n",
       "      <td>31/12/12 23:00</td>\n",
       "      <td>01/01/12 00:00</td>\n",
       "      <td>NaN</td>\n",
       "      <td>NaN</td>\n",
       "      <td>Education</td>\n",
       "      <td>NaN</td>\n",
       "      <td>NaN</td>\n",
       "      <td>NaN</td>\n",
       "      <td>Primary/Secondary Classroom</td>\n",
       "      <td>NaN</td>\n",
       "      <td>105530.0</td>\n",
       "      <td>9804.053590</td>\n",
       "      <td>Primary/Secondary School</td>\n",
       "      <td>America/New_York</td>\n",
       "      <td>NaN</td>\n",
       "      <td>Everett</td>\n",
       "      <td>PrimClass</td>\n",
       "      <td>weather12.csv</td>\n",
       "    </tr>\n",
       "    <tr>\n",
       "      <th>1</th>\n",
       "      <td>UnivClass_Clifford</td>\n",
       "      <td>31/12/15 23:00</td>\n",
       "      <td>01/01/15 00:00</td>\n",
       "      <td>NaN</td>\n",
       "      <td>NaN</td>\n",
       "      <td>Education</td>\n",
       "      <td>NaN</td>\n",
       "      <td>NaN</td>\n",
       "      <td>NaN</td>\n",
       "      <td>College Classroom</td>\n",
       "      <td>NaN</td>\n",
       "      <td>56969.0</td>\n",
       "      <td>5292.591007</td>\n",
       "      <td>College/University</td>\n",
       "      <td>America/New_York</td>\n",
       "      <td>1967</td>\n",
       "      <td>Clifford</td>\n",
       "      <td>UnivClass</td>\n",
       "      <td>weather2.csv</td>\n",
       "    </tr>\n",
       "    <tr>\n",
       "      <th>2</th>\n",
       "      <td>Office_Elizabeth</td>\n",
       "      <td>31/12/12 23:00</td>\n",
       "      <td>01/01/12 00:00</td>\n",
       "      <td>NaN</td>\n",
       "      <td>NaN</td>\n",
       "      <td>Commercial Property</td>\n",
       "      <td>NaN</td>\n",
       "      <td>NaN</td>\n",
       "      <td>NaN</td>\n",
       "      <td>Office</td>\n",
       "      <td>NaN</td>\n",
       "      <td>294651.0</td>\n",
       "      <td>27373.961850</td>\n",
       "      <td>Commercial Real Estate</td>\n",
       "      <td>America/Los_Angeles</td>\n",
       "      <td>NaN</td>\n",
       "      <td>Elizabeth</td>\n",
       "      <td>Office</td>\n",
       "      <td>weather22.csv</td>\n",
       "    </tr>\n",
       "    <tr>\n",
       "      <th>3</th>\n",
       "      <td>Office_Ellie</td>\n",
       "      <td>31/12/12 23:00</td>\n",
       "      <td>01/01/12 00:00</td>\n",
       "      <td>NaN</td>\n",
       "      <td>NaN</td>\n",
       "      <td>Commercial Property</td>\n",
       "      <td>NaN</td>\n",
       "      <td>NaN</td>\n",
       "      <td>NaN</td>\n",
       "      <td>Office</td>\n",
       "      <td>NaN</td>\n",
       "      <td>496517.0</td>\n",
       "      <td>46127.918850</td>\n",
       "      <td>Bank/Financial Services</td>\n",
       "      <td>America/Los_Angeles</td>\n",
       "      <td>NaN</td>\n",
       "      <td>Ellie</td>\n",
       "      <td>Office</td>\n",
       "      <td>weather28.csv</td>\n",
       "    </tr>\n",
       "    <tr>\n",
       "      <th>4</th>\n",
       "      <td>PrimClass_Elisabeth</td>\n",
       "      <td>31/12/12 23:00</td>\n",
       "      <td>01/01/12 00:00</td>\n",
       "      <td>NaN</td>\n",
       "      <td>NaN</td>\n",
       "      <td>Education</td>\n",
       "      <td>NaN</td>\n",
       "      <td>NaN</td>\n",
       "      <td>NaN</td>\n",
       "      <td>Primary/Secondary Classroom</td>\n",
       "      <td>NaN</td>\n",
       "      <td>233062.0</td>\n",
       "      <td>21652.158990</td>\n",
       "      <td>Primary/Secondary School</td>\n",
       "      <td>America/New_York</td>\n",
       "      <td>NaN</td>\n",
       "      <td>Elisabeth</td>\n",
       "      <td>PrimClass</td>\n",
       "      <td>weather23.csv</td>\n",
       "    </tr>\n",
       "  </tbody>\n",
       "</table>\n",
       "</div>"
      ],
      "text/plain": [
       "                   uid         dataend       datastart  energystarscore  \\\n",
       "0    PrimClass_Everett  31/12/12 23:00  01/01/12 00:00              NaN   \n",
       "1   UnivClass_Clifford  31/12/15 23:00  01/01/15 00:00              NaN   \n",
       "2     Office_Elizabeth  31/12/12 23:00  01/01/12 00:00              NaN   \n",
       "3         Office_Ellie  31/12/12 23:00  01/01/12 00:00              NaN   \n",
       "4  PrimClass_Elisabeth  31/12/12 23:00  01/01/12 00:00              NaN   \n",
       "\n",
       "  heatingtype             industry mainheatingtype  numberoffloors  occupants  \\\n",
       "0         NaN            Education             NaN             NaN        NaN   \n",
       "1         NaN            Education             NaN             NaN        NaN   \n",
       "2         NaN  Commercial Property             NaN             NaN        NaN   \n",
       "3         NaN  Commercial Property             NaN             NaN        NaN   \n",
       "4         NaN            Education             NaN             NaN        NaN   \n",
       "\n",
       "             primaryspaceusage rating      sqft           sqm  \\\n",
       "0  Primary/Secondary Classroom    NaN  105530.0   9804.053590   \n",
       "1            College Classroom    NaN   56969.0   5292.591007   \n",
       "2                       Office    NaN  294651.0  27373.961850   \n",
       "3                       Office    NaN  496517.0  46127.918850   \n",
       "4  Primary/Secondary Classroom    NaN  233062.0  21652.158990   \n",
       "\n",
       "                subindustry             timezone yearbuilt   nickname  \\\n",
       "0  Primary/Secondary School     America/New_York       NaN    Everett   \n",
       "1        College/University     America/New_York      1967   Clifford   \n",
       "2    Commercial Real Estate  America/Los_Angeles       NaN  Elizabeth   \n",
       "3   Bank/Financial Services  America/Los_Angeles       NaN      Ellie   \n",
       "4  Primary/Secondary School     America/New_York       NaN  Elisabeth   \n",
       "\n",
       "  primaryspaceuse_abbrev newweatherfilename  \n",
       "0              PrimClass      weather12.csv  \n",
       "1              UnivClass       weather2.csv  \n",
       "2                 Office      weather22.csv  \n",
       "3                 Office      weather28.csv  \n",
       "4              PrimClass      weather23.csv  "
      ]
     },
     "execution_count": 93,
     "metadata": {},
     "output_type": "execute_result"
    }
   ],
   "source": [
    "meta.head()"
   ]
  },
  {
   "cell_type": "code",
   "execution_count": 99,
   "metadata": {},
   "outputs": [],
   "source": [
    "meta = meta.set_index('uid')"
   ]
  },
  {
   "cell_type": "code",
   "execution_count": 102,
   "metadata": {},
   "outputs": [],
   "source": [
    "buildings = list(meta[meta['newweatherfilename'] == weather_file].index)"
   ]
  },
  {
   "cell_type": "code",
   "execution_count": 103,
   "metadata": {},
   "outputs": [
    {
     "data": {
      "text/plain": [
       "['PrimClass_Jolie',\n",
       " 'PrimClass_Jaylin',\n",
       " 'Office_Jesus',\n",
       " 'PrimClass_Jayla',\n",
       " 'PrimClass_Janiya',\n",
       " 'PrimClass_Janice',\n",
       " 'Office_Jett',\n",
       " 'Office_Jerry',\n",
       " 'PrimClass_Jaden',\n",
       " 'PrimClass_Jermaine',\n",
       " 'PrimClass_Josephine',\n",
       " 'Office_Jackie',\n",
       " 'PrimClass_Javier',\n",
       " 'PrimClass_Jeanette',\n",
       " 'PrimClass_Julius',\n",
       " 'PrimClass_Jaylinn',\n",
       " 'PrimClass_Johanna',\n",
       " 'PrimClass_Jodie',\n",
       " 'PrimClass_Johnathan',\n",
       " 'PrimClass_Janis',\n",
       " 'PrimClass_Jamal',\n",
       " 'PrimClass_Jose',\n",
       " 'PrimClass_Julianna',\n",
       " 'PrimClass_Jasmine',\n",
       " 'PrimClass_Jazmine',\n",
       " 'PrimClass_Justin',\n",
       " 'PrimClass_Jody',\n",
       " 'PrimClass_Julianne',\n",
       " 'PrimClass_Justice',\n",
       " 'PrimClass_Jean',\n",
       " 'PrimClass_Jenna',\n",
       " 'PrimClass_Judith',\n",
       " 'PrimClass_Jessie',\n",
       " 'PrimClass_Joselyn',\n",
       " 'PrimClass_Judy',\n",
       " 'PrimClass_Jarrett',\n",
       " 'PrimClass_Jeannine',\n",
       " 'PrimClass_Jeff',\n",
       " 'PrimClass_Julian',\n",
       " 'PrimClass_Jeanine',\n",
       " 'UnivClass_Jadon',\n",
       " 'PrimClass_Jerome',\n",
       " 'PrimClass_Jacqueline',\n",
       " 'PrimClass_Jill',\n",
       " 'PrimClass_Jim',\n",
       " 'PrimClass_Janet',\n",
       " 'PrimClass_Janie',\n",
       " 'PrimClass_Jensen',\n",
       " 'PrimClass_Jeffrey',\n",
       " 'PrimClass_Jennifer',\n",
       " 'PrimClass_Jesse',\n",
       " 'PrimClass_Jaxson',\n",
       " 'PrimClass_Jimmie',\n",
       " 'Office_Jayden',\n",
       " 'PrimClass_Jayda',\n",
       " 'PrimClass_Jocelyn',\n",
       " 'PrimClass_Jeffery',\n",
       " 'PrimClass_Jayson',\n",
       " 'UnivDorm_Jeannette',\n",
       " 'PrimClass_Jennie',\n",
       " 'PrimClass_Jonathon',\n",
       " 'PrimClass_Jaqueline',\n",
       " 'PrimClass_Jeremy',\n",
       " 'PrimClass_Josue',\n",
       " 'PrimClass_Julio',\n",
       " 'PrimClass_Jacquelyn',\n",
       " 'PrimClass_Juanita',\n",
       " 'PrimClass_Joel',\n",
       " 'PrimClass_Joey',\n",
       " 'PrimClass_Joanna',\n",
       " 'PrimClass_Jediah',\n",
       " 'PrimClass_Janelle',\n",
       " 'PrimClass_Jane',\n",
       " 'PrimClass_Jon',\n",
       " 'PrimClass_Jake',\n",
       " 'Office_Joan',\n",
       " 'PrimClass_Johnnie',\n",
       " 'Office_Javon',\n",
       " 'PrimClass_Johnathon',\n",
       " 'Office_Jeanne',\n",
       " 'PrimClass_Jamie',\n",
       " 'PrimClass_Jacob',\n",
       " 'Office_John',\n",
       " 'PrimClass_Jazmin',\n",
       " 'PrimClass_Jaiden',\n",
       " 'Office_Jan',\n",
       " 'Office_Jackson',\n",
       " 'Office_Jude',\n",
       " 'Office_Joni']"
      ]
     },
     "execution_count": 103,
     "metadata": {},
     "output_type": "execute_result"
    }
   ],
   "source": [
    "buildings"
   ]
  },
  {
   "cell_type": "code",
   "execution_count": 105,
   "metadata": {},
   "outputs": [
    {
     "name": "stderr",
     "output_type": "stream",
     "text": [
      "/Users/kategroschner/anaconda/lib/python3.6/site-packages/ipykernel/__main__.py:5: SettingWithCopyWarning: \n",
      "A value is trying to be set on a copy of a slice from a DataFrame.\n",
      "Try using .loc[row_indexer,col_indexer] = value instead\n",
      "\n",
      "See the caveats in the documentation: http://pandas.pydata.org/pandas-docs/stable/indexing.html#indexing-view-versus-copy\n",
      "/Users/kategroschner/anaconda/lib/python3.6/site-packages/ipykernel/__main__.py:6: SettingWithCopyWarning: \n",
      "A value is trying to be set on a copy of a slice from a DataFrame.\n",
      "Try using .loc[row_indexer,col_indexer] = value instead\n",
      "\n",
      "See the caveats in the documentation: http://pandas.pydata.org/pandas-docs/stable/indexing.html#indexing-view-versus-copy\n",
      "/Users/kategroschner/anaconda/lib/python3.6/site-packages/ipykernel/__main__.py:7: SettingWithCopyWarning: \n",
      "A value is trying to be set on a copy of a slice from a DataFrame.\n",
      "Try using .loc[row_indexer,col_indexer] = value instead\n",
      "\n",
      "See the caveats in the documentation: http://pandas.pydata.org/pandas-docs/stable/indexing.html#indexing-view-versus-copy\n",
      "/Users/kategroschner/anaconda/lib/python3.6/site-packages/ipykernel/__main__.py:8: SettingWithCopyWarning: \n",
      "A value is trying to be set on a copy of a slice from a DataFrame.\n",
      "Try using .loc[row_indexer,col_indexer] = value instead\n",
      "\n",
      "See the caveats in the documentation: http://pandas.pydata.org/pandas-docs/stable/indexing.html#indexing-view-versus-copy\n"
     ]
    }
   ],
   "source": [
    "new_df = pd.DataFrame(columns={'building_name', 'timestamp', 'electricity', 'area', 'primary_space_usage','industry','weather_file'}) #empty dataframe with 3 columns\n",
    "for building in buildings:\n",
    "    subdf = elec[['timestamp', building]]\n",
    "    subdf.columns = ['timestamp', 'electricity']\n",
    "    subdf['building_name'] = building\n",
    "    subdf['industry'] = meta.loc[building,'industry']\n",
    "    subdf['area'] = meta.loc[building, 'sqm']\n",
    "    subdf['primary_space_usage'] = meta.loc[building, 'primaryspaceuse_abbrev']\n",
    "    new_df = pd.concat([new_df, subdf], axis=0, ignore_index=True)"
   ]
  },
  {
   "cell_type": "code",
   "execution_count": 107,
   "metadata": {},
   "outputs": [
    {
     "data": {
      "text/html": [
       "<div>\n",
       "<style scoped>\n",
       "    .dataframe tbody tr th:only-of-type {\n",
       "        vertical-align: middle;\n",
       "    }\n",
       "\n",
       "    .dataframe tbody tr th {\n",
       "        vertical-align: top;\n",
       "    }\n",
       "\n",
       "    .dataframe thead th {\n",
       "        text-align: right;\n",
       "    }\n",
       "</style>\n",
       "<table border=\"1\" class=\"dataframe\">\n",
       "  <thead>\n",
       "    <tr style=\"text-align: right;\">\n",
       "      <th></th>\n",
       "      <th>area</th>\n",
       "      <th>building_name</th>\n",
       "      <th>electricity</th>\n",
       "      <th>industry</th>\n",
       "      <th>primary_space_usage</th>\n",
       "      <th>timestamp</th>\n",
       "      <th>weather_file</th>\n",
       "    </tr>\n",
       "  </thead>\n",
       "  <tbody>\n",
       "    <tr>\n",
       "      <th>0</th>\n",
       "      <td>2927.0</td>\n",
       "      <td>PrimClass_Jolie</td>\n",
       "      <td>NaN</td>\n",
       "      <td>Education</td>\n",
       "      <td>PrimClass</td>\n",
       "      <td>2010-01-01 08:00:00+00:00</td>\n",
       "      <td>NaN</td>\n",
       "    </tr>\n",
       "    <tr>\n",
       "      <th>1</th>\n",
       "      <td>2927.0</td>\n",
       "      <td>PrimClass_Jolie</td>\n",
       "      <td>NaN</td>\n",
       "      <td>Education</td>\n",
       "      <td>PrimClass</td>\n",
       "      <td>2010-01-01 09:00:00+00:00</td>\n",
       "      <td>NaN</td>\n",
       "    </tr>\n",
       "    <tr>\n",
       "      <th>2</th>\n",
       "      <td>2927.0</td>\n",
       "      <td>PrimClass_Jolie</td>\n",
       "      <td>NaN</td>\n",
       "      <td>Education</td>\n",
       "      <td>PrimClass</td>\n",
       "      <td>2010-01-01 10:00:00+00:00</td>\n",
       "      <td>NaN</td>\n",
       "    </tr>\n",
       "    <tr>\n",
       "      <th>3</th>\n",
       "      <td>2927.0</td>\n",
       "      <td>PrimClass_Jolie</td>\n",
       "      <td>NaN</td>\n",
       "      <td>Education</td>\n",
       "      <td>PrimClass</td>\n",
       "      <td>2010-01-01 11:00:00+00:00</td>\n",
       "      <td>NaN</td>\n",
       "    </tr>\n",
       "    <tr>\n",
       "      <th>4</th>\n",
       "      <td>2927.0</td>\n",
       "      <td>PrimClass_Jolie</td>\n",
       "      <td>NaN</td>\n",
       "      <td>Education</td>\n",
       "      <td>PrimClass</td>\n",
       "      <td>2010-01-01 12:00:00+00:00</td>\n",
       "      <td>NaN</td>\n",
       "    </tr>\n",
       "  </tbody>\n",
       "</table>\n",
       "</div>"
      ],
      "text/plain": [
       "     area    building_name  electricity   industry primary_space_usage  \\\n",
       "0  2927.0  PrimClass_Jolie          NaN  Education           PrimClass   \n",
       "1  2927.0  PrimClass_Jolie          NaN  Education           PrimClass   \n",
       "2  2927.0  PrimClass_Jolie          NaN  Education           PrimClass   \n",
       "3  2927.0  PrimClass_Jolie          NaN  Education           PrimClass   \n",
       "4  2927.0  PrimClass_Jolie          NaN  Education           PrimClass   \n",
       "\n",
       "                   timestamp weather_file  \n",
       "0  2010-01-01 08:00:00+00:00          NaN  \n",
       "1  2010-01-01 09:00:00+00:00          NaN  \n",
       "2  2010-01-01 10:00:00+00:00          NaN  \n",
       "3  2010-01-01 11:00:00+00:00          NaN  \n",
       "4  2010-01-01 12:00:00+00:00          NaN  "
      ]
     },
     "execution_count": 107,
     "metadata": {},
     "output_type": "execute_result"
    }
   ],
   "source": [
    "new_df.head()"
   ]
  },
  {
   "cell_type": "code",
   "execution_count": 114,
   "metadata": {},
   "outputs": [
    {
     "data": {
      "text/plain": [
       "pandas.core.series.Series"
      ]
     },
     "execution_count": 114,
     "metadata": {},
     "output_type": "execute_result"
    }
   ],
   "source": [
    "type(new_df['timestamp'])"
   ]
  },
  {
   "cell_type": "code",
   "execution_count": 113,
   "metadata": {},
   "outputs": [],
   "source": [
    "new_df['timestamp'] = pd.to_datetime(new_df['timestamp'])"
   ]
  },
  {
   "cell_type": "code",
   "execution_count": 115,
   "metadata": {},
   "outputs": [
    {
     "ename": "TypeError",
     "evalue": "unsupported operand type(s) for -: 'str' and 'str'",
     "output_type": "error",
     "traceback": [
      "\u001b[0;31m---------------------------------------------------------------------------\u001b[0m",
      "\u001b[0;31mTypeError\u001b[0m                                 Traceback (most recent call last)",
      "\u001b[0;32m<ipython-input-115-e2a1748b4440>\u001b[0m in \u001b[0;36m<module>\u001b[0;34m()\u001b[0m\n\u001b[0;32m----> 1\u001b[0;31m \u001b[0mdif\u001b[0m \u001b[0;34m=\u001b[0m \u001b[0msubdf\u001b[0m\u001b[0;34m[\u001b[0m\u001b[0msubdf\u001b[0m\u001b[0;34m[\u001b[0m\u001b[0;34m'building_name'\u001b[0m\u001b[0;34m]\u001b[0m\u001b[0;34m==\u001b[0m\u001b[0;34m'Office_Joni'\u001b[0m\u001b[0;34m]\u001b[0m\u001b[0;34m[\u001b[0m\u001b[0;34m'timestamp'\u001b[0m\u001b[0;34m]\u001b[0m\u001b[0;34m.\u001b[0m\u001b[0miloc\u001b[0m\u001b[0;34m[\u001b[0m\u001b[0;34m-\u001b[0m\u001b[0;36m1\u001b[0m\u001b[0;34m]\u001b[0m\u001b[0;34m-\u001b[0m\u001b[0msubdf\u001b[0m\u001b[0;34m[\u001b[0m\u001b[0msubdf\u001b[0m\u001b[0;34m[\u001b[0m\u001b[0;34m'building_name'\u001b[0m\u001b[0;34m]\u001b[0m\u001b[0;34m==\u001b[0m\u001b[0;34m'Office_Joni'\u001b[0m\u001b[0;34m]\u001b[0m\u001b[0;34m[\u001b[0m\u001b[0;34m'timestamp'\u001b[0m\u001b[0;34m]\u001b[0m\u001b[0;34m.\u001b[0m\u001b[0miloc\u001b[0m\u001b[0;34m[\u001b[0m\u001b[0;36m0\u001b[0m\u001b[0;34m]\u001b[0m\u001b[0;34m\u001b[0m\u001b[0;34m\u001b[0m\u001b[0m\n\u001b[0m",
      "\u001b[0;31mTypeError\u001b[0m: unsupported operand type(s) for -: 'str' and 'str'"
     ]
    }
   ],
   "source": [
    "dif = subdf[subdf['building_name']=='Office_Joni']['timestamp'].iloc[-1]-subdf[subdf['building_name']=='Office_Joni']['timestamp'].iloc[0]"
   ]
  },
  {
   "cell_type": "code",
   "execution_count": 116,
   "metadata": {},
   "outputs": [
    {
     "data": {
      "text/plain": [
       "'2016-01-01 06:00:00+00:00'"
      ]
     },
     "execution_count": 116,
     "metadata": {},
     "output_type": "execute_result"
    }
   ],
   "source": [
    "subdf[subdf['building_name']=='Office_Joni']['timestamp'].iloc[-1]"
   ]
  },
  {
   "cell_type": "code",
   "execution_count": 122,
   "metadata": {},
   "outputs": [
    {
     "data": {
      "text/plain": [
       "'2010-01-01 08:00:00+00:00'"
      ]
     },
     "execution_count": 122,
     "metadata": {},
     "output_type": "execute_result"
    }
   ],
   "source": [
    "subdf[subdf['building_name']=='Office_Joni']['timestamp'].iloc[0]"
   ]
  },
  {
   "cell_type": "code",
   "execution_count": 119,
   "metadata": {
    "scrolled": true
   },
   "outputs": [
    {
     "data": {
      "text/plain": [
       "Timedelta('2190 days 22:00:00')"
      ]
     },
     "execution_count": 119,
     "metadata": {},
     "output_type": "execute_result"
    }
   ],
   "source": [
    "new_df[new_df['building_name']=='Office_Joni']['timestamp'].iloc[-1]-new_df[new_df['building_name']=='Office_Joni']['timestamp'].iloc[0]"
   ]
  },
  {
   "cell_type": "code",
   "execution_count": 121,
   "metadata": {},
   "outputs": [
    {
     "data": {
      "text/plain": [
       "Timedelta('2190 days 22:00:00')"
      ]
     },
     "execution_count": 121,
     "metadata": {},
     "output_type": "execute_result"
    }
   ],
   "source": [
    "new_df[new_df['building_name']=='PrimClass_Jolie']['timestamp'].iloc[-1]-new_df[new_df['building_name']=='PrimClass_Jolie']['timestamp'].iloc[0]"
   ]
  },
  {
   "cell_type": "code",
   "execution_count": 123,
   "metadata": {},
   "outputs": [
    {
     "data": {
      "text/html": [
       "<div>\n",
       "<style scoped>\n",
       "    .dataframe tbody tr th:only-of-type {\n",
       "        vertical-align: middle;\n",
       "    }\n",
       "\n",
       "    .dataframe tbody tr th {\n",
       "        vertical-align: top;\n",
       "    }\n",
       "\n",
       "    .dataframe thead th {\n",
       "        text-align: right;\n",
       "    }\n",
       "</style>\n",
       "<table border=\"1\" class=\"dataframe\">\n",
       "  <thead>\n",
       "    <tr style=\"text-align: right;\">\n",
       "      <th></th>\n",
       "      <th>area</th>\n",
       "      <th>building_name</th>\n",
       "      <th>electricity</th>\n",
       "      <th>primary_space_usage</th>\n",
       "      <th>TemperatureC</th>\n",
       "      <th>month</th>\n",
       "      <th>year</th>\n",
       "      <th>date</th>\n",
       "      <th>hour</th>\n",
       "      <th>weekday</th>\n",
       "      <th>...</th>\n",
       "      <th>hour_22</th>\n",
       "      <th>hour_23</th>\n",
       "      <th>wkday_0</th>\n",
       "      <th>wkday_1</th>\n",
       "      <th>wkday_2</th>\n",
       "      <th>wkday_3</th>\n",
       "      <th>wkday_4</th>\n",
       "      <th>wkday_5</th>\n",
       "      <th>wkday_6</th>\n",
       "      <th>PSU_PrimClass</th>\n",
       "    </tr>\n",
       "    <tr>\n",
       "      <th>timestamp</th>\n",
       "      <th></th>\n",
       "      <th></th>\n",
       "      <th></th>\n",
       "      <th></th>\n",
       "      <th></th>\n",
       "      <th></th>\n",
       "      <th></th>\n",
       "      <th></th>\n",
       "      <th></th>\n",
       "      <th></th>\n",
       "      <th></th>\n",
       "      <th></th>\n",
       "      <th></th>\n",
       "      <th></th>\n",
       "      <th></th>\n",
       "      <th></th>\n",
       "      <th></th>\n",
       "      <th></th>\n",
       "      <th></th>\n",
       "      <th></th>\n",
       "      <th></th>\n",
       "    </tr>\n",
       "  </thead>\n",
       "  <tbody>\n",
       "    <tr>\n",
       "      <th>2014-12-01 00:00:00</th>\n",
       "      <td>6149.0</td>\n",
       "      <td>PrimClass_Jacob</td>\n",
       "      <td>34.900002</td>\n",
       "      <td>PrimClass</td>\n",
       "      <td>7.0</td>\n",
       "      <td>12</td>\n",
       "      <td>2014</td>\n",
       "      <td>1</td>\n",
       "      <td>0</td>\n",
       "      <td>0</td>\n",
       "      <td>...</td>\n",
       "      <td>0</td>\n",
       "      <td>0</td>\n",
       "      <td>1</td>\n",
       "      <td>0</td>\n",
       "      <td>0</td>\n",
       "      <td>0</td>\n",
       "      <td>0</td>\n",
       "      <td>0</td>\n",
       "      <td>0</td>\n",
       "      <td>1</td>\n",
       "    </tr>\n",
       "    <tr>\n",
       "      <th>2014-12-01 01:00:00</th>\n",
       "      <td>6149.0</td>\n",
       "      <td>PrimClass_Jacob</td>\n",
       "      <td>32.700000</td>\n",
       "      <td>PrimClass</td>\n",
       "      <td>5.0</td>\n",
       "      <td>12</td>\n",
       "      <td>2014</td>\n",
       "      <td>1</td>\n",
       "      <td>1</td>\n",
       "      <td>0</td>\n",
       "      <td>...</td>\n",
       "      <td>0</td>\n",
       "      <td>0</td>\n",
       "      <td>1</td>\n",
       "      <td>0</td>\n",
       "      <td>0</td>\n",
       "      <td>0</td>\n",
       "      <td>0</td>\n",
       "      <td>0</td>\n",
       "      <td>0</td>\n",
       "      <td>1</td>\n",
       "    </tr>\n",
       "    <tr>\n",
       "      <th>2014-12-01 02:00:00</th>\n",
       "      <td>6149.0</td>\n",
       "      <td>PrimClass_Jacob</td>\n",
       "      <td>32.200000</td>\n",
       "      <td>PrimClass</td>\n",
       "      <td>5.0</td>\n",
       "      <td>12</td>\n",
       "      <td>2014</td>\n",
       "      <td>1</td>\n",
       "      <td>2</td>\n",
       "      <td>0</td>\n",
       "      <td>...</td>\n",
       "      <td>0</td>\n",
       "      <td>0</td>\n",
       "      <td>1</td>\n",
       "      <td>0</td>\n",
       "      <td>0</td>\n",
       "      <td>0</td>\n",
       "      <td>0</td>\n",
       "      <td>0</td>\n",
       "      <td>0</td>\n",
       "      <td>1</td>\n",
       "    </tr>\n",
       "    <tr>\n",
       "      <th>2014-12-01 03:00:00</th>\n",
       "      <td>6149.0</td>\n",
       "      <td>PrimClass_Jacob</td>\n",
       "      <td>32.300000</td>\n",
       "      <td>PrimClass</td>\n",
       "      <td>6.0</td>\n",
       "      <td>12</td>\n",
       "      <td>2014</td>\n",
       "      <td>1</td>\n",
       "      <td>3</td>\n",
       "      <td>0</td>\n",
       "      <td>...</td>\n",
       "      <td>0</td>\n",
       "      <td>0</td>\n",
       "      <td>1</td>\n",
       "      <td>0</td>\n",
       "      <td>0</td>\n",
       "      <td>0</td>\n",
       "      <td>0</td>\n",
       "      <td>0</td>\n",
       "      <td>0</td>\n",
       "      <td>1</td>\n",
       "    </tr>\n",
       "    <tr>\n",
       "      <th>2014-12-01 04:00:00</th>\n",
       "      <td>6149.0</td>\n",
       "      <td>PrimClass_Jacob</td>\n",
       "      <td>32.599998</td>\n",
       "      <td>PrimClass</td>\n",
       "      <td>7.0</td>\n",
       "      <td>12</td>\n",
       "      <td>2014</td>\n",
       "      <td>1</td>\n",
       "      <td>4</td>\n",
       "      <td>0</td>\n",
       "      <td>...</td>\n",
       "      <td>0</td>\n",
       "      <td>0</td>\n",
       "      <td>1</td>\n",
       "      <td>0</td>\n",
       "      <td>0</td>\n",
       "      <td>0</td>\n",
       "      <td>0</td>\n",
       "      <td>0</td>\n",
       "      <td>0</td>\n",
       "      <td>1</td>\n",
       "    </tr>\n",
       "  </tbody>\n",
       "</table>\n",
       "<p>5 rows × 85 columns</p>\n",
       "</div>"
      ],
      "text/plain": [
       "                       area    building_name  electricity primary_space_usage  \\\n",
       "timestamp                                                                       \n",
       "2014-12-01 00:00:00  6149.0  PrimClass_Jacob    34.900002           PrimClass   \n",
       "2014-12-01 01:00:00  6149.0  PrimClass_Jacob    32.700000           PrimClass   \n",
       "2014-12-01 02:00:00  6149.0  PrimClass_Jacob    32.200000           PrimClass   \n",
       "2014-12-01 03:00:00  6149.0  PrimClass_Jacob    32.300000           PrimClass   \n",
       "2014-12-01 04:00:00  6149.0  PrimClass_Jacob    32.599998           PrimClass   \n",
       "\n",
       "                     TemperatureC  month  year  date  hour  weekday  \\\n",
       "timestamp                                                             \n",
       "2014-12-01 00:00:00           7.0     12  2014     1     0        0   \n",
       "2014-12-01 01:00:00           5.0     12  2014     1     1        0   \n",
       "2014-12-01 02:00:00           5.0     12  2014     1     2        0   \n",
       "2014-12-01 03:00:00           6.0     12  2014     1     3        0   \n",
       "2014-12-01 04:00:00           7.0     12  2014     1     4        0   \n",
       "\n",
       "                         ...        hour_22  hour_23  wkday_0  wkday_1  \\\n",
       "timestamp                ...                                             \n",
       "2014-12-01 00:00:00      ...              0        0        1        0   \n",
       "2014-12-01 01:00:00      ...              0        0        1        0   \n",
       "2014-12-01 02:00:00      ...              0        0        1        0   \n",
       "2014-12-01 03:00:00      ...              0        0        1        0   \n",
       "2014-12-01 04:00:00      ...              0        0        1        0   \n",
       "\n",
       "                     wkday_2  wkday_3  wkday_4  wkday_5  wkday_6  \\\n",
       "timestamp                                                          \n",
       "2014-12-01 00:00:00        0        0        0        0        0   \n",
       "2014-12-01 01:00:00        0        0        0        0        0   \n",
       "2014-12-01 02:00:00        0        0        0        0        0   \n",
       "2014-12-01 03:00:00        0        0        0        0        0   \n",
       "2014-12-01 04:00:00        0        0        0        0        0   \n",
       "\n",
       "                     PSU_PrimClass  \n",
       "timestamp                           \n",
       "2014-12-01 00:00:00              1  \n",
       "2014-12-01 01:00:00              1  \n",
       "2014-12-01 02:00:00              1  \n",
       "2014-12-01 03:00:00              1  \n",
       "2014-12-01 04:00:00              1  \n",
       "\n",
       "[5 rows x 85 columns]"
      ]
     },
     "execution_count": 123,
     "metadata": {},
     "output_type": "execute_result"
    }
   ],
   "source": [
    "test.head()"
   ]
  },
  {
   "cell_type": "code",
   "execution_count": 124,
   "metadata": {},
   "outputs": [
    {
     "data": {
      "text/plain": [
       "(166383, 85)"
      ]
     },
     "execution_count": 124,
     "metadata": {},
     "output_type": "execute_result"
    }
   ],
   "source": [
    "test.shape"
   ]
  },
  {
   "cell_type": "code",
   "execution_count": 136,
   "metadata": {},
   "outputs": [],
   "source": [
    "s = test[test['building_name']=='PrimClass_Jacob']"
   ]
  },
  {
   "cell_type": "code",
   "execution_count": 144,
   "metadata": {},
   "outputs": [
    {
     "ename": "TypeError",
     "evalue": "unsupported operand type(s) for -: 'str' and 'str'",
     "output_type": "error",
     "traceback": [
      "\u001b[0;31m---------------------------------------------------------------------------\u001b[0m",
      "\u001b[0;31mTypeError\u001b[0m                                 Traceback (most recent call last)",
      "\u001b[0;32m<ipython-input-144-7a8088ec61b1>\u001b[0m in \u001b[0;36m<module>\u001b[0;34m()\u001b[0m\n\u001b[0;32m----> 1\u001b[0;31m \u001b[0ms\u001b[0m\u001b[0;34m.\u001b[0m\u001b[0mindex\u001b[0m\u001b[0;34m[\u001b[0m\u001b[0;34m-\u001b[0m\u001b[0;36m1\u001b[0m\u001b[0;34m]\u001b[0m\u001b[0;34m-\u001b[0m\u001b[0ms\u001b[0m\u001b[0;34m.\u001b[0m\u001b[0mindex\u001b[0m\u001b[0;34m[\u001b[0m\u001b[0;36m0\u001b[0m\u001b[0;34m]\u001b[0m\u001b[0;34m\u001b[0m\u001b[0;34m\u001b[0m\u001b[0m\n\u001b[0m",
      "\u001b[0;31mTypeError\u001b[0m: unsupported operand type(s) for -: 'str' and 'str'"
     ]
    }
   ],
   "source": [
    "s.index[-1]-s.index[0]"
   ]
  },
  {
   "cell_type": "code",
   "execution_count": 143,
   "metadata": {},
   "outputs": [
    {
     "data": {
      "text/plain": [
       "'2014-12-01 00:00:00'"
      ]
     },
     "execution_count": 143,
     "metadata": {},
     "output_type": "execute_result"
    }
   ],
   "source": [
    "s.index[0]"
   ]
  },
  {
   "cell_type": "code",
   "execution_count": 146,
   "metadata": {},
   "outputs": [],
   "source": [
    "import datetime"
   ]
  },
  {
   "cell_type": "code",
   "execution_count": 149,
   "metadata": {},
   "outputs": [],
   "source": [
    "dif = datetime.datetime.strptime(s.index[-1], '%Y-%m-%d %H:%M:%S')-datetime.datetime.strptime(s.index[0], '%Y-%m-%d %H:%M:%S')"
   ]
  },
  {
   "cell_type": "code",
   "execution_count": 152,
   "metadata": {},
   "outputs": [
    {
     "data": {
      "text/plain": [
       "datetime.timedelta(364, 82800)"
      ]
     },
     "execution_count": 152,
     "metadata": {},
     "output_type": "execute_result"
    }
   ],
   "source": [
    "dif"
   ]
  },
  {
   "cell_type": "code",
   "execution_count": 150,
   "metadata": {},
   "outputs": [
    {
     "data": {
      "text/plain": [
       "True"
      ]
     },
     "execution_count": 150,
     "metadata": {},
     "output_type": "execute_result"
    }
   ],
   "source": [
    "datetime.timedelta(days=365) > dif"
   ]
  },
  {
   "cell_type": "code",
   "execution_count": 151,
   "metadata": {},
   "outputs": [
    {
     "data": {
      "text/plain": [
       "datetime.timedelta(365)"
      ]
     },
     "execution_count": 151,
     "metadata": {},
     "output_type": "execute_result"
    }
   ],
   "source": [
    "datetime.timedelta(days=365)"
   ]
  },
  {
   "cell_type": "code",
   "execution_count": 153,
   "metadata": {},
   "outputs": [
    {
     "data": {
      "text/plain": [
       "8757"
      ]
     },
     "execution_count": 153,
     "metadata": {},
     "output_type": "execute_result"
    }
   ],
   "source": [
    "len(s.index)"
   ]
  },
  {
   "cell_type": "code",
   "execution_count": 154,
   "metadata": {},
   "outputs": [],
   "source": [
    "b = test.iloc[:8757]"
   ]
  },
  {
   "cell_type": "code",
   "execution_count": 156,
   "metadata": {},
   "outputs": [
    {
     "data": {
      "text/plain": [
       "(8757, 85)"
      ]
     },
     "execution_count": 156,
     "metadata": {},
     "output_type": "execute_result"
    }
   ],
   "source": [
    "b.shape"
   ]
  },
  {
   "cell_type": "code",
   "execution_count": null,
   "metadata": {},
   "outputs": [],
   "source": []
  }
 ],
 "metadata": {
  "anaconda-cloud": {},
  "kernelspec": {
   "display_name": "Python [default]",
   "language": "python",
   "name": "python3"
  },
  "language_info": {
   "codemirror_mode": {
    "name": "ipython",
    "version": 3
   },
   "file_extension": ".py",
   "mimetype": "text/x-python",
   "name": "python",
   "nbconvert_exporter": "python",
   "pygments_lexer": "ipython3",
   "version": "3.6.7"
  }
 },
 "nbformat": 4,
 "nbformat_minor": 2
}
