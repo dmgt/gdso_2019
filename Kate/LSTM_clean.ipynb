{
 "cells": [
  {
   "cell_type": "code",
   "execution_count": 1,
   "metadata": {},
   "outputs": [
    {
     "name": "stderr",
     "output_type": "stream",
     "text": [
      "/Users/cgroschner/Documents/gdso_2019/Kate/venv/lib/python3.6/site-packages/h5py/__init__.py:36: FutureWarning: Conversion of the second argument of issubdtype from `float` to `np.floating` is deprecated. In future, it will be treated as `np.float64 == np.dtype(float).type`.\n",
      "  from ._conv import register_converters as _register_converters\n",
      "Using TensorFlow backend.\n"
     ]
    }
   ],
   "source": [
    "import pandas as pd\n",
    "import numpy as np\n",
    "from sklearn.model_selection import StratifiedShuffleSplit\n",
    "from numpy import random\n",
    "import matplotlib.pyplot as plt\n",
    "from keras import Sequential, Model\n",
    "from keras.backend import tensorflow_backend as K\n",
    "from keras.layers import LSTM, Dense, Conv1D, Input, concatenate, Flatten\n",
    "from keras.callbacks import EarlyStopping, ModelCheckpoint\n",
    "from sklearn.preprocessing import MinMaxScaler"
   ]
  },
  {
   "cell_type": "markdown",
   "metadata": {},
   "source": [
    "## Import data and shape for basic LSTM"
   ]
  },
  {
   "cell_type": "code",
   "execution_count": 10,
   "metadata": {},
   "outputs": [],
   "source": [
    "def reshape_input(df,drop_col):\n",
    "    max_area = df['area'].max()\n",
    "    X = []\n",
    "    df = df.drop(columns=drop_col)\n",
    "    for bldg in df['building_name'].drop_duplicates():\n",
    "        X_n = []\n",
    "        subset = df[df['building_name']==bldg]\n",
    "        subset['area'] = subset['area']/max_area\n",
    "        subset = subset.drop(columns=['building_name'])\n",
    "        for row in subset.iterrows():\n",
    "            row = np.array(row[-1])\n",
    "            X_n.append(row)\n",
    "        X.append(X_n)\n",
    "    X = np.array(X)\n",
    "    return X"
   ]
  },
  {
   "cell_type": "code",
   "execution_count": 17,
   "metadata": {},
   "outputs": [],
   "source": [
    "def reshape_output(df):\n",
    "    Y = []\n",
    "    for bldg in df['building_name'].drop_duplicates():\n",
    "        Y_n = []\n",
    "        subset = df[df['building_name']==bldg]\n",
    "        subset = subset[['electricity']]\n",
    "        for row in subset.iterrows():\n",
    "            row = np.array(row[-1])\n",
    "            Y_n.append(row)\n",
    "        Y.append(Y_n)\n",
    "    Y = np.array(Y)\n",
    "    if len(Y.shape) > 2:\n",
    "        Y = Y.reshape((Y.shape[0],Y.shape[1]))\n",
    "    return Y"
   ]
  },
  {
   "cell_type": "code",
   "execution_count": 6,
   "metadata": {},
   "outputs": [],
   "source": [
    "trainX = pd.read_csv('/Users/cgroschner/Desktop/pdTrainX.csv')\n",
    "trainY = pd.read_csv('/Users/cgroschner/Desktop/pdTrainY.csv')\n",
    "testX = pd.read_csv('/Users/cgroschner/Desktop/pdTestX.csv')\n",
    "testY = pd.read_csv('/Users/cgroschner/Downloads/pdTestY.csv')"
   ]
  },
  {
   "cell_type": "code",
   "execution_count": 12,
   "metadata": {},
   "outputs": [],
   "source": [
    "drop_col = ['Unnamed: 0','timestamp','weather_file','primary_space_usage','month', 'hour', 'weekday','industry']"
   ]
  },
  {
   "cell_type": "code",
   "execution_count": 13,
   "metadata": {},
   "outputs": [
    {
     "name": "stderr",
     "output_type": "stream",
     "text": [
      "/Users/cgroschner/Documents/gdso_2019/Kate/venv/lib/python3.6/site-packages/ipykernel_launcher.py:8: SettingWithCopyWarning: \n",
      "A value is trying to be set on a copy of a slice from a DataFrame.\n",
      "Try using .loc[row_indexer,col_indexer] = value instead\n",
      "\n",
      "See the caveats in the documentation: http://pandas.pydata.org/pandas-docs/stable/indexing.html#indexing-view-versus-copy\n",
      "  \n"
     ]
    }
   ],
   "source": [
    "trainX = reshape_input(trainX,drop_col)\n",
    "testX = reshape_input(testX,drop_col)"
   ]
  },
  {
   "cell_type": "code",
   "execution_count": null,
   "metadata": {},
   "outputs": [],
   "source": [
    "trainY = reshape_output(trainY)\n",
    "testY = reshape_output(testY)"
   ]
  },
  {
   "cell_type": "code",
   "execution_count": 20,
   "metadata": {},
   "outputs": [],
   "source": [
    "trainY = trainY.reshape((trainY.shape[0],trainY.shape[1]))\n",
    "testY = testY.reshape((testY.shape[0],testY.shape[1]))"
   ]
  },
  {
   "cell_type": "markdown",
   "metadata": {},
   "source": [
    "## Training Vanilla LSTM with only electricity data"
   ]
  },
  {
   "cell_type": "code",
   "execution_count": 15,
   "metadata": {},
   "outputs": [],
   "source": [
    "save_weights = '/Users/cgroschner/Desktop/lstmBasic.h5'\n",
    "\n",
    "\n",
    "earlyStopping = EarlyStopping(monitor='loss',\n",
    "                              patience=2,\n",
    "                              verbose=2,\n",
    "                              min_delta = 0.001,\n",
    "                              mode='min',)\n",
    "\n",
    "modelCheckpoint = ModelCheckpoint(save_weights,\n",
    "                                  monitor = 'loss',\n",
    "                                  save_best_only = True,\n",
    "                                  mode = 'min',\n",
    "                                  verbose = 2,\n",
    "                                  save_weights_only = True)\n",
    "callbacks_list = [modelCheckpoint,earlyStopping]\n",
    "\n",
    "model = Sequential()\n",
    "model.add(LSTM(128, input_shape=(2160,1)))\n",
    "model.add(Dense(6600))\n",
    "model.compile(loss='mean_absolute_error', optimizer='adam')"
   ]
  },
  {
   "cell_type": "code",
   "execution_count": 21,
   "metadata": {},
   "outputs": [
    {
     "name": "stdout",
     "output_type": "stream",
     "text": [
      "Epoch 1/5\n",
      " - 425s - loss: 111.0206\n",
      "\n",
      "Epoch 00001: loss improved from inf to 111.02065, saving model to /Users/cgroschner/Desktop/lstmBasic.h5\n",
      "Epoch 2/5\n",
      " - 421s - loss: 104.5974\n",
      "\n",
      "Epoch 00002: loss improved from 111.02065 to 104.59739, saving model to /Users/cgroschner/Desktop/lstmBasic.h5\n",
      "Epoch 3/5\n",
      " - 422s - loss: 103.5116\n",
      "\n",
      "Epoch 00003: loss improved from 104.59739 to 103.51160, saving model to /Users/cgroschner/Desktop/lstmBasic.h5\n",
      "Epoch 4/5\n",
      " - 419s - loss: 103.0084\n",
      "\n",
      "Epoch 00004: loss improved from 103.51160 to 103.00845, saving model to /Users/cgroschner/Desktop/lstmBasic.h5\n",
      "Epoch 5/5\n",
      " - 419s - loss: 102.4604\n",
      "\n",
      "Epoch 00005: loss improved from 103.00845 to 102.46041, saving model to /Users/cgroschner/Desktop/lstmBasic.h5\n"
     ]
    },
    {
     "data": {
      "text/plain": [
       "<keras.callbacks.History at 0x187cba6a0>"
      ]
     },
     "execution_count": 21,
     "metadata": {},
     "output_type": "execute_result"
    }
   ],
   "source": [
    "model.fit(trainX[:,:,0:1], trainY, epochs=5, batch_size=1, verbose=2,callbacks=callbacks_list)"
   ]
  },
  {
   "cell_type": "markdown",
   "metadata": {},
   "source": [
    "## Testing Vanilla LSTM with only electricity"
   ]
  },
  {
   "cell_type": "code",
   "execution_count": 24,
   "metadata": {},
   "outputs": [],
   "source": [
    "def NMBE(y, y_pred):\n",
    "    assert len(y) == len(y_pred)\n",
    "    res = np.array([])\n",
    "    for i in range(len(y)):\n",
    "        res = np.append(res, np.mean(y[i] - y_pred[i])*100/np.mean(y[i]))\n",
    "    return res"
   ]
  },
  {
   "cell_type": "code",
   "execution_count": 25,
   "metadata": {},
   "outputs": [],
   "source": [
    "def CVRMSE(y, y_pred):\n",
    "    assert len(y) == len(y_pred)\n",
    "    res = np.array([])\n",
    "    for i in range(len(y)):\n",
    "        res = np.append(res, np.sqrt(np.mean(np.square(y[i] - y_pred[i])))*100/np.mean(y[i]))\n",
    "    return res"
   ]
  },
  {
   "cell_type": "code",
   "execution_count": 26,
   "metadata": {},
   "outputs": [],
   "source": [
    "predicted = model.predict(testX[:,:,0:1])"
   ]
  },
  {
   "cell_type": "code",
   "execution_count": 36,
   "metadata": {},
   "outputs": [],
   "source": [
    "np.save('lstmBasic_pred.npy',predicted)"
   ]
  },
  {
   "cell_type": "code",
   "execution_count": 37,
   "metadata": {},
   "outputs": [],
   "source": [
    "np.save('lstmBasic_yTrue.npy',testY)"
   ]
  },
  {
   "cell_type": "code",
   "execution_count": 27,
   "metadata": {},
   "outputs": [],
   "source": [
    "nmbe = NMBE(testY, predicted)"
   ]
  },
  {
   "cell_type": "code",
   "execution_count": 48,
   "metadata": {},
   "outputs": [
    {
     "data": {
      "text/plain": [
       "-179.07803214310047"
      ]
     },
     "execution_count": 48,
     "metadata": {},
     "output_type": "execute_result"
    }
   ],
   "source": [
    "nmbe.mean()"
   ]
  },
  {
   "cell_type": "code",
   "execution_count": 49,
   "metadata": {},
   "outputs": [
    {
     "data": {
      "text/plain": [
       "33.516647603653155"
      ]
     },
     "execution_count": 49,
     "metadata": {},
     "output_type": "execute_result"
    }
   ],
   "source": [
    "np.median(nmbe)"
   ]
  },
  {
   "cell_type": "code",
   "execution_count": 34,
   "metadata": {},
   "outputs": [
    {
     "data": {
      "image/png": "[encoded data removed]",
      "text/plain": [
       "<Figure size 720x360 with 1 Axes>"
      ]
     },
     "metadata": {},
     "output_type": "display_data"
    }
   ],
   "source": [
    "plt.figure(figsize=(10, 5))\n",
    "plt.hist(nmbe, bins=20, range=[-2500,0])\n",
    "plt.title('Distribution of NMBE')\n",
    "plt.xlabel('NMBE(%)')\n",
    "plt.ylabel('Count');\n",
    "plt.savefig('Dist_NMBE_Basic.png')\n"
   ]
  },
  {
   "cell_type": "code",
   "execution_count": 39,
   "metadata": {},
   "outputs": [],
   "source": [
    "abigailX = pd.read_csv('/Users/cgroschner/Desktop/pdTrainX.csv')\n",
    "abigailX = abigailX[abigailX['building_name']=='Office_Abigail']\n",
    "abigailY = pd.read_csv('/Users/cgroschner/Desktop/pdTrainY.csv')\n",
    "abigailY = abigailY[abigailY['building_name']=='Office_Abigail']"
   ]
  },
  {
   "cell_type": "code",
   "execution_count": 40,
   "metadata": {},
   "outputs": [],
   "source": [
    "abigailX = reshape_input(abigailX,drop_col)"
   ]
  },
  {
   "cell_type": "code",
   "execution_count": 41,
   "metadata": {},
   "outputs": [],
   "source": [
    "abigailY = reshape_output(abigailY)"
   ]
  },
  {
   "cell_type": "code",
   "execution_count": 42,
   "metadata": {},
   "outputs": [],
   "source": [
    "abigail_pred = model.predict(abigailX[:,:,0:1])"
   ]
  },
  {
   "cell_type": "code",
   "execution_count": 43,
   "metadata": {},
   "outputs": [
    {
     "data": {
      "text/plain": [
       "(1, 6600)"
      ]
     },
     "execution_count": 43,
     "metadata": {},
     "output_type": "execute_result"
    }
   ],
   "source": [
    "abigailY.shape"
   ]
  },
  {
   "cell_type": "code",
   "execution_count": 44,
   "metadata": {},
   "outputs": [
    {
     "data": {
      "text/plain": [
       "(1, 6600)"
      ]
     },
     "execution_count": 44,
     "metadata": {},
     "output_type": "execute_result"
    }
   ],
   "source": [
    "abigail_pred.shape"
   ]
  },
  {
   "cell_type": "code",
   "execution_count": 50,
   "metadata": {},
   "outputs": [
    {
     "data": {
      "image/png": "[encoded data removed]",
      "text/plain": [
       "<Figure size 720x360 with 1 Axes>"
      ]
     },
     "metadata": {},
     "output_type": "display_data"
    }
   ],
   "source": [
    "plt.figure(figsize=(10, 5))\n",
    "plt.plot(abigailY[0][:720], label='observed')\n",
    "plt.plot(abigail_pred[0][:720], label='predicted')\n",
    "plt.ylabel('Electricity consumption(KWh)')\n",
    "plt.xlabel('Hours elapsed')\n",
    "# plt.legend();\n",
    "plt.savefig('lstmBasic_officeAbigail.png')"
   ]
  },
  {
   "cell_type": "code",
   "execution_count": null,
   "metadata": {},
   "outputs": [],
   "source": []
  }
 ],
 "metadata": {
  "kernelspec": {
   "display_name": "Python 3",
   "language": "python",
   "name": "python3"
  },
  "language_info": {
   "codemirror_mode": {
    "name": "ipython",
    "version": 3
   },
   "file_extension": ".py",
   "mimetype": "text/x-python",
   "name": "python",
   "nbconvert_exporter": "python",
   "pygments_lexer": "ipython3",
   "version": "3.6.4"
  }
 },
 "nbformat": 4,
 "nbformat_minor": 2
}
