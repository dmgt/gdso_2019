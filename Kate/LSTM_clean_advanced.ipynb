{
 "cells": [
  {
   "cell_type": "code",
   "execution_count": 1,
   "metadata": {},
   "outputs": [
    {
     "name": "stderr",
     "output_type": "stream",
     "text": [
      "/Users/cgroschner/Documents/gdso_2019/Kate/venv/lib/python3.6/site-packages/h5py/__init__.py:36: FutureWarning: Conversion of the second argument of issubdtype from `float` to `np.floating` is deprecated. In future, it will be treated as `np.float64 == np.dtype(float).type`.\n",
      "  from ._conv import register_converters as _register_converters\n",
      "Using TensorFlow backend.\n"
     ]
    }
   ],
   "source": [
    "import pandas as pd\n",
    "import numpy as np\n",
    "from sklearn.model_selection import StratifiedShuffleSplit\n",
    "from numpy import random\n",
    "import matplotlib.pyplot as plt\n",
    "from keras import Sequential, Model\n",
    "from keras.backend import tensorflow_backend as K\n",
    "from keras.layers import LSTM, Dense, Conv1D, Input, concatenate, Flatten\n",
    "from keras.callbacks import EarlyStopping, ModelCheckpoint\n",
    "from sklearn.preprocessing import MinMaxScaler"
   ]
  },
  {
   "cell_type": "markdown",
   "metadata": {},
   "source": [
    "## Training Vanilla LSTM with all features"
   ]
  },
  {
   "cell_type": "code",
   "execution_count": 2,
   "metadata": {},
   "outputs": [],
   "source": [
    "save_weights = '/Users/cgroschner/Desktop/lstmBasic_All.h5'\n",
    "\n",
    "\n",
    "earlyStopping = EarlyStopping(monitor='loss',\n",
    "                              patience=2,\n",
    "                              verbose=2,\n",
    "                              min_delta = 0.001,\n",
    "                              mode='min',)\n",
    "\n",
    "modelCheckpoint = ModelCheckpoint(save_weights,\n",
    "                                  monitor = 'loss',\n",
    "                                  save_best_only = True,\n",
    "                                  mode = 'min',\n",
    "                                  verbose = 2,\n",
    "                                  save_weights_only = True)\n",
    "callbacks_list = [modelCheckpoint,earlyStopping]\n",
    "\n",
    "model2 = Sequential()\n",
    "model2.add(LSTM(128, input_shape=(2160,54)))\n",
    "model2.add(Dense(6600))\n",
    "model2.compile(loss='mean_absolute_error', optimizer='adam')"
   ]
  },
  {
   "cell_type": "code",
   "execution_count": null,
   "metadata": {},
   "outputs": [],
   "source": [
    "model2.fit(trainX, trainY, epochs=5, batch_size=1, verbose=2,callbacks=callbacks_list)"
   ]
  }
 ],
 "metadata": {
  "kernelspec": {
   "display_name": "Python 3",
   "language": "python",
   "name": "python3"
  },
  "language_info": {
   "codemirror_mode": {
    "name": "ipython",
    "version": 3
   },
   "file_extension": ".py",
   "mimetype": "text/x-python",
   "name": "python",
   "nbconvert_exporter": "python",
   "pygments_lexer": "ipython3",
   "version": "3.6.4"
  }
 },
 "nbformat": 4,
 "nbformat_minor": 2
}
